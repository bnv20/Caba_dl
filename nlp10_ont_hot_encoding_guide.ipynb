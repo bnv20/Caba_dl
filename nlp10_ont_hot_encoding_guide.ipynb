{
  "nbformat": 4,
  "nbformat_minor": 0,
  "metadata": {
    "colab": {
      "name": "nlp10_ont-hot-encoding_guide.ipynb",
      "provenance": [],
      "collapsed_sections": [],
      "authorship_tag": "ABX9TyMyVFFM39diDkzvXK1lorEL",
      "include_colab_link": true
    },
    "kernelspec": {
      "name": "python3",
      "display_name": "Python 3"
    }
  },
  "cells": [
    {
      "cell_type": "markdown",
      "metadata": {
        "id": "view-in-github",
        "colab_type": "text"
      },
      "source": [
        "<a href=\"https://colab.research.google.com/github/bnv20/Caba_dl/blob/main/nlp10_ont_hot_encoding_guide.ipynb\" target=\"_parent\"><img src=\"https://colab.research.google.com/assets/colab-badge.svg\" alt=\"Open In Colab\"/></a>"
      ]
    },
    {
      "cell_type": "markdown",
      "metadata": {
        "id": "S-4_lo_guQZq"
      },
      "source": [
        "### 단어와 문자의 원-핫 인코딩"
      ]
    },
    {
      "cell_type": "markdown",
      "metadata": {
        "id": "GzN_4DuFulqI"
      },
      "source": [
        "넘파이를 이용한 원-핫 인코딩\r\n",
        "\r\n",
        "- 원-핫 인코딩은 토큰을 벡터로 변환하는 가장 일반적이고 기본적인 방법입니다. \r\n",
        "- 모든 단어에 고유한 정수 인덱스를 부여하고 이 정수 인덱스 i를 크기가 N(어휘 사전의 크기)인 이진 벡터로 변환합니다. \r\n",
        "- 이 벡터는 i번째 원소만 1이고 나머지는 모두 0입니다.\r\n",
        "\r\n",
        "- 물론 원-핫 인코딩은 문자 수준에서도 적용할 수 있습니다. "
      ]
    },
    {
      "cell_type": "code",
      "metadata": {
        "id": "S5xMLmAItxzG"
      },
      "source": [
        "# 단어 수준 원-핫 인코딩\r\n",
        "import numpy as np\r\n",
        "\r\n",
        "samples = ['The cat sat on the mat.','The dog ate my homework.']\r\n",
        "token_index = {}\r\n",
        "for sample in samples:\r\n",
        "  for word in sample.split():\r\n",
        "    if word not in token_index:\r\n",
        "      token_index[word] = len(token_index) + 1  # 인덱스 0은 사용하지 않는다.\r\n",
        "max_length  =10\r\n",
        "# 결과를 저장할 배열\r\n",
        "results = np.zeros((len(samples), max_length, max(token_index.values())+1)) # 3차원(2,10,11)\r\n",
        "\r\n",
        "for i, sample in enumerate(samples):\r\n",
        "  for j, word in list(enumerate(sample.split()))[:max_length]:\r\n",
        "    index = token_index.get(word)\r\n",
        "    results[i,j,index] = 1.\r\n"
      ],
      "execution_count": 1,
      "outputs": []
    },
    {
      "cell_type": "code",
      "metadata": {
        "colab": {
          "base_uri": "https://localhost:8080/"
        },
        "id": "uzh_vHQvw3zT",
        "outputId": "2417be36-3df5-40a2-c555-6f9c21e964ee"
      },
      "source": [
        "results"
      ],
      "execution_count": 2,
      "outputs": [
        {
          "output_type": "execute_result",
          "data": {
            "text/plain": [
              "array([[[0., 1., 0., 0., 0., 0., 0., 0., 0., 0., 0.],\n",
              "        [0., 0., 1., 0., 0., 0., 0., 0., 0., 0., 0.],\n",
              "        [0., 0., 0., 1., 0., 0., 0., 0., 0., 0., 0.],\n",
              "        [0., 0., 0., 0., 1., 0., 0., 0., 0., 0., 0.],\n",
              "        [0., 0., 0., 0., 0., 1., 0., 0., 0., 0., 0.],\n",
              "        [0., 0., 0., 0., 0., 0., 1., 0., 0., 0., 0.],\n",
              "        [0., 0., 0., 0., 0., 0., 0., 0., 0., 0., 0.],\n",
              "        [0., 0., 0., 0., 0., 0., 0., 0., 0., 0., 0.],\n",
              "        [0., 0., 0., 0., 0., 0., 0., 0., 0., 0., 0.],\n",
              "        [0., 0., 0., 0., 0., 0., 0., 0., 0., 0., 0.]],\n",
              "\n",
              "       [[0., 1., 0., 0., 0., 0., 0., 0., 0., 0., 0.],\n",
              "        [0., 0., 0., 0., 0., 0., 0., 1., 0., 0., 0.],\n",
              "        [0., 0., 0., 0., 0., 0., 0., 0., 1., 0., 0.],\n",
              "        [0., 0., 0., 0., 0., 0., 0., 0., 0., 1., 0.],\n",
              "        [0., 0., 0., 0., 0., 0., 0., 0., 0., 0., 1.],\n",
              "        [0., 0., 0., 0., 0., 0., 0., 0., 0., 0., 0.],\n",
              "        [0., 0., 0., 0., 0., 0., 0., 0., 0., 0., 0.],\n",
              "        [0., 0., 0., 0., 0., 0., 0., 0., 0., 0., 0.],\n",
              "        [0., 0., 0., 0., 0., 0., 0., 0., 0., 0., 0.],\n",
              "        [0., 0., 0., 0., 0., 0., 0., 0., 0., 0., 0.]]])"
            ]
          },
          "metadata": {
            "tags": []
          },
          "execution_count": 2
        }
      ]
    },
    {
      "cell_type": "code",
      "metadata": {
        "colab": {
          "base_uri": "https://localhost:8080/"
        },
        "id": "6qsfq_e5xL6h",
        "outputId": "47837661-b11a-4ae1-e257-6cab96ca797b"
      },
      "source": [
        "max(token_index.values())+1\r\n",
        "token_index.values()"
      ],
      "execution_count": 4,
      "outputs": [
        {
          "output_type": "execute_result",
          "data": {
            "text/plain": [
              "dict_values([1, 2, 3, 4, 5, 6, 7, 8, 9, 10])"
            ]
          },
          "metadata": {
            "tags": []
          },
          "execution_count": 4
        }
      ]
    },
    {
      "cell_type": "code",
      "metadata": {
        "colab": {
          "base_uri": "https://localhost:8080/"
        },
        "id": "QxbLjLc0xdFh",
        "outputId": "5cd56313-bfea-44f7-9ff3-23845e2a7d45"
      },
      "source": [
        "token_index"
      ],
      "execution_count": 5,
      "outputs": [
        {
          "output_type": "execute_result",
          "data": {
            "text/plain": [
              "{'The': 1,\n",
              " 'ate': 8,\n",
              " 'cat': 2,\n",
              " 'dog': 7,\n",
              " 'homework.': 10,\n",
              " 'mat.': 6,\n",
              " 'my': 9,\n",
              " 'on': 4,\n",
              " 'sat': 3,\n",
              " 'the': 5}"
            ]
          },
          "metadata": {
            "tags": []
          },
          "execution_count": 5
        }
      ]
    },
    {
      "cell_type": "code",
      "metadata": {
        "id": "IReoj7P6ycgq"
      },
      "source": [
        "# 문자 수준 원-핫 인코딩\r\n",
        "import string\r\n",
        "characters = string.printable  # 출력 가능한 모든 아스키(ASCII) 문자\r\n",
        "token_index = dict(zip(characters, range(1, len(characters) + 1)))\r\n",
        "\r\n",
        "max_length = 50\r\n",
        "results = np.zeros((len(samples), max_length, max(token_index.values())+1))\r\n",
        "for i, sample in enumerate(samples):\r\n",
        "  for j, character in enumerate(sample[:max_length]):\r\n",
        "    index = token_index.get(character)\r\n",
        "    results[i,j,index] = 1."
      ],
      "execution_count": 7,
      "outputs": []
    },
    {
      "cell_type": "code",
      "metadata": {
        "colab": {
          "base_uri": "https://localhost:8080/"
        },
        "id": "tQe5KsLb0QvR",
        "outputId": "901b63ed-26bc-4425-ac0f-c7d71539f6a8"
      },
      "source": [
        "results"
      ],
      "execution_count": 8,
      "outputs": [
        {
          "output_type": "execute_result",
          "data": {
            "text/plain": [
              "array([[[0., 0., 0., ..., 0., 0., 0.],\n",
              "        [0., 0., 0., ..., 0., 0., 0.],\n",
              "        [0., 0., 0., ..., 0., 0., 0.],\n",
              "        ...,\n",
              "        [0., 0., 0., ..., 0., 0., 0.],\n",
              "        [0., 0., 0., ..., 0., 0., 0.],\n",
              "        [0., 0., 0., ..., 0., 0., 0.]],\n",
              "\n",
              "       [[0., 0., 0., ..., 0., 0., 0.],\n",
              "        [0., 0., 0., ..., 0., 0., 0.],\n",
              "        [0., 0., 0., ..., 0., 0., 0.],\n",
              "        ...,\n",
              "        [0., 0., 0., ..., 0., 0., 0.],\n",
              "        [0., 0., 0., ..., 0., 0., 0.],\n",
              "        [0., 0., 0., ..., 0., 0., 0.]]])"
            ]
          },
          "metadata": {
            "tags": []
          },
          "execution_count": 8
        }
      ]
    },
    {
      "cell_type": "markdown",
      "metadata": {
        "id": "TeF_rsQV2qXW"
      },
      "source": [
        "### 케라스를 사용한 원-핫 인코딩\r\n",
        "\r\n",
        "- Keras는 여러 텍스트 문서를 준비하는 데 적합하고 재사용 할 수 있는 텍스트 준비를 위한 보다 정교한 API를 제공합니다.\r\n",
        "- Keras는 딥러닝을 위해 텍스트 문서를 준비하기 위한 Tokenizer 클래스를 제공합니다 . \r\n",
        "- Tokenizer를 구축하고 원시 텍스트 문서 또는 정수로 인코딩합니다.\r\n",
        "- Tokenizer가 학습 데이터에 적합하면  테스트 데이터세트의 문서를 인코딩하는 데 사용할 수 있습니다. \r\n",
        "- Tokenizer의 texts_to_matrix () 함수는 입력별로 제공되는 문서 당 하나의 벡터를 만드는 데 사용할 수 있습니다. 벡터의 길이는 어휘의 전체 크기입니다.\r\n",
        "- 이 함수는 함수에 대한 모드 인수를 통해 제공될 수 있는 표준 bag-of-word 모델 텍스트 인코딩 체계 모음을 제공"
      ]
    },
    {
      "cell_type": "code",
      "metadata": {
        "colab": {
          "base_uri": "https://localhost:8080/"
        },
        "id": "N3DPD1AqyU47",
        "outputId": "731a5979-c111-4986-971e-9c156303f54c"
      },
      "source": [
        "from keras.preprocessing.text import Tokenizer\r\n",
        "\r\n",
        "samples = ['The cat sat on the mat.','The dog ate my homework.']\r\n",
        "\r\n",
        "# 가장 빈도가 높은 1,000개의 단어만 선택하도록 Tokenizer 객체를 생성\r\n",
        "tokenizer = Tokenizer(num_words=1000)\r\n",
        "# 단어 인덱스를 구축\r\n",
        "tokenizer.fit_on_texts(samples)\r\n",
        "\r\n",
        "# 문자열을 정수 인덱스의 리스트로 변환\r\n",
        "sequences = tokenizer.texts_to_sequences(samples)\r\n",
        "\r\n",
        "one_hot_results = tokenizer.texts_to_matrix(samples,mode='binary')\r\n",
        "\r\n",
        "# 계산된 단어 인덱스를 도출\r\n",
        "word_index = tokenizer.word_index\r\n",
        "print('Found %s unique tokens' % len(word_index))\r\n",
        "\r\n",
        "samples = ['The cat sat on the mat.','The dog ate my homework.']"
      ],
      "execution_count": 10,
      "outputs": [
        {
          "output_type": "stream",
          "text": [
            "Found 9 unique tokens\n"
          ],
          "name": "stdout"
        }
      ]
    },
    {
      "cell_type": "code",
      "metadata": {
        "colab": {
          "base_uri": "https://localhost:8080/"
        },
        "id": "tf8KotB36NbA",
        "outputId": "103180a5-6e66-4304-eb6d-b2fc37d9cae9"
      },
      "source": [
        "print(sequences)\r\n",
        "print(one_hot_results)\r\n",
        "print(word_index)"
      ],
      "execution_count": 11,
      "outputs": [
        {
          "output_type": "stream",
          "text": [
            "[[1, 2, 3, 4, 1, 5], [1, 6, 7, 8, 9]]\n",
            "[[0. 1. 1. ... 0. 0. 0.]\n",
            " [0. 1. 0. ... 0. 0. 0.]]\n",
            "{'the': 1, 'cat': 2, 'sat': 3, 'on': 4, 'mat': 5, 'dog': 6, 'ate': 7, 'my': 8, 'homework': 9}\n"
          ],
          "name": "stdout"
        }
      ]
    },
    {
      "cell_type": "code",
      "metadata": {
        "colab": {
          "base_uri": "https://localhost:8080/"
        },
        "id": "7OkbAV9d7UAR",
        "outputId": "bf367a8c-daef-4beb-b04b-7b85a9b3ad9c"
      },
      "source": [
        "one_hot_results[0][:20]"
      ],
      "execution_count": 15,
      "outputs": [
        {
          "output_type": "execute_result",
          "data": {
            "text/plain": [
              "array([0., 1., 1., 1., 1., 1., 0., 0., 0., 0., 0., 0., 0., 0., 0., 0., 0.,\n",
              "       0., 0., 0.])"
            ]
          },
          "metadata": {
            "tags": []
          },
          "execution_count": 15
        }
      ]
    }
  ]
}