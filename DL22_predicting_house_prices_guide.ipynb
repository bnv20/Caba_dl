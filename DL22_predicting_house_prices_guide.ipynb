{
  "nbformat": 4,
  "nbformat_minor": 0,
  "metadata": {
    "colab": {
      "name": "DL22_predicting-house-prices_guide.ipynb",
      "provenance": [],
      "collapsed_sections": [],
      "authorship_tag": "ABX9TyOGgxPS/1fa5IpheupwQKEE",
      "include_colab_link": true
    },
    "kernelspec": {
      "name": "python3",
      "display_name": "Python 3"
    }
  },
  "cells": [
    {
      "cell_type": "markdown",
      "metadata": {
        "id": "view-in-github",
        "colab_type": "text"
      },
      "source": [
        "<a href=\"https://colab.research.google.com/github/bnv20/Caba_dl/blob/main/DL22_predicting_house_prices_guide.ipynb\" target=\"_parent\"><img src=\"https://colab.research.google.com/assets/colab-badge.svg\" alt=\"Open In Colab\"/></a>"
      ]
    },
    {
      "cell_type": "markdown",
      "metadata": {
        "id": "njG6XNjoy8_a"
      },
      "source": [
        "## 보스턴 주택 가격 데이터셋\r\n",
        "\r\n",
        "1970년 중반 보스턴 외곽 지역의 범죄율, 지방세율 등의 데이터가 주어졌을 때 주택 가격의 중간 값을 예측해 보겠습니다.\r\n",
        "\r\n",
        "여기서 사용할 데이터셋은 이전 두 개의 예제와 다릅니다. 데이터 포인트가 506개로 비교적 개수가 적고 404개는 훈련 샘플로 102개는 테스트 샘플로 나누어져 있습니다. 입력 데이터에 있는 각 특성(예를 들어 범죄율)은 스케일이 서로 다릅니다. 어떤 값은 0과 1 사이의 비율을 나타내고 어떤 것은 1과 12 사이의 값을 가지거나 1과 100 사이의 값을 가집니다.\r\n",
        "\r\n",
        "입력 데이터 포인트의 개별적인 레이블 하나를 예측하는 것이 목적입니다. 개별적인 레이블 대신에 연속적인 값을 예측하는 회귀(regression)입니다."
      ]
    },
    {
      "cell_type": "code",
      "metadata": {
        "colab": {
          "base_uri": "https://localhost:8080/"
        },
        "id": "EBHKUXT8ysNI",
        "outputId": "05d631ed-01ac-4c29-df7b-e5306b5088c0"
      },
      "source": [
        "from keras.datasets import boston_housing\r\n",
        "\r\n",
        "(train_data, train_targets),(test_data,test_targets) = boston_housing.load_data()\r\n"
      ],
      "execution_count": 1,
      "outputs": [
        {
          "output_type": "stream",
          "text": [
            "Downloading data from https://storage.googleapis.com/tensorflow/tf-keras-datasets/boston_housing.npz\n",
            "57344/57026 [==============================] - 0s 0us/step\n"
          ],
          "name": "stdout"
        }
      ]
    },
    {
      "cell_type": "code",
      "metadata": {
        "colab": {
          "base_uri": "https://localhost:8080/"
        },
        "id": "e3mZi2Ts0BoD",
        "outputId": "b000b719-b37d-43e8-8a3d-2e1106150997"
      },
      "source": [
        "train_data.shape"
      ],
      "execution_count": null,
      "outputs": [
        {
          "output_type": "execute_result",
          "data": {
            "text/plain": [
              "(404, 13)"
            ]
          },
          "metadata": {
            "tags": []
          },
          "execution_count": 2
        }
      ]
    },
    {
      "cell_type": "code",
      "metadata": {
        "colab": {
          "base_uri": "https://localhost:8080/"
        },
        "id": "o7FMGEoB0HQz",
        "outputId": "62b48d21-511b-4346-b8b3-3c7147331d30"
      },
      "source": [
        "train_data[:5]"
      ],
      "execution_count": null,
      "outputs": [
        {
          "output_type": "execute_result",
          "data": {
            "text/plain": [
              "array([[1.23247e+00, 0.00000e+00, 8.14000e+00, 0.00000e+00, 5.38000e-01,\n",
              "        6.14200e+00, 9.17000e+01, 3.97690e+00, 4.00000e+00, 3.07000e+02,\n",
              "        2.10000e+01, 3.96900e+02, 1.87200e+01],\n",
              "       [2.17700e-02, 8.25000e+01, 2.03000e+00, 0.00000e+00, 4.15000e-01,\n",
              "        7.61000e+00, 1.57000e+01, 6.27000e+00, 2.00000e+00, 3.48000e+02,\n",
              "        1.47000e+01, 3.95380e+02, 3.11000e+00],\n",
              "       [4.89822e+00, 0.00000e+00, 1.81000e+01, 0.00000e+00, 6.31000e-01,\n",
              "        4.97000e+00, 1.00000e+02, 1.33250e+00, 2.40000e+01, 6.66000e+02,\n",
              "        2.02000e+01, 3.75520e+02, 3.26000e+00],\n",
              "       [3.96100e-02, 0.00000e+00, 5.19000e+00, 0.00000e+00, 5.15000e-01,\n",
              "        6.03700e+00, 3.45000e+01, 5.98530e+00, 5.00000e+00, 2.24000e+02,\n",
              "        2.02000e+01, 3.96900e+02, 8.01000e+00],\n",
              "       [3.69311e+00, 0.00000e+00, 1.81000e+01, 0.00000e+00, 7.13000e-01,\n",
              "        6.37600e+00, 8.84000e+01, 2.56710e+00, 2.40000e+01, 6.66000e+02,\n",
              "        2.02000e+01, 3.91430e+02, 1.46500e+01]])"
            ]
          },
          "metadata": {
            "tags": []
          },
          "execution_count": 3
        }
      ]
    },
    {
      "cell_type": "markdown",
      "metadata": {
        "id": "C6U1fdwn0csK"
      },
      "source": [
        "여기서 볼 수 있듯이 404개의 훈련 샘플과 102개의 테스트 샘플이 있고 모두 13개의 수치 특성을 가지고 있습니다. 13개의 특성은 다음과 같습니다:\r\n",
        "\r\n",
        "1. Per capita crime rate.\r\n",
        "2. Proportion of residential land zoned for lots over 25,000 square feet.\r\n",
        "3. Proportion of non-retail business acres per town.\r\n",
        "4. Charles River dummy variable (= 1 if tract bounds river; 0 otherwise).\r\n",
        "5. Nitric oxides concentration (parts per 10 million).\r\n",
        "6. Average number of rooms per dwelling.\r\n",
        "7. Proportion of owner-occupied units built prior to 1940.\r\n",
        "8. Weighted distances to five Boston employment centres.\r\n",
        "9. Index of accessibility to radial highways.\r\n",
        "10. Full-value property-tax rate per $10,000.\r\n",
        "11. Pupil-teacher ratio by town.\r\n",
        "12. 1000 * (Bk - 0.63) ** 2 where Bk is the proportion of Black people by town.\r\n",
        "13. % lower status of the population.\r\n",
        "\r\n",
        "타깃은 주택의 중간 가격으로 천달러 단위입니다:"
      ]
    },
    {
      "cell_type": "markdown",
      "metadata": {
        "id": "Ijr8W1uI1cGb"
      },
      "source": [
        "데이터 준비  \r\n",
        "상이한 스케일을 가진 값을 신경망에 주입하면 문제가 된다. 특성별로 정규화한다. 입력 데이터에 있는 각 특성에 대해서 특성의 평균을 빼고 표준편차로 나눈다."
      ]
    },
    {
      "cell_type": "code",
      "metadata": {
        "id": "WPtocOf00Yoy"
      },
      "source": [
        "mean = train_data.mean(axis=0)\r\n",
        "train_data -= mean\r\n",
        "std = train_data.std(axis=0)\r\n",
        "train_data /= std\r\n",
        "\r\n",
        "test_data -= mean\r\n",
        "test_data /= std \r\n"
      ],
      "execution_count": 2,
      "outputs": []
    },
    {
      "cell_type": "code",
      "metadata": {
        "colab": {
          "base_uri": "https://localhost:8080/"
        },
        "id": "vFmhhtu60evA",
        "outputId": "49b151ac-1292-4b77-92c9-0ca413931ea8"
      },
      "source": [
        "train_data[:5]"
      ],
      "execution_count": 19,
      "outputs": [
        {
          "output_type": "execute_result",
          "data": {
            "text/plain": [
              "array([[-0.27224633, -0.48361547, -0.43576161, -0.25683275, -0.1652266 ,\n",
              "        -0.1764426 ,  0.81306188,  0.1166983 , -0.62624905, -0.59517003,\n",
              "         1.14850044,  0.44807713,  0.8252202 ],\n",
              "       [-0.40342651,  2.99178419, -1.33391162, -0.25683275, -1.21518188,\n",
              "         1.89434613, -1.91036058,  1.24758524, -0.85646254, -0.34843254,\n",
              "        -1.71818909,  0.43190599, -1.32920239],\n",
              "       [ 0.1249402 , -0.48361547,  1.0283258 , -0.25683275,  0.62864202,\n",
              "        -1.82968811,  1.11048828, -1.18743907,  1.67588577,  1.5652875 ,\n",
              "         0.78447637,  0.22061726, -1.30850006],\n",
              "       [-0.40149354, -0.48361547, -0.86940196, -0.25683275, -0.3615597 ,\n",
              "        -0.3245576 , -1.23667187,  1.10717989, -0.51114231, -1.094663  ,\n",
              "         0.78447637,  0.44807713, -0.65292624],\n",
              "       [-0.0056343 , -0.48361547,  1.0283258 , -0.25683275,  1.32861221,\n",
              "         0.15364225,  0.69480801, -0.57857203,  1.67588577,  1.5652875 ,\n",
              "         0.78447637,  0.3898823 ,  0.26349695]])"
            ]
          },
          "metadata": {
            "tags": []
          },
          "execution_count": 19
        }
      ]
    },
    {
      "cell_type": "code",
      "metadata": {
        "colab": {
          "base_uri": "https://localhost:8080/"
        },
        "id": "zTfRaaw22zYz",
        "outputId": "26690af6-cb48-4ba6-9804-2bd82fea65c9"
      },
      "source": [
        "print(train_data.mean())\r\n",
        "print(train_data.std())"
      ],
      "execution_count": null,
      "outputs": [
        {
          "output_type": "stream",
          "text": [
            "2.602301889250862e-15\n",
            "0.9999999999999994\n"
          ],
          "name": "stdout"
        }
      ]
    },
    {
      "cell_type": "markdown",
      "metadata": {
        "id": "0kMGh2n30eR5"
      },
      "source": [
        "[경사하강법] https://twinw.tistory.com/247"
      ]
    },
    {
      "cell_type": "code",
      "metadata": {
        "id": "Tb1K-kNM3Jwb"
      },
      "source": [
        "# 모델 구성\r\n",
        "from keras import models\r\n",
        "from keras import layers\r\n",
        "\r\n",
        "def build_model():\r\n",
        "  model = models.Sequential()\r\n",
        "  model.add(layers.Dense(64, activation='relu',\r\n",
        "                         input_shape=(train_data.shape[1],)))\r\n",
        "  model.add(layers.Dense(64, activation='relu'))\r\n",
        "  model.add(layers.Dense(1))\r\n",
        "  \r\n",
        "  model.compile(optimizer='rmsprop',loss='mse', metrics=['mean_absolute_error'])\r\n",
        "  return model"
      ],
      "execution_count": 20,
      "outputs": []
    },
    {
      "cell_type": "code",
      "metadata": {
        "colab": {
          "base_uri": "https://localhost:8080/"
        },
        "id": "uNaLCTsV1WqI",
        "outputId": "8eb526f6-8b1e-4064-ef90-41df9c38712b"
      },
      "source": [
        "# K fold 검증\r\n",
        "\r\n",
        "import numpy as np\r\n",
        "\r\n",
        "k = 4\r\n",
        "num_val_samples = len(train_data) // k\r\n",
        "num_epochs = 100\r\n",
        "all_scores = []\r\n",
        "for i in range(k):\r\n",
        "    print('처리중인 폴드 #', i)\r\n",
        "    # 검증 데이터 준비: k번째 분할\r\n",
        "    val_data = train_data[i * num_val_samples: (i + 1) * num_val_samples]\r\n",
        "    val_targets = train_targets[i * num_val_samples: (i + 1) * num_val_samples]\r\n",
        "\r\n",
        "    # 훈련 데이터 준비: 다른 분할 전체\r\n",
        "    partial_train_data = np.concatenate(\r\n",
        "        [train_data[:i * num_val_samples],\r\n",
        "         train_data[(i + 1) * num_val_samples:]],\r\n",
        "        axis=0)\r\n",
        "    partial_train_targets = np.concatenate(\r\n",
        "        [train_targets[:i * num_val_samples],\r\n",
        "         train_targets[(i + 1) * num_val_samples:]],\r\n",
        "        axis=0)\r\n",
        "\r\n",
        "    # 케라스 모델 구성(컴파일 포함)\r\n",
        "    model = build_model()\r\n",
        "    # 모델 훈련(verbose=0 이므로 훈련 과정이 출력되지 않습니다)\r\n",
        "    model.fit(partial_train_data, partial_train_targets,\r\n",
        "              epochs=num_epochs, batch_size=1, verbose=0)\r\n",
        "    val_mse, val_mae = model.evaluate(val_data, val_targets, verbose=0)\r\n",
        "    all_scores.append(val_mae)"
      ],
      "execution_count": 22,
      "outputs": [
        {
          "output_type": "stream",
          "text": [
            "처리중인 폴드 # 0\n",
            "처리중인 폴드 # 1\n",
            "처리중인 폴드 # 2\n",
            "처리중인 폴드 # 3\n"
          ],
          "name": "stdout"
        }
      ]
    },
    {
      "cell_type": "code",
      "metadata": {
        "colab": {
          "base_uri": "https://localhost:8080/"
        },
        "id": "vRmUNEzo-PbO",
        "outputId": "d2c0c348-99ae-4925-9ea4-c1a0f1490840"
      },
      "source": [
        "all_scores"
      ],
      "execution_count": 23,
      "outputs": [
        {
          "output_type": "execute_result",
          "data": {
            "text/plain": [
              "[1.9669692516326904, 2.439638376235962, 2.618743658065796, 2.152423620223999]"
            ]
          },
          "metadata": {
            "tags": []
          },
          "execution_count": 23
        }
      ]
    },
    {
      "cell_type": "code",
      "metadata": {
        "id": "rA_EWkHhW5YK"
      },
      "source": [
        ""
      ],
      "execution_count": null,
      "outputs": []
    },
    {
      "cell_type": "code",
      "metadata": {
        "colab": {
          "base_uri": "https://localhost:8080/"
        },
        "id": "WvfWQgnq_FIf",
        "outputId": "62c68554-47f4-4bff-c8e1-e4eb6781c838"
      },
      "source": [
        "np.mean(all_scores)"
      ],
      "execution_count": 24,
      "outputs": [
        {
          "output_type": "execute_result",
          "data": {
            "text/plain": [
              "2.294443726539612"
            ]
          },
          "metadata": {
            "tags": []
          },
          "execution_count": 24
        }
      ]
    },
    {
      "cell_type": "code",
      "metadata": {
        "id": "6J7P2KWE_MHl"
      },
      "source": [
        "from keras import backend as K\r\n",
        "K.clear_session()"
      ],
      "execution_count": 27,
      "outputs": []
    },
    {
      "cell_type": "code",
      "metadata": {
        "colab": {
          "base_uri": "https://localhost:8080/"
        },
        "id": "GKfOo4j3BnfX",
        "outputId": "9da259ec-dd52-43cf-c7b8-9e4671cbbf6e"
      },
      "source": [
        "num_epochs = 500\r\n",
        "all_mae_histories = []\r\n",
        "for i in range(k):\r\n",
        "    print('처리중인 폴드 #', i)\r\n",
        "    # 검증 데이터 준비: k번째 분할\r\n",
        "    val_data = train_data[i * num_val_samples: (i + 1) * num_val_samples]\r\n",
        "    val_targets = train_targets[i * num_val_samples: (i + 1) * num_val_samples]\r\n",
        "\r\n",
        "    # 훈련 데이터 준비: 다른 분할 전체\r\n",
        "    partial_train_data = np.concatenate(\r\n",
        "        [train_data[:i * num_val_samples],\r\n",
        "         train_data[(i + 1) * num_val_samples:]],\r\n",
        "        axis=0)\r\n",
        "    partial_train_targets = np.concatenate(\r\n",
        "        [train_targets[:i * num_val_samples],\r\n",
        "         train_targets[(i + 1) * num_val_samples:]],\r\n",
        "        axis=0)\r\n",
        "\r\n",
        "    # 케라스 모델 구성(컴파일 포함)\r\n",
        "    model = build_model()\r\n",
        "    # 모델 훈련(verbose=0 이므로 훈련 과정이 출력되지 않습니다)\r\n",
        "    history = model.fit(partial_train_data, partial_train_targets,\r\n",
        "                        validation_data=(val_data, val_targets),\r\n",
        "                        epochs=num_epochs, batch_size=1, verbose=0)\r\n",
        "    mae_history = history.history['val_mean_absolute_error']\r\n",
        "    all_mae_histories.append(mae_history)"
      ],
      "execution_count": 28,
      "outputs": [
        {
          "output_type": "stream",
          "text": [
            "처리중인 폴드 # 0\n",
            "처리중인 폴드 # 1\n",
            "처리중인 폴드 # 2\n",
            "처리중인 폴드 # 3\n"
          ],
          "name": "stdout"
        }
      ]
    },
    {
      "cell_type": "code",
      "metadata": {
        "id": "5uFJgbkNcV7l"
      },
      "source": [
        "# 모든 폴드에 대해 에포크의 MAE 점수의 평균을 계산\r\n",
        "average_mae_history = [ np.mean([x[i] for x in all_mae_histories]) for i in range(num_epochs)]               \r\n",
        "                  \r\n"
      ],
      "execution_count": 33,
      "outputs": []
    },
    {
      "cell_type": "code",
      "metadata": {
        "colab": {
          "base_uri": "https://localhost:8080/",
          "height": 282
        },
        "id": "9o8tr_psdDjc",
        "outputId": "fc230cb2-324d-44f6-e6d2-ce4b7a4f03c0"
      },
      "source": [
        "import matplotlib.pyplot as plt\r\n",
        "plt.plot(range(1, len(average_mae_history) + 1), average_mae_history)\r\n",
        "plt.xlabel('Epochs')\r\n",
        "plt.ylabel('Validation MAE')\r\n",
        "plt.show()"
      ],
      "execution_count": 30,
      "outputs": [
        {
          "output_type": "display_data",
          "data": {
            "image/png": "[encoded data removed]",
            "text/plain": [
              "<Figure size 432x288 with 1 Axes>"
            ]
          },
          "metadata": {
            "tags": [],
            "needs_background": "light"
          }
        }
      ]
    },
    {
      "cell_type": "code",
      "metadata": {
        "colab": {
          "base_uri": "https://localhost:8080/",
          "height": 279
        },
        "id": "l1Fy7XQLeEst",
        "outputId": "40afa02d-3fce-460d-f6ed-356172b59dc6"
      },
      "source": [
        "def smooth_curve(points, factor=0.9):\r\n",
        "  smoothed_points = []\r\n",
        "  for point in points:\r\n",
        "    if smoothed_points:\r\n",
        "      previous = smoothed_points[-1]\r\n",
        "      smoothed_points.append(previous * factor + point * (1 - factor))\r\n",
        "    else:\r\n",
        "      smoothed_points.append(point)\r\n",
        "  return smoothed_points\r\n",
        "\r\n",
        "smooth_mae_history = smooth_curve(average_mae_history[10:])\r\n",
        "\r\n",
        "plt.plot(range(1, len(smooth_mae_history) + 1), smooth_mae_history)\r\n",
        "plt.xlabel('Epochs')\r\n",
        "plt.ylabel('Validation MAE')\r\n",
        "plt.show()"
      ],
      "execution_count": 38,
      "outputs": [
        {
          "output_type": "display_data",
          "data": {
            "image/png": "[encoded data removed]",
            "text/plain": [
              "<Figure size 432x288 with 1 Axes>"
            ]
          },
          "metadata": {
            "tags": [],
            "needs_background": "light"
          }
        }
      ]
    },
    {
      "cell_type": "code",
      "metadata": {
        "colab": {
          "base_uri": "https://localhost:8080/"
        },
        "id": "Ka892sBBgXY1",
        "outputId": "a5f4a097-fd74-4990-8715-07855e34a4fb"
      },
      "source": [
        "model = build_model()\r\n",
        "model.fit(train_data, train_targets,\r\n",
        "          epochs=80, batch_size=16, verbose=1)\r\n",
        "test_mse_score, test_mae_score = model.evaluate(test_data, test_targets)"
      ],
      "execution_count": 42,
      "outputs": [
        {
          "output_type": "stream",
          "text": [
            "Epoch 1/80\n",
            "26/26 [==============================] - 0s 1ms/step - loss: 539.4080 - mean_absolute_error: 21.5392\n",
            "Epoch 2/80\n",
            "26/26 [==============================] - 0s 1ms/step - loss: 406.3104 - mean_absolute_error: 18.3028\n",
            "Epoch 3/80\n",
            "26/26 [==============================] - 0s 2ms/step - loss: 253.3641 - mean_absolute_error: 13.6648\n",
            "Epoch 4/80\n",
            "26/26 [==============================] - 0s 1ms/step - loss: 96.2801 - mean_absolute_error: 7.9556\n",
            "Epoch 5/80\n",
            "26/26 [==============================] - 0s 1ms/step - loss: 58.0865 - mean_absolute_error: 5.5548\n",
            "Epoch 6/80\n",
            "26/26 [==============================] - 0s 1ms/step - loss: 33.8817 - mean_absolute_error: 4.2673\n",
            "Epoch 7/80\n",
            "26/26 [==============================] - 0s 1ms/step - loss: 25.2246 - mean_absolute_error: 3.5399\n",
            "Epoch 8/80\n",
            "26/26 [==============================] - 0s 1ms/step - loss: 23.9675 - mean_absolute_error: 3.2863\n",
            "Epoch 9/80\n",
            "26/26 [==============================] - 0s 1ms/step - loss: 19.8375 - mean_absolute_error: 3.1226\n",
            "Epoch 10/80\n",
            "26/26 [==============================] - 0s 1ms/step - loss: 16.7052 - mean_absolute_error: 2.8540\n",
            "Epoch 11/80\n",
            "26/26 [==============================] - 0s 1ms/step - loss: 17.1234 - mean_absolute_error: 3.0035\n",
            "Epoch 12/80\n",
            "26/26 [==============================] - 0s 1ms/step - loss: 17.4575 - mean_absolute_error: 2.7971\n",
            "Epoch 13/80\n",
            "26/26 [==============================] - 0s 1ms/step - loss: 13.4163 - mean_absolute_error: 2.5407\n",
            "Epoch 14/80\n",
            "26/26 [==============================] - 0s 1ms/step - loss: 11.5793 - mean_absolute_error: 2.4396\n",
            "Epoch 15/80\n",
            "26/26 [==============================] - 0s 1ms/step - loss: 10.8130 - mean_absolute_error: 2.4073\n",
            "Epoch 16/80\n",
            "26/26 [==============================] - 0s 1ms/step - loss: 14.8400 - mean_absolute_error: 2.5973\n",
            "Epoch 17/80\n",
            "26/26 [==============================] - 0s 1ms/step - loss: 10.9078 - mean_absolute_error: 2.4487\n",
            "Epoch 18/80\n",
            "26/26 [==============================] - 0s 1ms/step - loss: 11.2463 - mean_absolute_error: 2.3373\n",
            "Epoch 19/80\n",
            "26/26 [==============================] - 0s 1ms/step - loss: 11.5812 - mean_absolute_error: 2.3413\n",
            "Epoch 20/80\n",
            "26/26 [==============================] - 0s 1ms/step - loss: 9.4694 - mean_absolute_error: 2.2375\n",
            "Epoch 21/80\n",
            "26/26 [==============================] - 0s 1ms/step - loss: 9.3648 - mean_absolute_error: 2.2274\n",
            "Epoch 22/80\n",
            "26/26 [==============================] - 0s 1ms/step - loss: 9.8920 - mean_absolute_error: 2.1584\n",
            "Epoch 23/80\n",
            "26/26 [==============================] - 0s 1ms/step - loss: 9.3667 - mean_absolute_error: 2.2319\n",
            "Epoch 24/80\n",
            "26/26 [==============================] - 0s 1ms/step - loss: 8.8373 - mean_absolute_error: 2.1503\n",
            "Epoch 25/80\n",
            "26/26 [==============================] - 0s 1ms/step - loss: 15.0109 - mean_absolute_error: 2.4611\n",
            "Epoch 26/80\n",
            "26/26 [==============================] - 0s 1ms/step - loss: 8.1564 - mean_absolute_error: 2.0056\n",
            "Epoch 27/80\n",
            "26/26 [==============================] - 0s 1ms/step - loss: 9.1251 - mean_absolute_error: 2.1460\n",
            "Epoch 28/80\n",
            "26/26 [==============================] - 0s 1ms/step - loss: 8.8195 - mean_absolute_error: 2.1290\n",
            "Epoch 29/80\n",
            "26/26 [==============================] - 0s 1ms/step - loss: 8.9656 - mean_absolute_error: 2.1460\n",
            "Epoch 30/80\n",
            "26/26 [==============================] - 0s 1ms/step - loss: 10.5147 - mean_absolute_error: 2.2336\n",
            "Epoch 31/80\n",
            "26/26 [==============================] - 0s 1ms/step - loss: 8.7800 - mean_absolute_error: 2.0919\n",
            "Epoch 32/80\n",
            "26/26 [==============================] - 0s 1ms/step - loss: 7.8429 - mean_absolute_error: 1.9650\n",
            "Epoch 33/80\n",
            "26/26 [==============================] - 0s 1ms/step - loss: 11.6468 - mean_absolute_error: 2.1487\n",
            "Epoch 34/80\n",
            "26/26 [==============================] - 0s 1ms/step - loss: 8.1932 - mean_absolute_error: 2.0789\n",
            "Epoch 35/80\n",
            "26/26 [==============================] - 0s 1ms/step - loss: 9.2379 - mean_absolute_error: 2.2370\n",
            "Epoch 36/80\n",
            "26/26 [==============================] - 0s 1ms/step - loss: 9.2001 - mean_absolute_error: 2.1319\n",
            "Epoch 37/80\n",
            "26/26 [==============================] - 0s 1ms/step - loss: 8.6425 - mean_absolute_error: 2.0040\n",
            "Epoch 38/80\n",
            "26/26 [==============================] - 0s 1ms/step - loss: 7.8631 - mean_absolute_error: 1.9810\n",
            "Epoch 39/80\n",
            "26/26 [==============================] - 0s 1ms/step - loss: 10.8638 - mean_absolute_error: 2.1093\n",
            "Epoch 40/80\n",
            "26/26 [==============================] - 0s 1ms/step - loss: 8.3994 - mean_absolute_error: 2.0435\n",
            "Epoch 41/80\n",
            "26/26 [==============================] - 0s 1ms/step - loss: 11.3439 - mean_absolute_error: 2.1692\n",
            "Epoch 42/80\n",
            "26/26 [==============================] - 0s 1ms/step - loss: 7.6886 - mean_absolute_error: 1.9512\n",
            "Epoch 43/80\n",
            "26/26 [==============================] - 0s 1ms/step - loss: 8.6062 - mean_absolute_error: 2.1209\n",
            "Epoch 44/80\n",
            "26/26 [==============================] - 0s 1ms/step - loss: 7.6061 - mean_absolute_error: 2.0906\n",
            "Epoch 45/80\n",
            "26/26 [==============================] - 0s 1ms/step - loss: 7.4052 - mean_absolute_error: 1.9943\n",
            "Epoch 46/80\n",
            "26/26 [==============================] - 0s 1ms/step - loss: 7.3555 - mean_absolute_error: 1.9617\n",
            "Epoch 47/80\n",
            "26/26 [==============================] - 0s 1ms/step - loss: 8.9878 - mean_absolute_error: 1.9631\n",
            "Epoch 48/80\n",
            "26/26 [==============================] - 0s 1ms/step - loss: 9.5291 - mean_absolute_error: 2.0001\n",
            "Epoch 49/80\n",
            "26/26 [==============================] - 0s 1ms/step - loss: 9.0809 - mean_absolute_error: 1.9407\n",
            "Epoch 50/80\n",
            "26/26 [==============================] - 0s 1ms/step - loss: 8.4227 - mean_absolute_error: 1.8840\n",
            "Epoch 51/80\n",
            "26/26 [==============================] - 0s 1ms/step - loss: 7.4111 - mean_absolute_error: 1.9371\n",
            "Epoch 52/80\n",
            "26/26 [==============================] - 0s 1ms/step - loss: 8.8719 - mean_absolute_error: 1.9832\n",
            "Epoch 53/80\n",
            "26/26 [==============================] - 0s 1ms/step - loss: 7.0778 - mean_absolute_error: 1.9083\n",
            "Epoch 54/80\n",
            "26/26 [==============================] - 0s 1ms/step - loss: 7.0016 - mean_absolute_error: 1.8946\n",
            "Epoch 55/80\n",
            "26/26 [==============================] - 0s 1ms/step - loss: 7.6209 - mean_absolute_error: 1.9336\n",
            "Epoch 56/80\n",
            "26/26 [==============================] - 0s 1ms/step - loss: 6.1107 - mean_absolute_error: 1.7642\n",
            "Epoch 57/80\n",
            "26/26 [==============================] - 0s 1ms/step - loss: 6.2538 - mean_absolute_error: 1.8228\n",
            "Epoch 58/80\n",
            "26/26 [==============================] - 0s 1ms/step - loss: 7.7771 - mean_absolute_error: 1.8403\n",
            "Epoch 59/80\n",
            "26/26 [==============================] - 0s 1ms/step - loss: 7.1165 - mean_absolute_error: 1.8013\n",
            "Epoch 60/80\n",
            "26/26 [==============================] - 0s 1ms/step - loss: 5.3052 - mean_absolute_error: 1.6486\n",
            "Epoch 61/80\n",
            "26/26 [==============================] - 0s 1ms/step - loss: 6.7646 - mean_absolute_error: 1.8213\n",
            "Epoch 62/80\n",
            "26/26 [==============================] - 0s 1ms/step - loss: 8.3063 - mean_absolute_error: 1.8241\n",
            "Epoch 63/80\n",
            "26/26 [==============================] - 0s 1ms/step - loss: 6.1095 - mean_absolute_error: 1.7095\n",
            "Epoch 64/80\n",
            "26/26 [==============================] - 0s 1ms/step - loss: 6.5408 - mean_absolute_error: 1.7566\n",
            "Epoch 65/80\n",
            "26/26 [==============================] - 0s 1ms/step - loss: 4.9896 - mean_absolute_error: 1.6400\n",
            "Epoch 66/80\n",
            "26/26 [==============================] - 0s 1ms/step - loss: 8.5279 - mean_absolute_error: 1.9328\n",
            "Epoch 67/80\n",
            "26/26 [==============================] - 0s 1ms/step - loss: 6.8233 - mean_absolute_error: 1.7575\n",
            "Epoch 68/80\n",
            "26/26 [==============================] - 0s 1ms/step - loss: 8.4981 - mean_absolute_error: 1.9331\n",
            "Epoch 69/80\n",
            "26/26 [==============================] - 0s 1ms/step - loss: 4.9040 - mean_absolute_error: 1.6748\n",
            "Epoch 70/80\n",
            "26/26 [==============================] - 0s 1ms/step - loss: 5.8501 - mean_absolute_error: 1.7695\n",
            "Epoch 71/80\n",
            "26/26 [==============================] - 0s 1ms/step - loss: 7.5881 - mean_absolute_error: 1.8636\n",
            "Epoch 72/80\n",
            "26/26 [==============================] - 0s 1ms/step - loss: 4.6675 - mean_absolute_error: 1.6070\n",
            "Epoch 73/80\n",
            "26/26 [==============================] - 0s 1ms/step - loss: 6.3122 - mean_absolute_error: 1.6932\n",
            "Epoch 74/80\n",
            "26/26 [==============================] - 0s 1ms/step - loss: 5.5231 - mean_absolute_error: 1.7263\n",
            "Epoch 75/80\n",
            "26/26 [==============================] - 0s 1ms/step - loss: 4.7871 - mean_absolute_error: 1.5723\n",
            "Epoch 76/80\n",
            "26/26 [==============================] - 0s 1ms/step - loss: 6.6310 - mean_absolute_error: 1.8538\n",
            "Epoch 77/80\n",
            "26/26 [==============================] - 0s 1ms/step - loss: 5.2629 - mean_absolute_error: 1.7089\n",
            "Epoch 78/80\n",
            "26/26 [==============================] - 0s 1ms/step - loss: 4.5421 - mean_absolute_error: 1.5424\n",
            "Epoch 79/80\n",
            "26/26 [==============================] - 0s 1ms/step - loss: 6.3931 - mean_absolute_error: 1.7323\n",
            "Epoch 80/80\n",
            "26/26 [==============================] - 0s 1ms/step - loss: 5.3464 - mean_absolute_error: 1.6220\n",
            "4/4 [==============================] - 0s 2ms/step - loss: 16.6139 - mean_absolute_error: 2.5096\n"
          ],
          "name": "stdout"
        }
      ]
    },
    {
      "cell_type": "code",
      "metadata": {
        "colab": {
          "base_uri": "https://localhost:8080/"
        },
        "id": "C739MQmGhakS",
        "outputId": "f2881751-5061-4cc2-e49e-789fcf8ca245"
      },
      "source": [
        "test_mae_score"
      ],
      "execution_count": 37,
      "outputs": [
        {
          "output_type": "execute_result",
          "data": {
            "text/plain": [
              "2.778055191040039"
            ]
          },
          "metadata": {
            "tags": []
          },
          "execution_count": 37
        }
      ]
    }
  ]
}