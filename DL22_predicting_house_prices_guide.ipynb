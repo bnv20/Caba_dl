{
  "nbformat": 4,
  "nbformat_minor": 0,
  "metadata": {
    "colab": {
      "name": "DL22_predicting-house-prices_guide.ipynb",
      "provenance": [],
      "authorship_tag": "ABX9TyPg7RPeDwae0pl0FWgL7ACG",
      "include_colab_link": true
    },
    "kernelspec": {
      "name": "python3",
      "display_name": "Python 3"
    }
  },
  "cells": [
    {
      "cell_type": "markdown",
      "metadata": {
        "id": "view-in-github",
        "colab_type": "text"
      },
      "source": [
        "<a href=\"https://colab.research.google.com/github/bnv20/Caba_nlp/blob/main/DL22_predicting_house_prices_guide.ipynb\" target=\"_parent\"><img src=\"https://colab.research.google.com/assets/colab-badge.svg\" alt=\"Open In Colab\"/></a>"
      ]
    },
    {
      "cell_type": "markdown",
      "metadata": {
        "id": "njG6XNjoy8_a"
      },
      "source": [
        "## 보스턴 주택 가격 데이터셋\r\n",
        "\r\n",
        "1970년 중반 보스턴 외곽 지역의 범죄율, 지방세율 등의 데이터가 주어졌을 때 주택 가격의 중간 값을 예측해 보겠습니다.\r\n",
        "\r\n",
        "여기서 사용할 데이터셋은 이전 두 개의 예제와 다릅니다. 데이터 포인트가 506개로 비교적 개수가 적고 404개는 훈련 샘플로 102개는 테스트 샘플로 나누어져 있습니다. 입력 데이터에 있는 각 특성(예를 들어 범죄율)은 스케일이 서로 다릅니다. 어떤 값은 0과 1 사이의 비율을 나타내고 어떤 것은 1과 12 사이의 값을 가지거나 1과 100 사이의 값을 가집니다.\r\n",
        "\r\n",
        "입력 데이터 포인트의 개별적인 레이블 하나를 예측하는 것이 목적입니다. 개별적인 레이블 대신에 연속적인 값을 예측하는 회귀(regression)입니다."
      ]
    },
    {
      "cell_type": "code",
      "metadata": {
        "colab": {
          "base_uri": "https://localhost:8080/"
        },
        "id": "EBHKUXT8ysNI",
        "outputId": "8a80eb52-ac4e-478d-c129-75cdf583807f"
      },
      "source": [
        "from keras.datasets import boston_housing\r\n",
        "\r\n",
        "(train_data, train_targets),(test_data,test_targets) = boston_housing.load_data()\r\n"
      ],
      "execution_count": 1,
      "outputs": [
        {
          "output_type": "stream",
          "text": [
            "Downloading data from https://storage.googleapis.com/tensorflow/tf-keras-datasets/boston_housing.npz\n",
            "57344/57026 [==============================] - 0s 0us/step\n"
          ],
          "name": "stdout"
        }
      ]
    },
    {
      "cell_type": "code",
      "metadata": {
        "colab": {
          "base_uri": "https://localhost:8080/"
        },
        "id": "e3mZi2Ts0BoD",
        "outputId": "b000b719-b37d-43e8-8a3d-2e1106150997"
      },
      "source": [
        "train_data.shape"
      ],
      "execution_count": 2,
      "outputs": [
        {
          "output_type": "execute_result",
          "data": {
            "text/plain": [
              "(404, 13)"
            ]
          },
          "metadata": {
            "tags": []
          },
          "execution_count": 2
        }
      ]
    },
    {
      "cell_type": "code",
      "metadata": {
        "colab": {
          "base_uri": "https://localhost:8080/"
        },
        "id": "o7FMGEoB0HQz",
        "outputId": "62b48d21-511b-4346-b8b3-3c7147331d30"
      },
      "source": [
        "train_data[:5]"
      ],
      "execution_count": 3,
      "outputs": [
        {
          "output_type": "execute_result",
          "data": {
            "text/plain": [
              "array([[1.23247e+00, 0.00000e+00, 8.14000e+00, 0.00000e+00, 5.38000e-01,\n",
              "        6.14200e+00, 9.17000e+01, 3.97690e+00, 4.00000e+00, 3.07000e+02,\n",
              "        2.10000e+01, 3.96900e+02, 1.87200e+01],\n",
              "       [2.17700e-02, 8.25000e+01, 2.03000e+00, 0.00000e+00, 4.15000e-01,\n",
              "        7.61000e+00, 1.57000e+01, 6.27000e+00, 2.00000e+00, 3.48000e+02,\n",
              "        1.47000e+01, 3.95380e+02, 3.11000e+00],\n",
              "       [4.89822e+00, 0.00000e+00, 1.81000e+01, 0.00000e+00, 6.31000e-01,\n",
              "        4.97000e+00, 1.00000e+02, 1.33250e+00, 2.40000e+01, 6.66000e+02,\n",
              "        2.02000e+01, 3.75520e+02, 3.26000e+00],\n",
              "       [3.96100e-02, 0.00000e+00, 5.19000e+00, 0.00000e+00, 5.15000e-01,\n",
              "        6.03700e+00, 3.45000e+01, 5.98530e+00, 5.00000e+00, 2.24000e+02,\n",
              "        2.02000e+01, 3.96900e+02, 8.01000e+00],\n",
              "       [3.69311e+00, 0.00000e+00, 1.81000e+01, 0.00000e+00, 7.13000e-01,\n",
              "        6.37600e+00, 8.84000e+01, 2.56710e+00, 2.40000e+01, 6.66000e+02,\n",
              "        2.02000e+01, 3.91430e+02, 1.46500e+01]])"
            ]
          },
          "metadata": {
            "tags": []
          },
          "execution_count": 3
        }
      ]
    },
    {
      "cell_type": "markdown",
      "metadata": {
        "id": "C6U1fdwn0csK"
      },
      "source": [
        "여기서 볼 수 있듯이 404개의 훈련 샘플과 102개의 테스트 샘플이 있고 모두 13개의 수치 특성을 가지고 있습니다. 13개의 특성은 다음과 같습니다:\r\n",
        "\r\n",
        "1. Per capita crime rate.\r\n",
        "2. Proportion of residential land zoned for lots over 25,000 square feet.\r\n",
        "3. Proportion of non-retail business acres per town.\r\n",
        "4. Charles River dummy variable (= 1 if tract bounds river; 0 otherwise).\r\n",
        "5. Nitric oxides concentration (parts per 10 million).\r\n",
        "6. Average number of rooms per dwelling.\r\n",
        "7. Proportion of owner-occupied units built prior to 1940.\r\n",
        "8. Weighted distances to five Boston employment centres.\r\n",
        "9. Index of accessibility to radial highways.\r\n",
        "10. Full-value property-tax rate per $10,000.\r\n",
        "11. Pupil-teacher ratio by town.\r\n",
        "12. 1000 * (Bk - 0.63) ** 2 where Bk is the proportion of Black people by town.\r\n",
        "13. % lower status of the population.\r\n",
        "\r\n",
        "타깃은 주택의 중간 가격으로 천달러 단위입니다:"
      ]
    },
    {
      "cell_type": "markdown",
      "metadata": {
        "id": "Ijr8W1uI1cGb"
      },
      "source": [
        "데이터 준비  \r\n",
        "상이한 스케일을 가진 값을 신경망에 주입하면 문제가 된다. 특성별로 정규화한다. 입력 데이터에 있는 각 특성에 대해서 특성의 평균을 빼고 표준편차로 나눈다."
      ]
    },
    {
      "cell_type": "code",
      "metadata": {
        "id": "WPtocOf00Yoy"
      },
      "source": [
        "mean = train_data.mean(axis=0)\r\n",
        "train_data -= mean\r\n",
        "std = train_data.std(axis=0)\r\n",
        "train_data /= std\r\n",
        "\r\n",
        "test_data -= mean\r\n",
        "test_data /= std \r\n"
      ],
      "execution_count": 4,
      "outputs": []
    },
    {
      "cell_type": "code",
      "metadata": {
        "colab": {
          "base_uri": "https://localhost:8080/"
        },
        "id": "vFmhhtu60evA",
        "outputId": "c03e127d-71d5-401c-a381-4ae7d4d2a7ad"
      },
      "source": [
        "train_data[:5]"
      ],
      "execution_count": 5,
      "outputs": [
        {
          "output_type": "execute_result",
          "data": {
            "text/plain": [
              "array([[-0.27224633, -0.48361547, -0.43576161, -0.25683275, -0.1652266 ,\n",
              "        -0.1764426 ,  0.81306188,  0.1166983 , -0.62624905, -0.59517003,\n",
              "         1.14850044,  0.44807713,  0.8252202 ],\n",
              "       [-0.40342651,  2.99178419, -1.33391162, -0.25683275, -1.21518188,\n",
              "         1.89434613, -1.91036058,  1.24758524, -0.85646254, -0.34843254,\n",
              "        -1.71818909,  0.43190599, -1.32920239],\n",
              "       [ 0.1249402 , -0.48361547,  1.0283258 , -0.25683275,  0.62864202,\n",
              "        -1.82968811,  1.11048828, -1.18743907,  1.67588577,  1.5652875 ,\n",
              "         0.78447637,  0.22061726, -1.30850006],\n",
              "       [-0.40149354, -0.48361547, -0.86940196, -0.25683275, -0.3615597 ,\n",
              "        -0.3245576 , -1.23667187,  1.10717989, -0.51114231, -1.094663  ,\n",
              "         0.78447637,  0.44807713, -0.65292624],\n",
              "       [-0.0056343 , -0.48361547,  1.0283258 , -0.25683275,  1.32861221,\n",
              "         0.15364225,  0.69480801, -0.57857203,  1.67588577,  1.5652875 ,\n",
              "         0.78447637,  0.3898823 ,  0.26349695]])"
            ]
          },
          "metadata": {
            "tags": []
          },
          "execution_count": 5
        }
      ]
    },
    {
      "cell_type": "code",
      "metadata": {
        "colab": {
          "base_uri": "https://localhost:8080/"
        },
        "id": "zTfRaaw22zYz",
        "outputId": "26690af6-cb48-4ba6-9804-2bd82fea65c9"
      },
      "source": [
        "print(train_data.mean())\r\n",
        "print(train_data.std())"
      ],
      "execution_count": 6,
      "outputs": [
        {
          "output_type": "stream",
          "text": [
            "2.602301889250862e-15\n",
            "0.9999999999999994\n"
          ],
          "name": "stdout"
        }
      ]
    },
    {
      "cell_type": "markdown",
      "metadata": {
        "id": "0kMGh2n30eR5"
      },
      "source": [
        "[경사하강법] https://twinw.tistory.com/247"
      ]
    },
    {
      "cell_type": "code",
      "metadata": {
        "id": "Tb1K-kNM3Jwb"
      },
      "source": [
        ""
      ],
      "execution_count": null,
      "outputs": []
    }
  ]
}