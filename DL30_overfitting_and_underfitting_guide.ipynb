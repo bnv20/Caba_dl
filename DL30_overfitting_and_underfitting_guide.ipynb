{
  "nbformat": 4,
  "nbformat_minor": 0,
  "metadata": {
    "colab": {
      "name": "DL30_overfitting-and-underfitting_guide.ipynb",
      "provenance": [],
      "collapsed_sections": [],
      "machine_shape": "hm",
      "authorship_tag": "ABX9TyMebL+s0Wt6v2X/wlPTDpE8",
      "include_colab_link": true
    },
    "kernelspec": {
      "name": "python3",
      "display_name": "Python 3"
    },
    "accelerator": "GPU"
  },
  "cells": [
    {
      "cell_type": "markdown",
      "metadata": {
        "id": "view-in-github",
        "colab_type": "text"
      },
      "source": [
        "<a href=\"https://colab.research.google.com/github/bnv20/Caba_dl/blob/main/DL30_overfitting_and_underfitting_guide.ipynb\" target=\"_parent\"><img src=\"https://colab.research.google.com/assets/colab-badge.svg\" alt=\"Open In Colab\"/></a>"
      ]
    },
    {
      "cell_type": "markdown",
      "metadata": {
        "id": "aIWZ3s26iLt_"
      },
      "source": [
        "#### 과대적합과 과소적합\r\n",
        "머신 러닝의 근본적인 이슈는 최적화와 일반화 사이의 줄다리기이다.\r\n",
        "- 최적화 : 훈련데이터에서 최고의 성능을 얻으려고 모델을 조정(학습)\r\n",
        "- 일반화 : 훈련된 모델이 본적이 없는 데이터에서 얼마나 잘 수행되는지를 의미\r\n",
        "- 과대적합 : 과다한 특성, 데이터 부족\r\n",
        "- 과소적합 : 과소한 특성, \r\n",
        "- 과대적합에 대한 대책 : 더 많은 훈련 데이터, 파라미터 수 축소(단순한 모델), 모델의 제약(특정 파라미터가 큰 값을 가지지 못하도록), 훈련 데이터의 잡음을 제거(오류데이터 수정하고 이상치 제거)\r\n",
        "- 과소적합에 대한 대책 : 더 복잡한 모델(파라미터 확대), 모델의 제약을 줄임 \r\n"
      ]
    },
    {
      "cell_type": "code",
      "metadata": {
        "id": "S-vs1y6oiKWZ",
        "colab": {
          "base_uri": "https://localhost:8080/"
        },
        "outputId": "bb431fde-46e2-4558-8754-e5fd2593fa9d"
      },
      "source": [
        "from keras.datasets import imdb\r\n",
        "import numpy as np\r\n",
        "\r\n",
        "(train_data, train_labels),(test_data,test_labels) = imdb.load_data(num_words=10000)"
      ],
      "execution_count": 1,
      "outputs": [
        {
          "output_type": "stream",
          "text": [
            "Downloading data from https://storage.googleapis.com/tensorflow/tf-keras-datasets/imdb.npz\n",
            "17465344/17464789 [==============================] - 1s 0us/step\n"
          ],
          "name": "stdout"
        },
        {
          "output_type": "stream",
          "text": [
            "<string>:6: VisibleDeprecationWarning: Creating an ndarray from ragged nested sequences (which is a list-or-tuple of lists-or-tuples-or ndarrays with different lengths or shapes) is deprecated. If you meant to do this, you must specify 'dtype=object' when creating the ndarray\n",
            "/usr/local/lib/python3.7/dist-packages/tensorflow/python/keras/datasets/imdb.py:159: VisibleDeprecationWarning: Creating an ndarray from ragged nested sequences (which is a list-or-tuple of lists-or-tuples-or ndarrays with different lengths or shapes) is deprecated. If you meant to do this, you must specify 'dtype=object' when creating the ndarray\n",
            "  x_train, y_train = np.array(xs[:idx]), np.array(labels[:idx])\n",
            "/usr/local/lib/python3.7/dist-packages/tensorflow/python/keras/datasets/imdb.py:160: VisibleDeprecationWarning: Creating an ndarray from ragged nested sequences (which is a list-or-tuple of lists-or-tuples-or ndarrays with different lengths or shapes) is deprecated. If you meant to do this, you must specify 'dtype=object' when creating the ndarray\n",
            "  x_test, y_test = np.array(xs[idx:]), np.array(labels[idx:])\n"
          ],
          "name": "stderr"
        }
      ]
    },
    {
      "cell_type": "code",
      "metadata": {
        "id": "s-a6S8EhiB2Q",
        "colab": {
          "base_uri": "https://localhost:8080/"
        },
        "outputId": "f1d9a3b6-3fe9-4d0d-9861-34e7a4ed144c"
      },
      "source": [
        "train_data.shape\r\n",
        "len(train_data[0])\r\n",
        "train_data[:5]"
      ],
      "execution_count": null,
      "outputs": [
        {
          "output_type": "execute_result",
          "data": {
            "text/plain": [
              "array([list([1, 14, 22, 16, 43, 530, 973, 1622, 1385, 65, 458, 4468, 66, 3941, 4, 173, 36, 256, 5, 25, 100, 43, 838, 112, 50, 670, 2, 9, 35, 480, 284, 5, 150, 4, 172, 112, 167, 2, 336, 385, 39, 4, 172, 4536, 1111, 17, 546, 38, 13, 447, 4, 192, 50, 16, 6, 147, 2025, 19, 14, 22, 4, 1920, 4613, 469, 4, 22, 71, 87, 12, 16, 43, 530, 38, 76, 15, 13, 1247, 4, 22, 17, 515, 17, 12, 16, 626, 18, 2, 5, 62, 386, 12, 8, 316, 8, 106, 5, 4, 2223, 5244, 16, 480, 66, 3785, 33, 4, 130, 12, 16, 38, 619, 5, 25, 124, 51, 36, 135, 48, 25, 1415, 33, 6, 22, 12, 215, 28, 77, 52, 5, 14, 407, 16, 82, 2, 8, 4, 107, 117, 5952, 15, 256, 4, 2, 7, 3766, 5, 723, 36, 71, 43, 530, 476, 26, 400, 317, 46, 7, 4, 2, 1029, 13, 104, 88, 4, 381, 15, 297, 98, 32, 2071, 56, 26, 141, 6, 194, 7486, 18, 4, 226, 22, 21, 134, 476, 26, 480, 5, 144, 30, 5535, 18, 51, 36, 28, 224, 92, 25, 104, 4, 226, 65, 16, 38, 1334, 88, 12, 16, 283, 5, 16, 4472, 113, 103, 32, 15, 16, 5345, 19, 178, 32]),\n",
              "       list([1, 194, 1153, 194, 8255, 78, 228, 5, 6, 1463, 4369, 5012, 134, 26, 4, 715, 8, 118, 1634, 14, 394, 20, 13, 119, 954, 189, 102, 5, 207, 110, 3103, 21, 14, 69, 188, 8, 30, 23, 7, 4, 249, 126, 93, 4, 114, 9, 2300, 1523, 5, 647, 4, 116, 9, 35, 8163, 4, 229, 9, 340, 1322, 4, 118, 9, 4, 130, 4901, 19, 4, 1002, 5, 89, 29, 952, 46, 37, 4, 455, 9, 45, 43, 38, 1543, 1905, 398, 4, 1649, 26, 6853, 5, 163, 11, 3215, 2, 4, 1153, 9, 194, 775, 7, 8255, 2, 349, 2637, 148, 605, 2, 8003, 15, 123, 125, 68, 2, 6853, 15, 349, 165, 4362, 98, 5, 4, 228, 9, 43, 2, 1157, 15, 299, 120, 5, 120, 174, 11, 220, 175, 136, 50, 9, 4373, 228, 8255, 5, 2, 656, 245, 2350, 5, 4, 9837, 131, 152, 491, 18, 2, 32, 7464, 1212, 14, 9, 6, 371, 78, 22, 625, 64, 1382, 9, 8, 168, 145, 23, 4, 1690, 15, 16, 4, 1355, 5, 28, 6, 52, 154, 462, 33, 89, 78, 285, 16, 145, 95]),\n",
              "       list([1, 14, 47, 8, 30, 31, 7, 4, 249, 108, 7, 4, 5974, 54, 61, 369, 13, 71, 149, 14, 22, 112, 4, 2401, 311, 12, 16, 3711, 33, 75, 43, 1829, 296, 4, 86, 320, 35, 534, 19, 263, 4821, 1301, 4, 1873, 33, 89, 78, 12, 66, 16, 4, 360, 7, 4, 58, 316, 334, 11, 4, 1716, 43, 645, 662, 8, 257, 85, 1200, 42, 1228, 2578, 83, 68, 3912, 15, 36, 165, 1539, 278, 36, 69, 2, 780, 8, 106, 14, 6905, 1338, 18, 6, 22, 12, 215, 28, 610, 40, 6, 87, 326, 23, 2300, 21, 23, 22, 12, 272, 40, 57, 31, 11, 4, 22, 47, 6, 2307, 51, 9, 170, 23, 595, 116, 595, 1352, 13, 191, 79, 638, 89, 2, 14, 9, 8, 106, 607, 624, 35, 534, 6, 227, 7, 129, 113]),\n",
              "       list([1, 4, 2, 2, 33, 2804, 4, 2040, 432, 111, 153, 103, 4, 1494, 13, 70, 131, 67, 11, 61, 2, 744, 35, 3715, 761, 61, 5766, 452, 9214, 4, 985, 7, 2, 59, 166, 4, 105, 216, 1239, 41, 1797, 9, 15, 7, 35, 744, 2413, 31, 8, 4, 687, 23, 4, 2, 7339, 6, 3693, 42, 38, 39, 121, 59, 456, 10, 10, 7, 265, 12, 575, 111, 153, 159, 59, 16, 1447, 21, 25, 586, 482, 39, 4, 96, 59, 716, 12, 4, 172, 65, 9, 579, 11, 6004, 4, 1615, 5, 2, 7, 5168, 17, 13, 7064, 12, 19, 6, 464, 31, 314, 11, 2, 6, 719, 605, 11, 8, 202, 27, 310, 4, 3772, 3501, 8, 2722, 58, 10, 10, 537, 2116, 180, 40, 14, 413, 173, 7, 263, 112, 37, 152, 377, 4, 537, 263, 846, 579, 178, 54, 75, 71, 476, 36, 413, 263, 2504, 182, 5, 17, 75, 2306, 922, 36, 279, 131, 2895, 17, 2867, 42, 17, 35, 921, 2, 192, 5, 1219, 3890, 19, 2, 217, 4122, 1710, 537, 2, 1236, 5, 736, 10, 10, 61, 403, 9, 2, 40, 61, 4494, 5, 27, 4494, 159, 90, 263, 2311, 4319, 309, 8, 178, 5, 82, 4319, 4, 65, 15, 9225, 145, 143, 5122, 12, 7039, 537, 746, 537, 537, 15, 7979, 4, 2, 594, 7, 5168, 94, 9096, 3987, 2, 11, 2, 4, 538, 7, 1795, 246, 2, 9, 2, 11, 635, 14, 9, 51, 408, 12, 94, 318, 1382, 12, 47, 6, 2683, 936, 5, 6307, 2, 19, 49, 7, 4, 1885, 2, 1118, 25, 80, 126, 842, 10, 10, 2, 2, 4726, 27, 4494, 11, 1550, 3633, 159, 27, 341, 29, 2733, 19, 4185, 173, 7, 90, 2, 8, 30, 11, 4, 1784, 86, 1117, 8, 3261, 46, 11, 2, 21, 29, 9, 2841, 23, 4, 1010, 2, 793, 6, 2, 1386, 1830, 10, 10, 246, 50, 9, 6, 2750, 1944, 746, 90, 29, 2, 8, 124, 4, 882, 4, 882, 496, 27, 2, 2213, 537, 121, 127, 1219, 130, 5, 29, 494, 8, 124, 4, 882, 496, 4, 341, 7, 27, 846, 10, 10, 29, 9, 1906, 8, 97, 6, 236, 2, 1311, 8, 4, 2, 7, 31, 7, 2, 91, 2, 3987, 70, 4, 882, 30, 579, 42, 9, 12, 32, 11, 537, 10, 10, 11, 14, 65, 44, 537, 75, 2, 1775, 3353, 2, 1846, 4, 2, 7, 154, 5, 4, 518, 53, 2, 2, 7, 3211, 882, 11, 399, 38, 75, 257, 3807, 19, 2, 17, 29, 456, 4, 65, 7, 27, 205, 113, 10, 10, 2, 4, 2, 2, 9, 242, 4, 91, 1202, 2, 5, 2070, 307, 22, 7, 5168, 126, 93, 40, 2, 13, 188, 1076, 3222, 19, 4, 2, 7, 2348, 537, 23, 53, 537, 21, 82, 40, 2, 13, 2, 14, 280, 13, 219, 4, 2, 431, 758, 859, 4, 953, 1052, 2, 7, 5991, 5, 94, 40, 25, 238, 60, 2, 4, 2, 804, 2, 7, 4, 9941, 132, 8, 67, 6, 22, 15, 9, 283, 8, 5168, 14, 31, 9, 242, 955, 48, 25, 279, 2, 23, 12, 1685, 195, 25, 238, 60, 796, 2, 4, 671, 7, 2804, 5, 4, 559, 154, 888, 7, 726, 50, 26, 49, 7008, 15, 566, 30, 579, 21, 64, 2574]),\n",
              "       list([1, 249, 1323, 7, 61, 113, 10, 10, 13, 1637, 14, 20, 56, 33, 2401, 18, 457, 88, 13, 2626, 1400, 45, 3171, 13, 70, 79, 49, 706, 919, 13, 16, 355, 340, 355, 1696, 96, 143, 4, 22, 32, 289, 7, 61, 369, 71, 2359, 5, 13, 16, 131, 2073, 249, 114, 249, 229, 249, 20, 13, 28, 126, 110, 13, 473, 8, 569, 61, 419, 56, 429, 6, 1513, 18, 35, 534, 95, 474, 570, 5, 25, 124, 138, 88, 12, 421, 1543, 52, 725, 6397, 61, 419, 11, 13, 1571, 15, 1543, 20, 11, 4, 2, 5, 296, 12, 3524, 5, 15, 421, 128, 74, 233, 334, 207, 126, 224, 12, 562, 298, 2167, 1272, 7, 2601, 5, 516, 988, 43, 8, 79, 120, 15, 595, 13, 784, 25, 3171, 18, 165, 170, 143, 19, 14, 5, 7224, 6, 226, 251, 7, 61, 113])],\n",
              "      dtype=object)"
            ]
          },
          "metadata": {
            "tags": []
          },
          "execution_count": 7
        }
      ]
    },
    {
      "cell_type": "code",
      "metadata": {
        "id": "Ak1Y9QV7uASr"
      },
      "source": [
        "def vectorize_sequences(sequences, dimension=10000):\r\n",
        "  results = np.zeros((len(sequences), dimension))\r\n",
        "  for i, sequence in enumerate(sequences):\r\n",
        "    results[i,sequence] = 1.\r\n",
        "  return results\r\n"
      ],
      "execution_count": 2,
      "outputs": []
    },
    {
      "cell_type": "code",
      "metadata": {
        "id": "HPai2rxbwrlg"
      },
      "source": [
        "x_train = vectorize_sequences(train_data)\r\n",
        "x_test = vectorize_sequences(test_data)\r\n",
        "y_train = np.asarray(train_labels).astype('float32')\r\n",
        "y_test = np.asarray(test_labels).astype('float32')"
      ],
      "execution_count": 3,
      "outputs": []
    },
    {
      "cell_type": "code",
      "metadata": {
        "id": "TixnU82ByHBo"
      },
      "source": [
        "# 네트워크 크기 축소\r\n",
        "\r\n",
        "from keras import models\r\n",
        "from keras import layers\r\n",
        "\r\n",
        "original_model = models.Sequential()\r\n",
        "original_model.add(layers.Dense(16,activation='relu', input_shape=(10000,)))\r\n",
        "original_model.add(layers.Dense(16,activation='relu'))\r\n",
        "original_model.add(layers.Dense(1,activation='sigmoid'))\r\n",
        "original_model.compile(optimizer='rmsprop',\r\n",
        "                       loss='binary_crossentropy',\r\n",
        "                       metrics=['acc'])"
      ],
      "execution_count": 17,
      "outputs": []
    },
    {
      "cell_type": "code",
      "metadata": {
        "id": "e1WES8Vb1mtP"
      },
      "source": [
        "# 더 작은 네트워크\r\n",
        "\r\n",
        "smaller_model = models.Sequential()\r\n",
        "smaller_model.add(layers.Dense(6, activation='relu', input_shape=(10000,)))\r\n",
        "smaller_model.add(layers.Dense(6,activation='relu'))\r\n",
        "smaller_model.add(layers.Dense(1,activation='sigmoid'))\r\n",
        "smaller_model.compile(optimizer='rmsprop',\r\n",
        "                      loss='binary_crossentropy',\r\n",
        "                      metrics=['acc'])"
      ],
      "execution_count": null,
      "outputs": []
    },
    {
      "cell_type": "code",
      "metadata": {
        "colab": {
          "base_uri": "https://localhost:8080/"
        },
        "id": "83NvqmiM2jN_",
        "outputId": "86c2217d-887a-446b-b45e-684814c7aa52"
      },
      "source": [
        "original_hist = original_model.fit(x_train,y_train,\r\n",
        "                                   epochs=20,\r\n",
        "                                   batch_size=512,\r\n",
        "                                   validation_data=(x_test,y_test))"
      ],
      "execution_count": 18,
      "outputs": [
        {
          "output_type": "stream",
          "text": [
            "Epoch 1/20\n",
            "49/49 [==============================] - 2s 26ms/step - loss: 0.5538 - acc: 0.7506 - val_loss: 0.3535 - val_acc: 0.8672\n",
            "Epoch 2/20\n",
            "49/49 [==============================] - 1s 18ms/step - loss: 0.2726 - acc: 0.9101 - val_loss: 0.2850 - val_acc: 0.8891\n",
            "Epoch 3/20\n",
            "49/49 [==============================] - 1s 18ms/step - loss: 0.2002 - acc: 0.9331 - val_loss: 0.2820 - val_acc: 0.8876\n",
            "Epoch 4/20\n",
            "49/49 [==============================] - 1s 18ms/step - loss: 0.1617 - acc: 0.9425 - val_loss: 0.2923 - val_acc: 0.8842\n",
            "Epoch 5/20\n",
            "49/49 [==============================] - 1s 18ms/step - loss: 0.1465 - acc: 0.9488 - val_loss: 0.3120 - val_acc: 0.8794\n",
            "Epoch 6/20\n",
            "49/49 [==============================] - 1s 18ms/step - loss: 0.1219 - acc: 0.9601 - val_loss: 0.3607 - val_acc: 0.8675\n",
            "Epoch 7/20\n",
            "49/49 [==============================] - 1s 18ms/step - loss: 0.1033 - acc: 0.9670 - val_loss: 0.3538 - val_acc: 0.8732\n",
            "Epoch 8/20\n",
            "49/49 [==============================] - 1s 18ms/step - loss: 0.0923 - acc: 0.9705 - val_loss: 0.3847 - val_acc: 0.8698\n",
            "Epoch 9/20\n",
            "49/49 [==============================] - 1s 18ms/step - loss: 0.0841 - acc: 0.9711 - val_loss: 0.4118 - val_acc: 0.8656\n",
            "Epoch 10/20\n",
            "49/49 [==============================] - 1s 18ms/step - loss: 0.0740 - acc: 0.9766 - val_loss: 0.4505 - val_acc: 0.8597\n",
            "Epoch 11/20\n",
            "49/49 [==============================] - 1s 18ms/step - loss: 0.0680 - acc: 0.9798 - val_loss: 0.4791 - val_acc: 0.8581\n",
            "Epoch 12/20\n",
            "49/49 [==============================] - 1s 18ms/step - loss: 0.0631 - acc: 0.9795 - val_loss: 0.5064 - val_acc: 0.8574\n",
            "Epoch 13/20\n",
            "49/49 [==============================] - 1s 18ms/step - loss: 0.0536 - acc: 0.9839 - val_loss: 0.5318 - val_acc: 0.8591\n",
            "Epoch 14/20\n",
            "49/49 [==============================] - 1s 18ms/step - loss: 0.0472 - acc: 0.9861 - val_loss: 0.5627 - val_acc: 0.8574\n",
            "Epoch 15/20\n",
            "49/49 [==============================] - 1s 18ms/step - loss: 0.0387 - acc: 0.9894 - val_loss: 0.6033 - val_acc: 0.8518\n",
            "Epoch 16/20\n",
            "49/49 [==============================] - 1s 18ms/step - loss: 0.0374 - acc: 0.9903 - val_loss: 0.6604 - val_acc: 0.8481\n",
            "Epoch 17/20\n",
            "49/49 [==============================] - 1s 18ms/step - loss: 0.0317 - acc: 0.9912 - val_loss: 0.6827 - val_acc: 0.8478\n",
            "Epoch 18/20\n",
            "49/49 [==============================] - 1s 18ms/step - loss: 0.0289 - acc: 0.9923 - val_loss: 0.7161 - val_acc: 0.8505\n",
            "Epoch 19/20\n",
            "49/49 [==============================] - 1s 18ms/step - loss: 0.0251 - acc: 0.9944 - val_loss: 0.8081 - val_acc: 0.8390\n",
            "Epoch 20/20\n",
            "49/49 [==============================] - 1s 18ms/step - loss: 0.0228 - acc: 0.9946 - val_loss: 0.7846 - val_acc: 0.8466\n"
          ],
          "name": "stdout"
        }
      ]
    },
    {
      "cell_type": "code",
      "metadata": {
        "colab": {
          "base_uri": "https://localhost:8080/"
        },
        "id": "xZOxRG2y3CXW",
        "outputId": "921ee600-90ec-4e26-cc9e-b07463b56df5"
      },
      "source": [
        "smaller_model_hist = smaller_model.fit(x_train,y_train,\r\n",
        "                                       epochs=20,\r\n",
        "                                       batch_size=512,\r\n",
        "                                       validation_data=(x_test,y_test))"
      ],
      "execution_count": null,
      "outputs": [
        {
          "output_type": "stream",
          "text": [
            "Epoch 1/20\n",
            "49/49 [==============================] - 2s 29ms/step - loss: 0.5841 - acc: 0.7541 - val_loss: 0.4051 - val_acc: 0.8677\n",
            "Epoch 2/20\n",
            "49/49 [==============================] - 1s 19ms/step - loss: 0.3408 - acc: 0.8954 - val_loss: 0.3172 - val_acc: 0.8839\n",
            "Epoch 3/20\n",
            "49/49 [==============================] - 1s 19ms/step - loss: 0.2461 - acc: 0.9173 - val_loss: 0.2858 - val_acc: 0.8900\n",
            "Epoch 4/20\n",
            "49/49 [==============================] - 1s 18ms/step - loss: 0.2022 - acc: 0.9306 - val_loss: 0.2791 - val_acc: 0.8894\n",
            "Epoch 5/20\n",
            "49/49 [==============================] - 1s 18ms/step - loss: 0.1715 - acc: 0.9422 - val_loss: 0.2851 - val_acc: 0.8863\n",
            "Epoch 6/20\n",
            "49/49 [==============================] - 1s 18ms/step - loss: 0.1576 - acc: 0.9459 - val_loss: 0.2912 - val_acc: 0.8852\n",
            "Epoch 7/20\n",
            "49/49 [==============================] - 1s 19ms/step - loss: 0.1360 - acc: 0.9562 - val_loss: 0.3014 - val_acc: 0.8835\n",
            "Epoch 8/20\n",
            "49/49 [==============================] - 1s 19ms/step - loss: 0.1252 - acc: 0.9583 - val_loss: 0.3250 - val_acc: 0.8768\n",
            "Epoch 9/20\n",
            "49/49 [==============================] - 1s 19ms/step - loss: 0.1117 - acc: 0.9658 - val_loss: 0.3323 - val_acc: 0.8778\n",
            "Epoch 10/20\n",
            "49/49 [==============================] - 1s 18ms/step - loss: 0.1014 - acc: 0.9685 - val_loss: 0.3488 - val_acc: 0.8744\n",
            "Epoch 11/20\n",
            "49/49 [==============================] - 1s 18ms/step - loss: 0.0954 - acc: 0.9707 - val_loss: 0.3670 - val_acc: 0.8739\n",
            "Epoch 12/20\n",
            "49/49 [==============================] - 1s 18ms/step - loss: 0.0842 - acc: 0.9745 - val_loss: 0.3921 - val_acc: 0.8680\n",
            "Epoch 13/20\n",
            "49/49 [==============================] - 1s 18ms/step - loss: 0.0787 - acc: 0.9758 - val_loss: 0.4090 - val_acc: 0.8665\n",
            "Epoch 14/20\n",
            "49/49 [==============================] - 1s 18ms/step - loss: 0.0727 - acc: 0.9795 - val_loss: 0.4565 - val_acc: 0.8588\n",
            "Epoch 15/20\n",
            "49/49 [==============================] - 1s 18ms/step - loss: 0.0674 - acc: 0.9808 - val_loss: 0.4518 - val_acc: 0.8636\n",
            "Epoch 16/20\n",
            "49/49 [==============================] - 1s 18ms/step - loss: 0.0607 - acc: 0.9832 - val_loss: 0.4735 - val_acc: 0.8622\n",
            "Epoch 17/20\n",
            "49/49 [==============================] - 1s 18ms/step - loss: 0.0555 - acc: 0.9850 - val_loss: 0.4914 - val_acc: 0.8610\n",
            "Epoch 18/20\n",
            "49/49 [==============================] - 1s 18ms/step - loss: 0.0480 - acc: 0.9885 - val_loss: 0.5128 - val_acc: 0.8593\n",
            "Epoch 19/20\n",
            "49/49 [==============================] - 1s 19ms/step - loss: 0.0488 - acc: 0.9885 - val_loss: 0.5678 - val_acc: 0.8530\n",
            "Epoch 20/20\n",
            "49/49 [==============================] - 1s 18ms/step - loss: 0.0451 - acc: 0.9879 - val_loss: 0.5669 - val_acc: 0.8548\n"
          ],
          "name": "stdout"
        }
      ]
    },
    {
      "cell_type": "code",
      "metadata": {
        "id": "6KR8eGx03k3-"
      },
      "source": [
        "epochs = range(1,21)\r\n",
        "original_val_loss = original_hist.history['val_loss']\r\n",
        "smaller_model_val_loss = smaller_model_hist.history['val_loss']"
      ],
      "execution_count": null,
      "outputs": []
    },
    {
      "cell_type": "code",
      "metadata": {
        "colab": {
          "base_uri": "https://localhost:8080/",
          "height": 279
        },
        "id": "ZhH-vvP937i1",
        "outputId": "78d90fac-ecfc-4e2b-b6bc-cb036231d919"
      },
      "source": [
        "import matplotlib.pyplot as plt\r\n",
        "plt.plot(epochs, original_val_loss, 'b+', label='Original model')\r\n",
        "plt.plot(epochs, smaller_model_val_loss, 'bo', label='Smaller model')\r\n",
        "plt.xlabel('Epochs')\r\n",
        "plt.ylabel('Validation loss')\r\n",
        "plt.legend()\r\n",
        "plt.show()"
      ],
      "execution_count": null,
      "outputs": [
        {
          "output_type": "display_data",
          "data": {
            "image/png": "[encoded data removed]",
            "text/plain": [
              "<Figure size 432x288 with 1 Axes>"
            ]
          },
          "metadata": {
            "tags": [],
            "needs_background": "light"
          }
        }
      ]
    },
    {
      "cell_type": "code",
      "metadata": {
        "colab": {
          "base_uri": "https://localhost:8080/"
        },
        "id": "BIjG-Mdd5FSI",
        "outputId": "3dbcd56d-3045-43bc-cd6e-c8d317290be4"
      },
      "source": [
        "# 더 큰 네트워크\r\n",
        "bigger_model = models.Sequential()\r\n",
        "bigger_model.add(layers.Dense(1024, activation='relu', input_shape=(10000,)))\r\n",
        "bigger_model.add(layers.Dense(1024,activation='relu'))\r\n",
        "bigger_model.add(layers.Dense(1,activation='sigmoid'))\r\n",
        "bigger_model.compile(optimizer='rmsprop',\r\n",
        "                      loss='binary_crossentropy',\r\n",
        "                      metrics=['acc'])\r\n",
        "\r\n",
        "bigger_model_hist = bigger_model.fit(x_train,y_train,\r\n",
        "                                       epochs=20,\r\n",
        "                                       batch_size=512,\r\n",
        "                                       validation_data=(x_test,y_test))"
      ],
      "execution_count": null,
      "outputs": [
        {
          "output_type": "stream",
          "text": [
            "Epoch 1/20\n",
            "49/49 [==============================] - 2s 31ms/step - loss: 0.7643 - acc: 0.7038 - val_loss: 0.2990 - val_acc: 0.8760\n",
            "Epoch 2/20\n",
            "49/49 [==============================] - 1s 20ms/step - loss: 0.2333 - acc: 0.9059 - val_loss: 0.3048 - val_acc: 0.8728\n",
            "Epoch 3/20\n",
            "49/49 [==============================] - 1s 20ms/step - loss: 0.1121 - acc: 0.9601 - val_loss: 0.2960 - val_acc: 0.8866\n",
            "Epoch 4/20\n",
            "49/49 [==============================] - 1s 21ms/step - loss: 0.0463 - acc: 0.9893 - val_loss: 0.4281 - val_acc: 0.8853\n",
            "Epoch 5/20\n",
            "49/49 [==============================] - 1s 21ms/step - loss: 0.0034 - acc: 0.9994 - val_loss: 1.2536 - val_acc: 0.8212\n",
            "Epoch 6/20\n",
            "49/49 [==============================] - 1s 21ms/step - loss: 0.3927 - acc: 0.9524 - val_loss: 0.5897 - val_acc: 0.8850\n",
            "Epoch 7/20\n",
            "49/49 [==============================] - 1s 20ms/step - loss: 1.5148e-04 - acc: 1.0000 - val_loss: 0.7543 - val_acc: 0.8838\n",
            "Epoch 8/20\n",
            "49/49 [==============================] - 1s 20ms/step - loss: 1.3277e-05 - acc: 1.0000 - val_loss: 0.9175 - val_acc: 0.8822\n",
            "Epoch 9/20\n",
            "49/49 [==============================] - 1s 20ms/step - loss: 1.4424e-06 - acc: 1.0000 - val_loss: 1.0700 - val_acc: 0.8816\n",
            "Epoch 10/20\n",
            "49/49 [==============================] - 1s 20ms/step - loss: 2.3296e-07 - acc: 1.0000 - val_loss: 1.1780 - val_acc: 0.8832\n",
            "Epoch 11/20\n",
            "49/49 [==============================] - 1s 20ms/step - loss: 5.1314e-08 - acc: 1.0000 - val_loss: 1.2679 - val_acc: 0.8832\n",
            "Epoch 12/20\n",
            "49/49 [==============================] - 1s 21ms/step - loss: 1.8824e-08 - acc: 1.0000 - val_loss: 1.3173 - val_acc: 0.8830\n",
            "Epoch 13/20\n",
            "49/49 [==============================] - 1s 20ms/step - loss: 1.1696e-08 - acc: 1.0000 - val_loss: 1.3470 - val_acc: 0.8830\n",
            "Epoch 14/20\n",
            "49/49 [==============================] - 1s 21ms/step - loss: 7.8531e-09 - acc: 1.0000 - val_loss: 1.3679 - val_acc: 0.8829\n",
            "Epoch 15/20\n",
            "49/49 [==============================] - 1s 20ms/step - loss: 6.0164e-09 - acc: 1.0000 - val_loss: 1.3824 - val_acc: 0.8830\n",
            "Epoch 16/20\n",
            "49/49 [==============================] - 1s 20ms/step - loss: 5.2068e-09 - acc: 1.0000 - val_loss: 1.3963 - val_acc: 0.8829\n",
            "Epoch 17/20\n",
            "49/49 [==============================] - 1s 20ms/step - loss: 4.2227e-09 - acc: 1.0000 - val_loss: 1.4073 - val_acc: 0.8829\n",
            "Epoch 18/20\n",
            "49/49 [==============================] - 1s 20ms/step - loss: 3.7780e-09 - acc: 1.0000 - val_loss: 1.4162 - val_acc: 0.8829\n",
            "Epoch 19/20\n",
            "49/49 [==============================] - 1s 20ms/step - loss: 3.3747e-09 - acc: 1.0000 - val_loss: 1.4255 - val_acc: 0.8829\n",
            "Epoch 20/20\n",
            "49/49 [==============================] - 1s 20ms/step - loss: 2.9583e-09 - acc: 1.0000 - val_loss: 1.4327 - val_acc: 0.8829\n"
          ],
          "name": "stdout"
        }
      ]
    },
    {
      "cell_type": "code",
      "metadata": {
        "colab": {
          "base_uri": "https://localhost:8080/",
          "height": 279
        },
        "id": "vtddxI6U5-ZN",
        "outputId": "04618cdb-b1be-48dd-fa24-090dace56b1c"
      },
      "source": [
        "bigger_model_val_loss = bigger_model_hist.history['val_loss']\r\n",
        "\r\n",
        "plt.plot(epochs, original_val_loss, 'b+', label='Original model')\r\n",
        "plt.plot(epochs, bigger_model_val_loss, 'bo', label='Bigger model')\r\n",
        "plt.xlabel('Epochs')\r\n",
        "plt.ylabel('Validation loss')\r\n",
        "plt.legend()\r\n",
        "\r\n",
        "plt.show()"
      ],
      "execution_count": null,
      "outputs": [
        {
          "output_type": "display_data",
          "data": {
            "image/png": "[encoded data removed]",
            "text/plain": [
              "<Figure size 432x288 with 1 Axes>"
            ]
          },
          "metadata": {
            "tags": [],
            "needs_background": "light"
          }
        }
      ]
    },
    {
      "cell_type": "markdown",
      "metadata": {
        "id": "qcsjJUpi6olF"
      },
      "source": [
        "용량이 큰 네트워크는 첫번째 에포크 이후 바로 과대적합이 시작되어 갈수록 심해진다. "
      ]
    },
    {
      "cell_type": "markdown",
      "metadata": {
        "id": "U6caZ5Ik9XIz"
      },
      "source": [
        "## 가중치 규제 추가\r\n",
        "- L1 규제 : 가중치의 절대값에 비례하는 비용이 추가(가중치의 L1 노름)\r\n",
        "- L2 규제 : 가중치의 제곱에 비례하는 비용이 추가(가중치의 L2 노름) - 가중치 감쇠라고도 함"
      ]
    },
    {
      "cell_type": "code",
      "metadata": {
        "id": "Eo0afU6L7CC0"
      },
      "source": [
        "from keras import regularizers\r\n",
        "\r\n",
        "l2_model = models.Sequential()\r\n",
        "l2_model.add(layers.Dense(16,kernel_regularizer=regularizers.l2(0.001),\r\n",
        "                          activation='relu', input_shape=(10000,)))\r\n",
        "l2_model.add(layers.Dense(16,kernel_regularizer=regularizers.l2(0.001),\r\n",
        "                          activation='relu'))\r\n",
        "l2_model.add(layers.Dense(1,activation='sigmoid'))\r\n",
        "\r\n",
        "l2_model.compile(optimizer='rmsprop',\r\n",
        "                 loss= 'binary_crossentropy',\r\n",
        "                 metrics=['acc'])"
      ],
      "execution_count": null,
      "outputs": []
    },
    {
      "cell_type": "code",
      "metadata": {
        "colab": {
          "base_uri": "https://localhost:8080/"
        },
        "id": "VS3TjXaK9owV",
        "outputId": "b7f18b53-b23d-4b50-82a4-a19665258216"
      },
      "source": [
        "l2_model_hist = l2_model.fit(x_train,y_train,\r\n",
        "                             epochs=20,\r\n",
        "                             batch_size=512,\r\n",
        "                             validation_data=(x_test,y_test))"
      ],
      "execution_count": null,
      "outputs": [
        {
          "output_type": "stream",
          "text": [
            "Epoch 1/20\n",
            "49/49 [==============================] - 2s 28ms/step - loss: 0.6221 - acc: 0.7434 - val_loss: 0.4092 - val_acc: 0.8754\n",
            "Epoch 2/20\n",
            "49/49 [==============================] - 1s 18ms/step - loss: 0.3500 - acc: 0.9007 - val_loss: 0.3461 - val_acc: 0.8844\n",
            "Epoch 3/20\n",
            "49/49 [==============================] - 1s 18ms/step - loss: 0.2778 - acc: 0.9196 - val_loss: 0.3325 - val_acc: 0.8869\n",
            "Epoch 4/20\n",
            "49/49 [==============================] - 1s 18ms/step - loss: 0.2528 - acc: 0.9295 - val_loss: 0.3389 - val_acc: 0.8844\n",
            "Epoch 5/20\n",
            "49/49 [==============================] - 1s 18ms/step - loss: 0.2395 - acc: 0.9321 - val_loss: 0.3399 - val_acc: 0.8841\n",
            "Epoch 6/20\n",
            "49/49 [==============================] - 1s 18ms/step - loss: 0.2255 - acc: 0.9410 - val_loss: 0.3470 - val_acc: 0.8827\n",
            "Epoch 7/20\n",
            "49/49 [==============================] - 1s 18ms/step - loss: 0.2232 - acc: 0.9403 - val_loss: 0.3557 - val_acc: 0.8807\n",
            "Epoch 8/20\n",
            "49/49 [==============================] - 1s 18ms/step - loss: 0.2073 - acc: 0.9493 - val_loss: 0.3679 - val_acc: 0.8766\n",
            "Epoch 9/20\n",
            "49/49 [==============================] - 1s 18ms/step - loss: 0.2059 - acc: 0.9471 - val_loss: 0.3651 - val_acc: 0.8791\n",
            "Epoch 10/20\n",
            "49/49 [==============================] - 1s 18ms/step - loss: 0.1955 - acc: 0.9521 - val_loss: 0.4082 - val_acc: 0.8663\n",
            "Epoch 11/20\n",
            "49/49 [==============================] - 1s 18ms/step - loss: 0.1984 - acc: 0.9497 - val_loss: 0.3780 - val_acc: 0.8756\n",
            "Epoch 12/20\n",
            "49/49 [==============================] - 1s 18ms/step - loss: 0.1928 - acc: 0.9547 - val_loss: 0.4098 - val_acc: 0.8678\n",
            "Epoch 13/20\n",
            "49/49 [==============================] - 1s 18ms/step - loss: 0.1914 - acc: 0.9542 - val_loss: 0.3922 - val_acc: 0.8729\n",
            "Epoch 14/20\n",
            "49/49 [==============================] - 1s 18ms/step - loss: 0.1890 - acc: 0.9538 - val_loss: 0.4255 - val_acc: 0.8641\n",
            "Epoch 15/20\n",
            "49/49 [==============================] - 1s 18ms/step - loss: 0.1828 - acc: 0.9572 - val_loss: 0.3979 - val_acc: 0.8718\n",
            "Epoch 16/20\n",
            "49/49 [==============================] - 1s 18ms/step - loss: 0.1832 - acc: 0.9562 - val_loss: 0.4024 - val_acc: 0.8694\n",
            "Epoch 17/20\n",
            "49/49 [==============================] - 1s 18ms/step - loss: 0.1858 - acc: 0.9545 - val_loss: 0.4341 - val_acc: 0.8617\n",
            "Epoch 18/20\n",
            "49/49 [==============================] - 1s 18ms/step - loss: 0.1798 - acc: 0.9578 - val_loss: 0.4208 - val_acc: 0.8665\n",
            "Epoch 19/20\n",
            "49/49 [==============================] - 1s 18ms/step - loss: 0.1782 - acc: 0.9566 - val_loss: 0.4106 - val_acc: 0.8700\n",
            "Epoch 20/20\n",
            "49/49 [==============================] - 1s 18ms/step - loss: 0.1745 - acc: 0.9577 - val_loss: 0.4116 - val_acc: 0.8692\n"
          ],
          "name": "stdout"
        }
      ]
    },
    {
      "cell_type": "code",
      "metadata": {
        "colab": {
          "base_uri": "https://localhost:8080/",
          "height": 279
        },
        "id": "NmkyLMgY-BB8",
        "outputId": "93b09079-c55d-4f6b-9838-57db044fa34a"
      },
      "source": [
        "l2_model_val_loss = l2_model_hist.history['val_loss']\r\n",
        "\r\n",
        "plt.plot(epochs, original_val_loss, 'b+', label='Original model')\r\n",
        "plt.plot(epochs, l2_model_val_loss, 'bo', label='L2-regularized model')\r\n",
        "plt.xlabel('Epochs')\r\n",
        "plt.ylabel('Validation loss')\r\n",
        "plt.legend()\r\n",
        "plt.show()"
      ],
      "execution_count": null,
      "outputs": [
        {
          "output_type": "display_data",
          "data": {
            "image/png": "[encoded data removed]",
            "text/plain": [
              "<Figure size 432x288 with 1 Axes>"
            ]
          },
          "metadata": {
            "tags": [],
            "needs_background": "light"
          }
        }
      ]
    },
    {
      "cell_type": "markdown",
      "metadata": {
        "id": "AIcu-f8F-z1m"
      },
      "source": [
        "두 모델이 동일한 파라미터 수를 가지고 있더라도 L2 규제를 사용한 모델이 기본 모델 보다 훨씬 더 과대적합에 잘 견디고 있다."
      ]
    },
    {
      "cell_type": "code",
      "metadata": {
        "id": "FKk8Ioss_MAT"
      },
      "source": [
        "# L1 규제\r\n",
        "# l1(0.0001) 모델과 비교\r\n",
        "from keras import models\r\n",
        "from keras import layers\r\n",
        "from keras import regularizers\r\n",
        "l1_model = models.Sequential()\r\n",
        "l1_model.add(layers.Dense(16, kernel_regularizer=regularizers.l1(0.0001),\r\n",
        "                          activation='relu', input_shape=(10000,)))\r\n",
        "l1_model.add(layers.Dense(16, kernel_regularizer=regularizers.l1(0.0001),\r\n",
        "                          activation='relu'))\r\n",
        "l1_model.add(layers.Dense(1, activation='sigmoid'))"
      ],
      "execution_count": 7,
      "outputs": []
    },
    {
      "cell_type": "code",
      "metadata": {
        "id": "LoQ3tl-pZkPk"
      },
      "source": [
        "l1_model.compile(optimizer='rmsprop',\r\n",
        "                 loss='binary_crossentropy',\r\n",
        "                 metrics=['acc'])"
      ],
      "execution_count": 8,
      "outputs": []
    },
    {
      "cell_type": "code",
      "metadata": {
        "colab": {
          "base_uri": "https://localhost:8080/"
        },
        "id": "-5Im-F8GZpiq",
        "outputId": "d1f6efc2-9b4b-4706-f844-e1e5c62780dc"
      },
      "source": [
        "l1_model_hist = l1_model.fit(x_train, y_train,\r\n",
        "                             epochs=20,\r\n",
        "                             batch_size=512,\r\n",
        "                             validation_data=(x_test, y_test))"
      ],
      "execution_count": 9,
      "outputs": [
        {
          "output_type": "stream",
          "text": [
            "Epoch 1/20\n",
            "49/49 [==============================] - 4s 30ms/step - loss: 0.6806 - acc: 0.7464 - val_loss: 0.4410 - val_acc: 0.8801\n",
            "Epoch 2/20\n",
            "49/49 [==============================] - 1s 18ms/step - loss: 0.3953 - acc: 0.8958 - val_loss: 0.3794 - val_acc: 0.8836\n",
            "Epoch 3/20\n",
            "49/49 [==============================] - 1s 18ms/step - loss: 0.3389 - acc: 0.9059 - val_loss: 0.3621 - val_acc: 0.8868\n",
            "Epoch 4/20\n",
            "49/49 [==============================] - 1s 18ms/step - loss: 0.3135 - acc: 0.9132 - val_loss: 0.3684 - val_acc: 0.8830\n",
            "Epoch 5/20\n",
            "49/49 [==============================] - 1s 18ms/step - loss: 0.3073 - acc: 0.9138 - val_loss: 0.3641 - val_acc: 0.8856\n",
            "Epoch 6/20\n",
            "49/49 [==============================] - 1s 18ms/step - loss: 0.2960 - acc: 0.9189 - val_loss: 0.3621 - val_acc: 0.8854\n",
            "Epoch 7/20\n",
            "49/49 [==============================] - 1s 18ms/step - loss: 0.2854 - acc: 0.9270 - val_loss: 0.3889 - val_acc: 0.8766\n",
            "Epoch 8/20\n",
            "49/49 [==============================] - 1s 18ms/step - loss: 0.2870 - acc: 0.9232 - val_loss: 0.4032 - val_acc: 0.8706\n",
            "Epoch 9/20\n",
            "49/49 [==============================] - 1s 18ms/step - loss: 0.2786 - acc: 0.9284 - val_loss: 0.3987 - val_acc: 0.8724\n",
            "Epoch 10/20\n",
            "49/49 [==============================] - 1s 18ms/step - loss: 0.2775 - acc: 0.9273 - val_loss: 0.3827 - val_acc: 0.8790\n",
            "Epoch 11/20\n",
            "49/49 [==============================] - 1s 18ms/step - loss: 0.2648 - acc: 0.9333 - val_loss: 0.3906 - val_acc: 0.8764\n",
            "Epoch 12/20\n",
            "49/49 [==============================] - 1s 18ms/step - loss: 0.2628 - acc: 0.9326 - val_loss: 0.4073 - val_acc: 0.8714\n",
            "Epoch 13/20\n",
            "49/49 [==============================] - 1s 18ms/step - loss: 0.2573 - acc: 0.9347 - val_loss: 0.3940 - val_acc: 0.8766\n",
            "Epoch 14/20\n",
            "49/49 [==============================] - 1s 18ms/step - loss: 0.2517 - acc: 0.9398 - val_loss: 0.3900 - val_acc: 0.8796\n",
            "Epoch 15/20\n",
            "49/49 [==============================] - 1s 18ms/step - loss: 0.2541 - acc: 0.9357 - val_loss: 0.4261 - val_acc: 0.8675\n",
            "Epoch 16/20\n",
            "49/49 [==============================] - 1s 18ms/step - loss: 0.2515 - acc: 0.9375 - val_loss: 0.4116 - val_acc: 0.8734\n",
            "Epoch 17/20\n",
            "49/49 [==============================] - 1s 18ms/step - loss: 0.2414 - acc: 0.9437 - val_loss: 0.4156 - val_acc: 0.8724\n",
            "Epoch 18/20\n",
            "49/49 [==============================] - 1s 18ms/step - loss: 0.2356 - acc: 0.9453 - val_loss: 0.4383 - val_acc: 0.8670\n",
            "Epoch 19/20\n",
            "49/49 [==============================] - 1s 18ms/step - loss: 0.2352 - acc: 0.9456 - val_loss: 0.4099 - val_acc: 0.8750\n",
            "Epoch 20/20\n",
            "49/49 [==============================] - 1s 17ms/step - loss: 0.2302 - acc: 0.9503 - val_loss: 0.4261 - val_acc: 0.8716\n"
          ],
          "name": "stdout"
        }
      ]
    },
    {
      "cell_type": "code",
      "metadata": {
        "colab": {
          "base_uri": "https://localhost:8080/",
          "height": 279
        },
        "id": "o834mqP2aExM",
        "outputId": "d66bd51a-de79-43ec-9823-6d8873e1e5e8"
      },
      "source": [
        "import matplotlib.pyplot as plt\r\n",
        "\r\n",
        "\r\n",
        "epochs=range(1,21)\r\n",
        "original_val_loss = original_hist.history['val_loss']\r\n",
        "l1_model_val_loss = l1_model_hist.history['val_loss']\r\n",
        "\r\n",
        "plt.plot(epochs, original_val_loss, 'b+', label='Original model')\r\n",
        "plt.plot(epochs, l1_model_val_loss, 'bo', label='L1-regularized model')\r\n",
        "plt.xlabel('Epochs')\r\n",
        "plt.ylabel('Validation loss')\r\n",
        "plt.legend()\r\n",
        "\r\n",
        "plt.show()"
      ],
      "execution_count": 19,
      "outputs": [
        {
          "output_type": "display_data",
          "data": {
            "image/png": "[encoded data removed]",
            "text/plain": [
              "<Figure size 432x288 with 1 Axes>"
            ]
          },
          "metadata": {
            "tags": [],
            "needs_background": "light"
          }
        }
      ]
    },
    {
      "cell_type": "code",
      "metadata": {
        "id": "X8c0vuBf_bPt"
      },
      "source": [
        "# L1 과 L2 규제 병행\r\n",
        "# l1_l2(l1=0.0001,l2=0.0001) 모델과 비교\r\n",
        "l1l2_model = models.Sequential()\r\n",
        "l1l2_model.add(layers.Dense(16, kernel_regularizer=regularizers.l1_l2(l1=0.0001, l2=0.0001),\r\n",
        "                            activation='relu', input_shape=(10000,)))\r\n",
        "l1l2_model.add(layers.Dense(16, kernel_regularizer=regularizers.l1_l2(l1=0.0001, l2=0.0001),\r\n",
        "                            activation='relu'))\r\n",
        "l1l2_model.add(layers.Dense(1, activation='sigmoid'))"
      ],
      "execution_count": 20,
      "outputs": []
    },
    {
      "cell_type": "code",
      "metadata": {
        "id": "f6UMK8npcBb7"
      },
      "source": [
        "l1l2_model.compile(optimizer='rmsprop',\r\n",
        "                   loss='binary_crossentropy',\r\n",
        "                   metrics=['acc'])"
      ],
      "execution_count": 21,
      "outputs": []
    },
    {
      "cell_type": "code",
      "metadata": {
        "colab": {
          "base_uri": "https://localhost:8080/"
        },
        "id": "vkEFLR2rcDZK",
        "outputId": "0325f2ad-ac5f-43a4-bd15-4f10eab5cc62"
      },
      "source": [
        "l1l2_model_hist = l1l2_model.fit(x_train, y_train,\r\n",
        "                                 epochs=20,\r\n",
        "                                 batch_size=512,\r\n",
        "                                 validation_data=(x_test, y_test))"
      ],
      "execution_count": 22,
      "outputs": [
        {
          "output_type": "stream",
          "text": [
            "Epoch 1/20\n",
            "49/49 [==============================] - 2s 30ms/step - loss: 0.6936 - acc: 0.7297 - val_loss: 0.4344 - val_acc: 0.8798\n",
            "Epoch 2/20\n",
            "49/49 [==============================] - 1s 18ms/step - loss: 0.3956 - acc: 0.8889 - val_loss: 0.3773 - val_acc: 0.8867\n",
            "Epoch 3/20\n",
            "49/49 [==============================] - 1s 18ms/step - loss: 0.3346 - acc: 0.9072 - val_loss: 0.3639 - val_acc: 0.8864\n",
            "Epoch 4/20\n",
            "49/49 [==============================] - 1s 18ms/step - loss: 0.3191 - acc: 0.9087 - val_loss: 0.3576 - val_acc: 0.8884\n",
            "Epoch 5/20\n",
            "49/49 [==============================] - 1s 18ms/step - loss: 0.3069 - acc: 0.9154 - val_loss: 0.3636 - val_acc: 0.8858\n",
            "Epoch 6/20\n",
            "49/49 [==============================] - 1s 18ms/step - loss: 0.2975 - acc: 0.9199 - val_loss: 0.4166 - val_acc: 0.8644\n",
            "Epoch 7/20\n",
            "49/49 [==============================] - 1s 18ms/step - loss: 0.2994 - acc: 0.9163 - val_loss: 0.3811 - val_acc: 0.8778\n",
            "Epoch 8/20\n",
            "49/49 [==============================] - 1s 18ms/step - loss: 0.2829 - acc: 0.9254 - val_loss: 0.3701 - val_acc: 0.8832\n",
            "Epoch 9/20\n",
            "49/49 [==============================] - 1s 18ms/step - loss: 0.2753 - acc: 0.9297 - val_loss: 0.3688 - val_acc: 0.8846\n",
            "Epoch 10/20\n",
            "49/49 [==============================] - 1s 18ms/step - loss: 0.2708 - acc: 0.9321 - val_loss: 0.3719 - val_acc: 0.8834\n",
            "Epoch 11/20\n",
            "49/49 [==============================] - 1s 19ms/step - loss: 0.2666 - acc: 0.9338 - val_loss: 0.3770 - val_acc: 0.8800\n",
            "Epoch 12/20\n",
            "49/49 [==============================] - 1s 19ms/step - loss: 0.2626 - acc: 0.9342 - val_loss: 0.3985 - val_acc: 0.8716\n",
            "Epoch 13/20\n",
            "49/49 [==============================] - 1s 18ms/step - loss: 0.2601 - acc: 0.9344 - val_loss: 0.3801 - val_acc: 0.8824\n",
            "Epoch 14/20\n",
            "49/49 [==============================] - 1s 18ms/step - loss: 0.2520 - acc: 0.9389 - val_loss: 0.3941 - val_acc: 0.8759\n",
            "Epoch 15/20\n",
            "49/49 [==============================] - 1s 18ms/step - loss: 0.2441 - acc: 0.9410 - val_loss: 0.4084 - val_acc: 0.8737\n",
            "Epoch 16/20\n",
            "49/49 [==============================] - 1s 18ms/step - loss: 0.2463 - acc: 0.9399 - val_loss: 0.3976 - val_acc: 0.8759\n",
            "Epoch 17/20\n",
            "49/49 [==============================] - 1s 18ms/step - loss: 0.2374 - acc: 0.9460 - val_loss: 0.3939 - val_acc: 0.8800\n",
            "Epoch 18/20\n",
            "49/49 [==============================] - 1s 18ms/step - loss: 0.2321 - acc: 0.9478 - val_loss: 0.4026 - val_acc: 0.8762\n",
            "Epoch 19/20\n",
            "49/49 [==============================] - 1s 18ms/step - loss: 0.2270 - acc: 0.9495 - val_loss: 0.4101 - val_acc: 0.8744\n",
            "Epoch 20/20\n",
            "49/49 [==============================] - 1s 18ms/step - loss: 0.2232 - acc: 0.9515 - val_loss: 0.4111 - val_acc: 0.8760\n"
          ],
          "name": "stdout"
        }
      ]
    },
    {
      "cell_type": "code",
      "metadata": {
        "colab": {
          "base_uri": "https://localhost:8080/",
          "height": 279
        },
        "id": "qrHZ-TBDcKGB",
        "outputId": "a72a3b46-134e-480f-d37f-ebabe74e2ceb"
      },
      "source": [
        "l1l2_model_val_loss = l1l2_model_hist.history['val_loss']\r\n",
        "\r\n",
        "plt.plot(epochs, original_val_loss, 'b+', label='Original model')\r\n",
        "plt.plot(epochs, l1l2_model_val_loss, 'bo', label='L1,L2-regularized model')\r\n",
        "plt.xlabel('Epochs')\r\n",
        "plt.ylabel('Validation loss')\r\n",
        "plt.legend()\r\n",
        "\r\n",
        "plt.show()"
      ],
      "execution_count": 23,
      "outputs": [
        {
          "output_type": "display_data",
          "data": {
            "image/png": "[encoded data removed]",
            "text/plain": [
              "<Figure size 432x288 with 1 Axes>"
            ]
          },
          "metadata": {
            "tags": [],
            "needs_background": "light"
          }
        }
      ]
    },
    {
      "cell_type": "markdown",
      "metadata": {
        "id": "YfrCDlRIdGOY"
      },
      "source": [
        "# 드롭아웃 추가\r\n",
        "- 드롭아웃은 토론토 대학의 제프리 힌튼과 그의 학생들이 개발\r\n",
        "- 네트워크의 층에 드롭아웃을 적용하면 훈련하는 동안 무작위로 층의 일부 출력 특성을 제외시킨다(0으로 만듭니다)\r\n",
        "- 어떤 입력 샘플에 대해 [0.2, 0.5, 1.3, 0.8, 1.1] 벡터를 출력한다고 가정시 드롭아웃을 적용하면 이 벡터의 일부가 무작위로 0으로 바뀝니다. 예를 들면 [0, 0.5, 1.3, 0, 1.1]이 된다 \r\n",
        "- 보통 0.2에서 0.5 사이로 지정됩니다.\r\n",
        "-  테스트 단계에서는 어떤 유닛도 드롭아웃되지 않는다. 대신에 층의 출력을 드롭아웃 비율에 비례하여 줄여 준다. 훈련할 때보다 더 많은 유닛이 활성화되기 때문이다.\r\n",
        "\r\n",
        "\r\n",
        ".\r\n",
        "\r\n"
      ]
    },
    {
      "cell_type": "code",
      "metadata": {
        "id": "Of-jqMSscRMS"
      },
      "source": [
        "dpt_model = models.Sequential()\r\n",
        "dpt_model.add(layers.Dense(16,activation='relu',input_shape=(10000,)))\r\n",
        "dpt_model.add(layers.Dropout(0.5))\r\n",
        "dpt_model.add(layers.Dense(16,activation='relu'))\r\n",
        "dpt_model.add(layers.Dropout(0.5))\r\n",
        "dpt_model.add(layers.Dense(1,activation='sigmoid'))"
      ],
      "execution_count": 25,
      "outputs": []
    },
    {
      "cell_type": "code",
      "metadata": {
        "id": "ROk6KrX7fIjb"
      },
      "source": [
        "dpt_model.compile(optimizer='rmsprop',\r\n",
        "                  loss='binary_crossentropy',\r\n",
        "                  metrics=['acc'])"
      ],
      "execution_count": 26,
      "outputs": []
    },
    {
      "cell_type": "code",
      "metadata": {
        "colab": {
          "base_uri": "https://localhost:8080/"
        },
        "id": "e2AUClXtfLtx",
        "outputId": "6a6132e8-385a-4ed6-9789-22d4be680656"
      },
      "source": [
        "dpt_model_hist = dpt_model.fit(x_train, y_train,\r\n",
        "                               epochs=20,\r\n",
        "                               batch_size=512,\r\n",
        "                               validation_data=(x_test, y_test))"
      ],
      "execution_count": 27,
      "outputs": [
        {
          "output_type": "stream",
          "text": [
            "Epoch 1/20\n",
            "49/49 [==============================] - 2s 29ms/step - loss: 0.6385 - acc: 0.6283 - val_loss: 0.4667 - val_acc: 0.8646\n",
            "Epoch 2/20\n",
            "49/49 [==============================] - 1s 18ms/step - loss: 0.4742 - acc: 0.8092 - val_loss: 0.3659 - val_acc: 0.8818\n",
            "Epoch 3/20\n",
            "49/49 [==============================] - 1s 18ms/step - loss: 0.3822 - acc: 0.8609 - val_loss: 0.3181 - val_acc: 0.8866\n",
            "Epoch 4/20\n",
            "49/49 [==============================] - 1s 18ms/step - loss: 0.3278 - acc: 0.8839 - val_loss: 0.2882 - val_acc: 0.8876\n",
            "Epoch 5/20\n",
            "49/49 [==============================] - 1s 18ms/step - loss: 0.2775 - acc: 0.9046 - val_loss: 0.2825 - val_acc: 0.8878\n",
            "Epoch 6/20\n",
            "49/49 [==============================] - 1s 18ms/step - loss: 0.2459 - acc: 0.9182 - val_loss: 0.2896 - val_acc: 0.8886\n",
            "Epoch 7/20\n",
            "49/49 [==============================] - 1s 18ms/step - loss: 0.2210 - acc: 0.9240 - val_loss: 0.3116 - val_acc: 0.8853\n",
            "Epoch 8/20\n",
            "49/49 [==============================] - 1s 18ms/step - loss: 0.2003 - acc: 0.9333 - val_loss: 0.3142 - val_acc: 0.8836\n",
            "Epoch 9/20\n",
            "49/49 [==============================] - 1s 18ms/step - loss: 0.1841 - acc: 0.9389 - val_loss: 0.3494 - val_acc: 0.8841\n",
            "Epoch 10/20\n",
            "49/49 [==============================] - 1s 18ms/step - loss: 0.1679 - acc: 0.9437 - val_loss: 0.3544 - val_acc: 0.8826\n",
            "Epoch 11/20\n",
            "49/49 [==============================] - 1s 18ms/step - loss: 0.1533 - acc: 0.9480 - val_loss: 0.3728 - val_acc: 0.8776\n",
            "Epoch 12/20\n",
            "49/49 [==============================] - 1s 18ms/step - loss: 0.1448 - acc: 0.9500 - val_loss: 0.4033 - val_acc: 0.8799\n",
            "Epoch 13/20\n",
            "49/49 [==============================] - 1s 18ms/step - loss: 0.1438 - acc: 0.9479 - val_loss: 0.4142 - val_acc: 0.8763\n",
            "Epoch 14/20\n",
            "49/49 [==============================] - 1s 18ms/step - loss: 0.1319 - acc: 0.9562 - val_loss: 0.4359 - val_acc: 0.8780\n",
            "Epoch 15/20\n",
            "49/49 [==============================] - 1s 18ms/step - loss: 0.1337 - acc: 0.9550 - val_loss: 0.4499 - val_acc: 0.8752\n",
            "Epoch 16/20\n",
            "49/49 [==============================] - 1s 18ms/step - loss: 0.1269 - acc: 0.9581 - val_loss: 0.4852 - val_acc: 0.8758\n",
            "Epoch 17/20\n",
            "49/49 [==============================] - 1s 18ms/step - loss: 0.1222 - acc: 0.9595 - val_loss: 0.5084 - val_acc: 0.8764\n",
            "Epoch 18/20\n",
            "49/49 [==============================] - 1s 18ms/step - loss: 0.1133 - acc: 0.9606 - val_loss: 0.5268 - val_acc: 0.8761\n",
            "Epoch 19/20\n",
            "49/49 [==============================] - 1s 18ms/step - loss: 0.1112 - acc: 0.9607 - val_loss: 0.5482 - val_acc: 0.8758\n",
            "Epoch 20/20\n",
            "49/49 [==============================] - 1s 18ms/step - loss: 0.1095 - acc: 0.9627 - val_loss: 0.5623 - val_acc: 0.8725\n"
          ],
          "name": "stdout"
        }
      ]
    },
    {
      "cell_type": "code",
      "metadata": {
        "colab": {
          "base_uri": "https://localhost:8080/",
          "height": 279
        },
        "id": "Tpm4AKbGfRix",
        "outputId": "db2cf264-1360-44d0-9939-f358a6df7491"
      },
      "source": [
        "dpt_model_val_loss = dpt_model_hist.history['val_loss']\r\n",
        "\r\n",
        "plt.plot(epochs, original_val_loss, 'b+', label='Original model')\r\n",
        "plt.plot(epochs, dpt_model_val_loss, 'bo', label='Dropout-regularized model')\r\n",
        "plt.xlabel('Epochs')\r\n",
        "plt.ylabel('Validation loss')\r\n",
        "plt.legend()\r\n",
        "\r\n",
        "plt.show()"
      ],
      "execution_count": 28,
      "outputs": [
        {
          "output_type": "display_data",
          "data": {
            "image/png": "[encoded data removed]",
            "text/plain": [
              "<Figure size 432x288 with 1 Axes>"
            ]
          },
          "metadata": {
            "tags": [],
            "needs_background": "light"
          }
        }
      ]
    }
  ]
}