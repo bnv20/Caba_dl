{
 "cells": [
  {
   "cell_type": "code",
   "execution_count": 3,
   "metadata": {},
   "outputs": [],
   "source": [
    "import matplotlib.pyplot as plt\n",
    "import numpy as np\n",
    "import cv2\n",
    "\n",
    "faceCascade = cv2.CascadeClassifier(\n",
    "    'haarcascades/haarcascade_frontalface_default.xml')\n",
    "eyeCascade = cv2.CascadeClassifier(\n",
    "    'haarcascades/haarcascade_eye.xml')\n",
    "\n",
    "src = cv2.imread('data/lena.png')\n",
    "gray = cv2.cvtColor(src, cv2.COLOR_BGR2GRAY)\n",
    "faces = faceCascade.detectMultiScale(gray, 1.1,3)\n",
    "# 그레이스케일 이미지 데이터, 얼굴 인식 영역의 최소 크기 지정\n",
    "\n",
    "for(x,y,w,h) in faces:\n",
    "    cv2.rectangle(src, (x,y),(x+w, y+h),(255,0,0),2)\n",
    "    \n",
    "    roi_gray = gray[y:y+h,x:x+w]\n",
    "    roi_color = src[y:y+h,x:x+w]\n",
    "    \n",
    "    eyes = eyeCascade.detectMultiScale(roi_gray)\n",
    "    for (ex,ey,ew,eh) in eyes:\n",
    "        cv2.rectangle(roi_color,(ex,ey),(ex+ew,ey+eh),(0,255,0),2)\n",
    "        \n",
    "cv2.imshow('src',src)\n",
    "cv2.waitKey()\n",
    "cv2.destroyAllWindows()"
   ]
  },
  {
   "cell_type": "code",
   "execution_count": null,
   "metadata": {},
   "outputs": [],
   "source": [
    "!pip install youtube_dl\n",
    "!pip install pafy"
   ]
  },
  {
   "cell_type": "code",
   "execution_count": 4,
   "metadata": {},
   "outputs": [
    {
     "name": "stdout",
     "output_type": "stream",
     "text": [
      "title =  참이슬 아이유 X 박서준 바이럴영상(30\")\n",
      "best.resolution 1280x720\n"
     ]
    }
   ],
   "source": [
    "# 유투브 비디오에서 얼굴 검출\n",
    "import numpy as np\n",
    "import cv2, pafy\n",
    "\n",
    "# 정면 얼굴 학습 파일을 가져와서 클래스 객체 생성\n",
    "faceCascade = cv2.CascadeClassifier(\n",
    "    'haarcascades/haarcascade_frontalface_default.xml')\n",
    "url = 'https://www.youtube.com/watch?v=S_0ikqqccJs'\n",
    "video = pafy.new(url)  # 유투브 동영상 프레임 가져오기\n",
    "print('title = ', video.title)\n",
    "\n",
    "best = video.getbest(preftype='mp4')\n",
    "print('best.resolution',best.resolution)\n",
    "\n",
    "cap = cv2.VideoCapture(best.url)\n",
    "while(True):\n",
    "    retval, frame = cap.read()\n",
    "    if not retval:\n",
    "        break\n",
    "    gray = cv2.cvtColor(frame, cv2.COLOR_BGR2GRAY)\n",
    "    faces = faceCascade.detectMultiScale(gray)\n",
    "    # gray 영상에서 얼굴 영역을 faces 리스트에 검출하고 frame에 파란색 사각형 표시\n",
    "    for (x,y,w,h) in faces:\n",
    "        cv2.rectangle(frame, (x,y),(x+w,y+h),(255,0,0),2)\n",
    "    cv2.imshow('frame',frame)\n",
    "    \n",
    "    key = cv2.waitKey(25)\n",
    "    if key == 27:\n",
    "        break\n",
    "cv2.destroyAllWindows()\n"
   ]
  }
 ],
 "metadata": {
  "kernelspec": {
   "display_name": "Python 3",
   "language": "python",
   "name": "python3"
  },
  "language_info": {
   "codemirror_mode": {
    "name": "ipython",
    "version": 3
   },
   "file_extension": ".py",
   "mimetype": "text/x-python",
   "name": "python",
   "nbconvert_exporter": "python",
   "pygments_lexer": "ipython3",
   "version": "3.7.9"
  }
 },
 "nbformat": 4,
 "nbformat_minor": 4
}
