{
  "nbformat": 4,
  "nbformat_minor": 0,
  "metadata": {
    "colab": {
      "name": "nlp11_word_embeddings_guide.ipynb",
      "provenance": [],
      "machine_shape": "hm",
      "mount_file_id": "1PdolbJaOzWlEu9zv9ihVaClB3jfQDMGu",
      "authorship_tag": "ABX9TyM69YZMUM7ajdoqwn1Mycbn",
      "include_colab_link": true
    },
    "kernelspec": {
      "name": "python3",
      "display_name": "Python 3"
    },
    "accelerator": "GPU"
  },
  "cells": [
    {
      "cell_type": "markdown",
      "metadata": {
        "id": "view-in-github",
        "colab_type": "text"
      },
      "source": [
        "<a href=\"https://colab.research.google.com/github/bnv20/Caba_dl/blob/main/nlp11_word_embeddings_guide.ipynb\" target=\"_parent\"><img src=\"https://colab.research.google.com/assets/colab-badge.svg\" alt=\"Open In Colab\"/></a>"
      ]
    },
    {
      "cell_type": "markdown",
      "metadata": {
        "id": "k7RgWiJq9hvO"
      },
      "source": [
        "- 단어와 벡터를 연관짓는 강력하고 인기 있는 또 다른 방법은 단어 임베딩이라는 밀집 단어 벡터를 사용하는 것이다. \r\n",
        "- 원-핫 인코딩으로 만든 벡터는 희소하고(대부분 0으로 채워집니다) 고차원이다(어휘 사전에 있는 단어의 수와 차원이 같다). \r\n",
        "- 반면 단어 임베딩은 저차원의 실수형 벡터이다(희소 벡터의 반대인 밀집 벡터이다). 그림 6-2를 참고\r\n",
        "- 원-핫 인코딩으로 얻은 단어 벡터와 달리 단어 임베딩은 데이터로부터 학습된다. - 보통 256차원, 512차원 또는 큰 어휘 사전을 다룰 때는 1,024차원의 단어 임베딩을 사용한다.\r\n",
        "- 반면 원-핫 인코딩은 (20,000개의 토큰으로 이루어진 어휘 사전을 만들려면) 20,000차원 또는 그 이상의 벡터일 경우가 많다. \r\n",
        "- 따라서 단어 임베딩이 더 많은 정보를 적은 차원에 저장한다."
      ]
    },
    {
      "cell_type": "markdown",
      "metadata": {
        "id": "EdRKAqu1-U5c"
      },
      "source": [
        "![word embeddings vs. one hot encoding](https://s3.amazonaws.com/book.keras.io/img/ch6/word_embeddings.png)"
      ]
    },
    {
      "cell_type": "code",
      "metadata": {
        "colab": {
          "base_uri": "https://localhost:8080/"
        },
        "id": "v-CIDRlF8rCu",
        "outputId": "3d4de76e-92c6-4298-b2d1-074ee167504c"
      },
      "source": [
        "%cd drive/MyDrive/Caba2012_colab/"
      ],
      "execution_count": 2,
      "outputs": [
        {
          "output_type": "stream",
          "text": [
            "/content/drive/MyDrive/Caba2012_colab\n"
          ],
          "name": "stdout"
        }
      ]
    },
    {
      "cell_type": "code",
      "metadata": {
        "colab": {
          "base_uri": "https://localhost:8080/"
        },
        "id": "5tWfzEteAgWV",
        "outputId": "1f560534-5f50-4add-d365-55cdabf50199"
      },
      "source": [
        "%cd /content"
      ],
      "execution_count": 4,
      "outputs": [
        {
          "output_type": "stream",
          "text": [
            "/content\n"
          ],
          "name": "stdout"
        }
      ]
    },
    {
      "cell_type": "code",
      "metadata": {
        "id": "zuxF315rBAsD"
      },
      "source": [
        "import os\r\n",
        "\r\n",
        "imdb_dir = 'drive/MyDrive/Caba2012_colab/datasets/aclImdb'\r\n",
        "train_dir = os.path.join(imdb_dir, 'train')\r\n",
        "\r\n",
        "labels = []\r\n",
        "texts = []\r\n",
        "\r\n",
        "for label_type in ['neg','pos']:\r\n",
        "  dir_name = os.path.join(train_dir, label_type)\r\n",
        "  for fname in os.listdir(dir_name):\r\n",
        "    if fname[-4:] == '.txt':\r\n",
        "      f = open(os.path.join(dir_name,fname), encoding='utf8')\r\n",
        "      texts.append(f.read())\r\n",
        "      f.close()\r\n",
        "      if label_type == 'neg':\r\n",
        "        labels.append(0)\r\n",
        "      else:\r\n",
        "        labels.append(1) \r\n",
        "\r\n"
      ],
      "execution_count": 1,
      "outputs": []
    },
    {
      "cell_type": "code",
      "metadata": {
        "colab": {
          "base_uri": "https://localhost:8080/",
          "height": 195
        },
        "id": "oWWAKeF6pRRZ",
        "outputId": "b546fe52-3811-463e-db15-2e16c53044f6"
      },
      "source": [
        "texts[0]"
      ],
      "execution_count": 3,
      "outputs": [
        {
          "output_type": "execute_result",
          "data": {
            "application/vnd.google.colaboratory.intrinsic+json": {
              "type": "string"
            },
            "text/plain": [
              "\"In the U.S., very few films have been made about Rome that were not set in the time of Julius Caesar or shortly thereafter. Hollywood's sword and sandal epics mostly have a Christian theme, which makes it difficult to get into earlier Roman history (Spartacus was probably the first exception to this rule, and encountered some resistance in Hollywood because it did not have Jesus in it).<br /><br />It's interesting to see at least one picture that not only takes place before the time of Caesar and Christ, but is set when Rome was only one city among many on the Italian peninsula, and had just ousted the hated King Tarquin and formed the Republic.<br /><br />However, this is not a historical film; it's peplum, and while the production values aren't rock bottom, the acting and characterizations are cardboard. I can only imagine what the dialogue was like in Italian, but with wooden English dubbing it's very campy. I got a few good laughs out of it at first.<br /><br />I haven't seen many films of this genre, having missed most of the Hercules movies of the 60s. It's amusing up to a point, but as the film goes on, it gets somewhat boring.<br /><br />One thing's for sure: if I'd seen this movie when I was ten years old, I would have loved it. At that age, I went for anything with Romans and swordfights in it. So at least, this flick brought back some childhood memories.\""
            ]
          },
          "metadata": {
            "tags": []
          },
          "execution_count": 3
        }
      ]
    },
    {
      "cell_type": "markdown",
      "metadata": {
        "id": "oinvasKJqV3G"
      },
      "source": [
        "### 데이터 토큰화\r\n",
        "\r\n",
        "- 이전 절에서 소개한 개념을 사용해 텍스트를 벡터로 만들고 훈련 세트와 검증 세트로 나누겠습니다. \r\n",
        "- 사전 훈련된 단어 임베딩은 훈련 데이터가 부족한 문제에 특히 유용합니다(그렇지 않으면 문제에 특화된 임베딩이 훨씬 성능이 좋습니다)- 그래서 다음과 같이 훈련 데이터를 처음 200개의 샘플로 제한합니다. \r\n",
        "- 이 모델은 200개의 샘플을 학습한 후에 영화 리뷰를 분류할 것입니다."
      ]
    },
    {
      "cell_type": "code",
      "metadata": {
        "colab": {
          "base_uri": "https://localhost:8080/"
        },
        "id": "LDrNZekHqP0O",
        "outputId": "87a58b1d-8c28-4b1f-cb24-d4fef2ecbb54"
      },
      "source": [
        "from keras.preprocessing.text import Tokenizer\r\n",
        "from keras.preprocessing.sequence import pad_sequences\r\n",
        "import numpy as np\r\n",
        "\r\n",
        "maxlen = 100  # 100개 단어 이후는 버립니다\r\n",
        "training_samples = 200  # 훈련 샘플은 200개입니다\r\n",
        "validation_samples = 10000  # 검증 샘플은 10,000개입니다\r\n",
        "max_words = 10000  # 데이터셋에서 가장 빈도 높은 10,000개의 단어만 사용합니다\r\n",
        "\r\n",
        "tokenizer = Tokenizer(num_words=max_words)\r\n",
        "tokenizer.fit_on_texts(texts)\r\n",
        "sequences = tokenizer.texts_to_sequences(texts)\r\n",
        "\r\n",
        "word_index = tokenizer.word_index\r\n",
        "print('%s개의 고유한 토큰을 찾았습니다.' % len(word_index))\r\n",
        "\r\n",
        "data = pad_sequences(sequences, maxlen=maxlen)\r\n",
        "\r\n",
        "labels = np.asarray(labels)\r\n",
        "print('데이터 텐서의 크기:', data.shape)\r\n",
        "print('레이블 텐서의 크기:', labels.shape)\r\n",
        "\r\n",
        "# 데이터를 훈련 세트와 검증 세트로 분할합니다.\r\n",
        "# 샘플이 순서대로 있기 때문에 (부정 샘플이 모두 나온 후에 긍정 샘플이 옵니다) \r\n",
        "# 먼저 데이터를 섞습니다.\r\n",
        "indices = np.arange(data.shape[0])\r\n",
        "np.random.shuffle(indices)\r\n",
        "data = data[indices]\r\n",
        "labels = labels[indices]\r\n",
        "\r\n",
        "x_train = data[:training_samples]\r\n",
        "y_train = labels[:training_samples]\r\n",
        "x_val = data[training_samples: training_samples + validation_samples]\r\n",
        "y_val = labels[training_samples: training_samples + validation_samples]"
      ],
      "execution_count": 4,
      "outputs": [
        {
          "output_type": "stream",
          "text": [
            "88582개의 고유한 토큰을 찾았습니다.\n",
            "데이터 텐서의 크기: (25002, 100)\n",
            "레이블 텐서의 크기: (25002,)\n"
          ],
          "name": "stdout"
        }
      ]
    },
    {
      "cell_type": "code",
      "metadata": {
        "colab": {
          "base_uri": "https://localhost:8080/"
        },
        "id": "8p7NEVvMqa4O",
        "outputId": "99c91ea5-1b41-429b-d493-a0ea408b938d"
      },
      "source": [
        "x_train[0]"
      ],
      "execution_count": 5,
      "outputs": [
        {
          "output_type": "execute_result",
          "data": {
            "text/plain": [
              "array([ 225,   30,  208,   37,    3,  813,   15, 4232,    4,   10,   40,\n",
              "        293,   11,   19,    5,   64,   86,   73,  430,    9,   67,   76,\n",
              "         46,    4,    1,  496, 1968,  153,   23,  959, 1687,  803,   18,\n",
              "         29,   58, 3361,    2,    2,  229,   12,   67, 3256,   20,   58,\n",
              "        643,    6, 1450,    5,    1, 1567, 4370,    6,    3,   84,  281,\n",
              "         18,   34,  691,  276,   27,    6,    8, 4123,    5,  190,    3,\n",
              "        170,    8,  138,    3, 8424,   19,   11,   17,  141,   25,   74,\n",
              "       1347,    5,   29,    1, 1524,    8,   29,    1,   19, 5797,   40,\n",
              "          5, 3337,   95,    3, 2036,    4,   86,   21,    5,   94,    3,\n",
              "         19], dtype=int32)"
            ]
          },
          "metadata": {
            "tags": []
          },
          "execution_count": 5
        }
      ]
    },
    {
      "cell_type": "code",
      "metadata": {
        "colab": {
          "base_uri": "https://localhost:8080/"
        },
        "id": "dYb6Xcgmqeh-",
        "outputId": "137f67e5-055d-4848-95c1-0ca92a740b41"
      },
      "source": [
        "# 임베딩 전처리\r\n",
        "\r\n",
        "glove_dir = 'drive/MyDrive/colab_lecture/datasets/'\r\n",
        "\r\n",
        "embeddings_index = {}\r\n",
        "f = open(os.path.join(glove_dir, 'glove.6B.100d.txt'), encoding=\"utf8\")\r\n",
        "for line in f:\r\n",
        "    values = line.split()\r\n",
        "    word = values[0]\r\n",
        "    coefs = np.asarray(values[1:], dtype='float32')\r\n",
        "    embeddings_index[word] = coefs\r\n",
        "f.close()\r\n",
        "\r\n",
        "print('%s개의 단어 벡터를 찾았습니다.' % len(embeddings_index))"
      ],
      "execution_count": 6,
      "outputs": [
        {
          "output_type": "stream",
          "text": [
            "400000개의 단어 벡터를 찾았습니다.\n"
          ],
          "name": "stdout"
        }
      ]
    },
    {
      "cell_type": "code",
      "metadata": {
        "colab": {
          "base_uri": "https://localhost:8080/"
        },
        "id": "TTrtIwPL0-wC",
        "outputId": "2199d405-0311-41c5-fb76-978e65f0f7bc"
      },
      "source": [
        "embeddings_index['the']"
      ],
      "execution_count": 21,
      "outputs": [
        {
          "output_type": "execute_result",
          "data": {
            "text/plain": [
              "array([-0.038194, -0.24487 ,  0.72812 , -0.39961 ,  0.083172,  0.043953,\n",
              "       -0.39141 ,  0.3344  , -0.57545 ,  0.087459,  0.28787 , -0.06731 ,\n",
              "        0.30906 , -0.26384 , -0.13231 , -0.20757 ,  0.33395 , -0.33848 ,\n",
              "       -0.31743 , -0.48336 ,  0.1464  , -0.37304 ,  0.34577 ,  0.052041,\n",
              "        0.44946 , -0.46971 ,  0.02628 , -0.54155 , -0.15518 , -0.14107 ,\n",
              "       -0.039722,  0.28277 ,  0.14393 ,  0.23464 , -0.31021 ,  0.086173,\n",
              "        0.20397 ,  0.52624 ,  0.17164 , -0.082378, -0.71787 , -0.41531 ,\n",
              "        0.20335 , -0.12763 ,  0.41367 ,  0.55187 ,  0.57908 , -0.33477 ,\n",
              "       -0.36559 , -0.54857 , -0.062892,  0.26584 ,  0.30205 ,  0.99775 ,\n",
              "       -0.80481 , -3.0243  ,  0.01254 , -0.36942 ,  2.2167  ,  0.72201 ,\n",
              "       -0.24978 ,  0.92136 ,  0.034514,  0.46745 ,  1.1079  , -0.19358 ,\n",
              "       -0.074575,  0.23353 , -0.052062, -0.22044 ,  0.057162, -0.15806 ,\n",
              "       -0.30798 , -0.41625 ,  0.37972 ,  0.15006 , -0.53212 , -0.2055  ,\n",
              "       -1.2526  ,  0.071624,  0.70565 ,  0.49744 , -0.42063 ,  0.26148 ,\n",
              "       -1.538   , -0.30223 , -0.073438, -0.28312 ,  0.37104 , -0.25217 ,\n",
              "        0.016215, -0.017099, -0.38984 ,  0.87424 , -0.72569 , -0.51058 ,\n",
              "       -0.52028 , -0.1459  ,  0.8278  ,  0.27062 ], dtype=float32)"
            ]
          },
          "metadata": {
            "tags": []
          },
          "execution_count": 21
        }
      ]
    },
    {
      "cell_type": "code",
      "metadata": {
        "id": "zcW8wg8G0kqL"
      },
      "source": [
        "embedding_dim = 100\r\n",
        "\r\n",
        "embedding_matrix = np.zeros((max_words, embedding_dim))\r\n",
        "for word, i in word_index.items():\r\n",
        "    embedding_vector = embeddings_index.get(word)\r\n",
        "    if i < max_words:\r\n",
        "        if embedding_vector is not None:\r\n",
        "            # 임베딩 인덱스에 없는 단어는 모두 0이 됩니다.\r\n",
        "            embedding_matrix[i] = embedding_vector"
      ],
      "execution_count": 22,
      "outputs": []
    },
    {
      "cell_type": "code",
      "metadata": {
        "colab": {
          "base_uri": "https://localhost:8080/"
        },
        "id": "XN6gso7K3Sfk",
        "outputId": "994ce10c-5b15-431e-e642-fcb8369584a0"
      },
      "source": [
        "print(embedding_matrix.shape)"
      ],
      "execution_count": 23,
      "outputs": [
        {
          "output_type": "stream",
          "text": [
            "(10000, 100)\n"
          ],
          "name": "stdout"
        },
        {
          "output_type": "execute_result",
          "data": {
            "text/plain": [
              "array([-0.046539  ,  0.61966002,  0.56647003, -0.46584001, -1.18900001,\n",
              "        0.44599   ,  0.066035  ,  0.31909999,  0.14679   , -0.22119001,\n",
              "        0.79238999,  0.29905   ,  0.16073   ,  0.025324  ,  0.18678001,\n",
              "       -0.31000999, -0.28108001,  0.60514998, -1.0654    ,  0.52476001,\n",
              "        0.064152  ,  1.03579998, -0.40779001, -0.38011   ,  0.30801001,\n",
              "        0.59964001, -0.26991001, -0.76034999,  0.94221997, -0.46919   ,\n",
              "       -0.18278   ,  0.90652001,  0.79671001,  0.24824999,  0.25713   ,\n",
              "        0.6232    , -0.44768   ,  0.65357   ,  0.76902002, -0.51229   ,\n",
              "       -0.44332999, -0.21867   ,  0.38370001, -1.14830005, -0.94397998,\n",
              "       -0.15062   ,  0.30012   , -0.57805997,  0.20175   , -1.65910006,\n",
              "       -0.079195  ,  0.026423  ,  0.22051001,  0.99713999, -0.57538998,\n",
              "       -2.72659993,  0.31448001,  0.70521998,  1.43809998,  0.99125999,\n",
              "        0.13976   ,  1.34739995, -1.1753    ,  0.0039503 ,  1.02980006,\n",
              "        0.064637  ,  0.90886998,  0.82871997, -0.47003001, -0.10575   ,\n",
              "        0.5916    , -0.42210001,  0.57331002, -0.54114002,  0.10768   ,\n",
              "        0.39783999, -0.048744  ,  0.064596  , -0.61436999, -0.28600001,\n",
              "        0.50669998, -0.49757999, -0.81569999,  0.16407999, -1.96300006,\n",
              "       -0.26693001, -0.37593001, -0.95846999, -0.85839999, -0.71577001,\n",
              "       -0.32343   , -0.43121001,  0.41391999,  0.28374001, -0.70931   ,\n",
              "        0.15003   , -0.2154    , -0.37616   , -0.032502  ,  0.80620003])"
            ]
          },
          "metadata": {
            "tags": []
          },
          "execution_count": 23
        }
      ]
    },
    {
      "cell_type": "code",
      "metadata": {
        "colab": {
          "base_uri": "https://localhost:8080/"
        },
        "id": "0iAyxMyO4EBB",
        "outputId": "cb643026-0e0c-4a8c-f855-79ad8e165230"
      },
      "source": [
        "# 모델 정의하기\r\n",
        "from keras.models import Sequential\r\n",
        "from keras.layers import Embedding, Flatten, Dense\r\n",
        "\r\n",
        "model = Sequential()\r\n",
        "model.add(Embedding(max_words, embedding_dim, input_length=maxlen))\r\n",
        "model.add(Flatten())\r\n",
        "model.add(Dense(32, activation='relu'))\r\n",
        "model.add(Dense(1, activation='sigmoid'))\r\n",
        "model.summary()"
      ],
      "execution_count": 24,
      "outputs": [
        {
          "output_type": "stream",
          "text": [
            "Model: \"sequential\"\n",
            "_________________________________________________________________\n",
            "Layer (type)                 Output Shape              Param #   \n",
            "=================================================================\n",
            "embedding (Embedding)        (None, 100, 100)          1000000   \n",
            "_________________________________________________________________\n",
            "flatten (Flatten)            (None, 10000)             0         \n",
            "_________________________________________________________________\n",
            "dense (Dense)                (None, 32)                320032    \n",
            "_________________________________________________________________\n",
            "dense_1 (Dense)              (None, 1)                 33        \n",
            "=================================================================\n",
            "Total params: 1,320,065\n",
            "Trainable params: 1,320,065\n",
            "Non-trainable params: 0\n",
            "_________________________________________________________________\n"
          ],
          "name": "stdout"
        }
      ]
    },
    {
      "cell_type": "code",
      "metadata": {
        "id": "fy6OR3kp4NrC"
      },
      "source": [
        "# 모델에 GloVe 임베딩 로드하기\r\n",
        "model.layers[0].set_weights([embedding_matrix])\r\n",
        "model.layers[0].trainable = False  # 임베딩 층 동결"
      ],
      "execution_count": 25,
      "outputs": []
    },
    {
      "cell_type": "code",
      "metadata": {
        "colab": {
          "base_uri": "https://localhost:8080/"
        },
        "id": "p7vv9ol05LuS",
        "outputId": "05d822fa-5d7c-443e-8b6d-f2bafd82e98b"
      },
      "source": [
        "model.compile(optimizer='rmsprop',\r\n",
        "              loss='binary_crossentropy',\r\n",
        "              metrics=['acc'])\r\n",
        "history = model.fit(x_train, y_train,\r\n",
        "                    epochs=10,\r\n",
        "                    batch_size=32,\r\n",
        "                    validation_data=(x_val, y_val))\r\n",
        "model.save_weights('drive/MyDrive/colab_lecture/pre_trained_glove_model.h5')"
      ],
      "execution_count": 26,
      "outputs": [
        {
          "output_type": "stream",
          "text": [
            "Epoch 1/10\n",
            "7/7 [==============================] - 3s 155ms/step - loss: 2.3475 - acc: 0.5358 - val_loss: 0.7219 - val_acc: 0.5099\n",
            "Epoch 2/10\n",
            "7/7 [==============================] - 1s 124ms/step - loss: 0.5611 - acc: 0.7139 - val_loss: 1.0450 - val_acc: 0.4994\n",
            "Epoch 3/10\n",
            "7/7 [==============================] - 1s 126ms/step - loss: 0.5177 - acc: 0.7549 - val_loss: 0.6892 - val_acc: 0.5611\n",
            "Epoch 4/10\n",
            "7/7 [==============================] - 1s 123ms/step - loss: 0.3434 - acc: 0.8729 - val_loss: 0.8624 - val_acc: 0.5135\n",
            "Epoch 5/10\n",
            "7/7 [==============================] - 1s 125ms/step - loss: 0.3824 - acc: 0.8142 - val_loss: 0.7206 - val_acc: 0.5507\n",
            "Epoch 6/10\n",
            "7/7 [==============================] - 1s 124ms/step - loss: 0.1936 - acc: 0.9645 - val_loss: 1.1723 - val_acc: 0.5078\n",
            "Epoch 7/10\n",
            "7/7 [==============================] - 1s 124ms/step - loss: 0.1246 - acc: 0.9784 - val_loss: 1.0463 - val_acc: 0.5199\n",
            "Epoch 8/10\n",
            "7/7 [==============================] - 1s 122ms/step - loss: 0.0978 - acc: 0.9802 - val_loss: 1.4911 - val_acc: 0.5044\n",
            "Epoch 9/10\n",
            "7/7 [==============================] - 1s 122ms/step - loss: 0.1686 - acc: 0.9212 - val_loss: 0.8193 - val_acc: 0.5508\n",
            "Epoch 10/10\n",
            "7/7 [==============================] - 1s 124ms/step - loss: 0.0262 - acc: 1.0000 - val_loss: 0.8477 - val_acc: 0.5615\n"
          ],
          "name": "stdout"
        }
      ]
    },
    {
      "cell_type": "code",
      "metadata": {
        "colab": {
          "base_uri": "https://localhost:8080/",
          "height": 544
        },
        "id": "qos8WEBs5Tx5",
        "outputId": "f5cdb320-749b-43fd-dcf7-56fd46535645"
      },
      "source": [
        "import matplotlib.pyplot as plt\r\n",
        "\r\n",
        "acc = history.history['acc']\r\n",
        "val_acc = history.history['val_acc']\r\n",
        "loss = history.history['loss']\r\n",
        "val_loss = history.history['val_loss']\r\n",
        "\r\n",
        "epochs = range(1, len(acc) + 1)\r\n",
        "\r\n",
        "plt.plot(epochs, acc, 'bo', label='Training accuracy')\r\n",
        "plt.plot(epochs, val_acc, 'b', label='Validation acc')\r\n",
        "plt.title('Training and validation accuracy')\r\n",
        "plt.legend()\r\n",
        "\r\n",
        "plt.figure()\r\n",
        "\r\n",
        "plt.plot(epochs, loss, 'bo', label='Training loss')\r\n",
        "plt.plot(epochs, val_loss, 'b', label='Validation loss')\r\n",
        "plt.title('Training and validation loss')\r\n",
        "plt.legend()\r\n",
        "\r\n",
        "plt.show()"
      ],
      "execution_count": 28,
      "outputs": [
        {
          "output_type": "display_data",
          "data": {
            "image/png": "[encoded data removed]",
            "text/plain": [
              "<Figure size 432x288 with 1 Axes>"
            ]
          },
          "metadata": {
            "tags": [],
            "needs_background": "light"
          }
        },
        {
          "output_type": "display_data",
          "data": {
            "image/png": "[encoded data removed]",
            "text/plain": [
              "<Figure size 432x288 with 1 Axes>"
            ]
          },
          "metadata": {
            "tags": [],
            "needs_background": "light"
          }
        }
      ]
    },
    {
      "cell_type": "code",
      "metadata": {
        "id": "nOIXUq885yfT"
      },
      "source": [
        "# 훈련 샘플의 수를 2000개로 늘려서 확인해 보겠습니다.\r\n",
        "\r\n",
        "training_samples = 2000\r\n",
        "x_train = data[:training_samples]\r\n",
        "y_train = labels[:training_samples]\r\n",
        "x_val = data[training_samples: training_samples + validation_samples]\r\n",
        "y_val = labels[training_samples: training_samples + validation_samples]"
      ],
      "execution_count": 29,
      "outputs": []
    },
    {
      "cell_type": "code",
      "metadata": {
        "colab": {
          "base_uri": "https://localhost:8080/"
        },
        "id": "c5EdRh_757TS",
        "outputId": "f0202127-165a-4599-9424-1128c211396d"
      },
      "source": [
        "history = model.fit(x_train, y_train,\r\n",
        "                    epochs=10,\r\n",
        "                    batch_size=32,\r\n",
        "                    validation_data=(x_val, y_val))"
      ],
      "execution_count": 30,
      "outputs": [
        {
          "output_type": "stream",
          "text": [
            "Epoch 1/10\n",
            "63/63 [==============================] - 1s 16ms/step - loss: 0.6887 - acc: 0.6210 - val_loss: 0.6437 - val_acc: 0.6229\n",
            "Epoch 2/10\n",
            "63/63 [==============================] - 1s 15ms/step - loss: 0.5352 - acc: 0.7340 - val_loss: 1.0319 - val_acc: 0.5166\n",
            "Epoch 3/10\n",
            "63/63 [==============================] - 1s 16ms/step - loss: 0.4416 - acc: 0.7975 - val_loss: 0.9968 - val_acc: 0.5610\n",
            "Epoch 4/10\n",
            "63/63 [==============================] - 1s 15ms/step - loss: 0.3542 - acc: 0.8505 - val_loss: 0.6652 - val_acc: 0.6452\n",
            "Epoch 5/10\n",
            "63/63 [==============================] - 1s 15ms/step - loss: 0.2742 - acc: 0.8985 - val_loss: 0.7628 - val_acc: 0.6182\n",
            "Epoch 6/10\n",
            "63/63 [==============================] - 1s 15ms/step - loss: 0.1958 - acc: 0.9335 - val_loss: 0.9540 - val_acc: 0.5972\n",
            "Epoch 7/10\n",
            "63/63 [==============================] - 1s 15ms/step - loss: 0.1535 - acc: 0.9500 - val_loss: 0.8057 - val_acc: 0.6345\n",
            "Epoch 8/10\n",
            "63/63 [==============================] - 1s 15ms/step - loss: 0.1059 - acc: 0.9635 - val_loss: 1.0452 - val_acc: 0.6103\n",
            "Epoch 9/10\n",
            "63/63 [==============================] - 1s 15ms/step - loss: 0.0832 - acc: 0.9730 - val_loss: 0.8461 - val_acc: 0.6388\n",
            "Epoch 10/10\n",
            "63/63 [==============================] - 1s 15ms/step - loss: 0.0564 - acc: 0.9855 - val_loss: 0.9300 - val_acc: 0.6404\n"
          ],
          "name": "stdout"
        }
      ]
    },
    {
      "cell_type": "code",
      "metadata": {
        "colab": {
          "base_uri": "https://localhost:8080/",
          "height": 544
        },
        "id": "JbYCgllX6Fvh",
        "outputId": "85bfbfcf-82d8-4272-e0b7-483db3d6fe47"
      },
      "source": [
        "acc = history.history['acc']\r\n",
        "val_acc = history.history['val_acc']\r\n",
        "loss = history.history['loss']\r\n",
        "val_loss = history.history['val_loss']\r\n",
        "\r\n",
        "epochs = range(1, len(acc) + 1)\r\n",
        "\r\n",
        "plt.plot(epochs, acc, 'bo', label='Training acc')\r\n",
        "plt.plot(epochs, val_acc, 'b', label='Validation acc')\r\n",
        "plt.title('Training and validation accuracy')\r\n",
        "plt.legend()\r\n",
        "\r\n",
        "plt.figure()\r\n",
        "\r\n",
        "plt.plot(epochs, loss, 'bo', label='Training loss')\r\n",
        "plt.plot(epochs, val_loss, 'b', label='Validation loss')\r\n",
        "plt.title('Training and validation loss')\r\n",
        "plt.legend()\r\n",
        "\r\n",
        "plt.show()"
      ],
      "execution_count": 31,
      "outputs": [
        {
          "output_type": "display_data",
          "data": {
            "image/png": "[encoded data removed]",
            "text/plain": [
              "<Figure size 432x288 with 1 Axes>"
            ]
          },
          "metadata": {
            "tags": [],
            "needs_background": "light"
          }
        },
        {
          "output_type": "display_data",
          "data": {
            "image/png": "[encoded data removed]",
            "text/plain": [
              "<Figure size 432x288 with 1 Axes>"
            ]
          },
          "metadata": {
            "tags": [],
            "needs_background": "light"
          }
        }
      ]
    },
    {
      "cell_type": "code",
      "metadata": {
        "id": "J8YR7TXw6aih"
      },
      "source": [
        "test_dir = os.path.join(imdb_dir, 'test')\r\n",
        "\r\n",
        "labels = []\r\n",
        "texts = []\r\n",
        "\r\n",
        "for label_type in ['neg', 'pos']:\r\n",
        "    dir_name = os.path.join(test_dir, label_type)\r\n",
        "    for fname in sorted(os.listdir(dir_name)):\r\n",
        "        if fname[-4:] == '.txt':\r\n",
        "            f = open(os.path.join(dir_name, fname), encoding=\"utf8\")\r\n",
        "            texts.append(f.read())\r\n",
        "            f.close()\r\n",
        "            if label_type == 'neg':\r\n",
        "                labels.append(0)\r\n",
        "            else:\r\n",
        "                labels.append(1)\r\n",
        "\r\n",
        "sequences = tokenizer.texts_to_sequences(texts)\r\n",
        "x_test = pad_sequences(sequences, maxlen=maxlen)\r\n",
        "y_test = np.asarray(labels)"
      ],
      "execution_count": 32,
      "outputs": []
    },
    {
      "cell_type": "code",
      "metadata": {
        "colab": {
          "base_uri": "https://localhost:8080/"
        },
        "id": "T9cLosQv6kpy",
        "outputId": "62965727-b69a-408d-b00b-952c6c1e1d51"
      },
      "source": [
        "model.evaluate(x_test, y_test)"
      ],
      "execution_count": 33,
      "outputs": [
        {
          "output_type": "stream",
          "text": [
            "782/782 [==============================] - 2s 2ms/step - loss: 0.9256 - acc: 0.6405\n"
          ],
          "name": "stdout"
        },
        {
          "output_type": "execute_result",
          "data": {
            "text/plain": [
              "[0.925615131855011, 0.6405199766159058]"
            ]
          },
          "metadata": {
            "tags": []
          },
          "execution_count": 33
        }
      ]
    }
  ]
}