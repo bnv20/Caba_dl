{
  "nbformat": 4,
  "nbformat_minor": 0,
  "metadata": {
    "colab": {
      "name": "colab_basic.ipynb",
      "provenance": [],
      "collapsed_sections": [],
      "include_colab_link": true
    },
    "kernelspec": {
      "name": "python3",
      "display_name": "Python 3"
    },
    "accelerator": "GPU"
  },
  "cells": [
    {
      "cell_type": "markdown",
      "metadata": {
        "id": "view-in-github",
        "colab_type": "text"
      },
      "source": [
        "<a href=\"https://colab.research.google.com/github/bnv20/Caba_nlp/blob/main/colab_basic.ipynb\" target=\"_parent\"><img src=\"https://colab.research.google.com/assets/colab-badge.svg\" alt=\"Open In Colab\"/></a>"
      ]
    },
    {
      "cell_type": "markdown",
      "metadata": {
        "id": "k_J0DgFnLIFk"
      },
      "source": [
        "![Open in Colab](https://colab.research.google.com/assets/colab-badge.svg)"
      ]
    },
    {
      "cell_type": "code",
      "metadata": {
        "colab": {
          "base_uri": "https://localhost:8080/"
        },
        "id": "iA0BTHkmCaE3",
        "outputId": "511e372e-8381-4997-eb9b-14a8849b0cdf"
      },
      "source": [
        "from google.colab import drive\n",
        "drive.mount('/content/drive')"
      ],
      "execution_count": 130,
      "outputs": [
        {
          "output_type": "stream",
          "text": [
            "Drive already mounted at /content/drive; to attempt to forcibly remount, call drive.mount(\"/content/drive\", force_remount=True).\n"
          ],
          "name": "stdout"
        }
      ]
    },
    {
      "cell_type": "code",
      "metadata": {
        "colab": {
          "base_uri": "https://localhost:8080/",
          "height": 35
        },
        "id": "y7WRUk7H02ME",
        "outputId": "2b2707c7-9de0-4de7-dc18-d9f97c8c4537"
      },
      "source": [
        "import platform\r\n",
        "platform.platform()"
      ],
      "execution_count": null,
      "outputs": [
        {
          "output_type": "execute_result",
          "data": {
            "application/vnd.google.colaboratory.intrinsic+json": {
              "type": "string"
            },
            "text/plain": [
              "'Linux-4.19.112+-x86_64-with-Ubuntu-18.04-bionic'"
            ]
          },
          "metadata": {
            "tags": []
          },
          "execution_count": 1
        }
      ]
    },
    {
      "cell_type": "code",
      "metadata": {
        "colab": {
          "base_uri": "https://localhost:8080/"
        },
        "id": "euMK-jdR1foW",
        "outputId": "4f9fdb43-7135-48ba-e91d-9737d3487cba"
      },
      "source": [
        "!cat /etc/issue.net"
      ],
      "execution_count": null,
      "outputs": [
        {
          "output_type": "stream",
          "text": [
            "Ubuntu 18.04.5 LTS\n"
          ],
          "name": "stdout"
        }
      ]
    },
    {
      "cell_type": "code",
      "metadata": {
        "id": "GMt5ZUZf0_9T"
      },
      "source": [
        "!cat /proc/cpuinfo"
      ],
      "execution_count": null,
      "outputs": []
    },
    {
      "cell_type": "code",
      "metadata": {
        "id": "-Bzpdy6r1ZJU"
      },
      "source": [
        "!cat /proc/meminfo"
      ],
      "execution_count": null,
      "outputs": []
    },
    {
      "cell_type": "code",
      "metadata": {
        "colab": {
          "base_uri": "https://localhost:8080/"
        },
        "id": "aWeryFEl1oUL",
        "outputId": "2f45281f-f6ff-4dfe-fedb-e364d0f5f953"
      },
      "source": [
        "!nvidia-smi"
      ],
      "execution_count": null,
      "outputs": [
        {
          "output_type": "stream",
          "text": [
            "Tue Mar  2 07:35:42 2021       \n",
            "+-----------------------------------------------------------------------------+\n",
            "| NVIDIA-SMI 460.39       Driver Version: 460.32.03    CUDA Version: 11.2     |\n",
            "|-------------------------------+----------------------+----------------------+\n",
            "| GPU  Name        Persistence-M| Bus-Id        Disp.A | Volatile Uncorr. ECC |\n",
            "| Fan  Temp  Perf  Pwr:Usage/Cap|         Memory-Usage | GPU-Util  Compute M. |\n",
            "|                               |                      |               MIG M. |\n",
            "|===============================+======================+======================|\n",
            "|   0  Tesla T4            Off  | 00000000:00:04.0 Off |                    0 |\n",
            "| N/A   56C    P8    11W /  70W |      0MiB / 15109MiB |      0%      Default |\n",
            "|                               |                      |                  N/A |\n",
            "+-------------------------------+----------------------+----------------------+\n",
            "                                                                               \n",
            "+-----------------------------------------------------------------------------+\n",
            "| Processes:                                                                  |\n",
            "|  GPU   GI   CI        PID   Type   Process name                  GPU Memory |\n",
            "|        ID   ID                                                   Usage      |\n",
            "|=============================================================================|\n",
            "|  No running processes found                                                 |\n",
            "+-----------------------------------------------------------------------------+\n"
          ],
          "name": "stdout"
        }
      ]
    },
    {
      "cell_type": "code",
      "metadata": {
        "colab": {
          "base_uri": "https://localhost:8080/"
        },
        "id": "kuOKVdS81tWV",
        "outputId": "aa95ef4c-5e90-4118-8df3-3d1defdd7268"
      },
      "source": [
        "help(min)"
      ],
      "execution_count": null,
      "outputs": [
        {
          "output_type": "stream",
          "text": [
            "Help on built-in function min in module builtins:\n",
            "\n",
            "min(...)\n",
            "    min(iterable, *[, default=obj, key=func]) -> value\n",
            "    min(arg1, arg2, *args, *[, key=func]) -> value\n",
            "    \n",
            "    With a single iterable argument, return its smallest item. The\n",
            "    default keyword-only argument specifies an object to return if\n",
            "    the provided iterable is empty.\n",
            "    With two or more arguments, return the smallest argument.\n",
            "\n"
          ],
          "name": "stdout"
        }
      ]
    },
    {
      "cell_type": "markdown",
      "metadata": {
        "id": "923FEXfM421_"
      },
      "source": [
        "[magic command](https://steemit.com/kr/@radajin/how-to-use-jupyter-notebook)"
      ]
    },
    {
      "cell_type": "code",
      "metadata": {
        "id": "nMUqb_LU16U8"
      },
      "source": [
        "# 매직 명령어  \r\n",
        "# Jupyter Notebook 환경에서 파이썬 파일 저장 및 실행\r\n",
        "%%writefile test.py\r\n",
        "print('Hello Colab')"
      ],
      "execution_count": null,
      "outputs": []
    },
    {
      "cell_type": "code",
      "metadata": {
        "id": "7T41zmx-1_ZM"
      },
      "source": [
        "# 파이썬 파일 실행\r\n",
        "%run test.py"
      ],
      "execution_count": null,
      "outputs": []
    },
    {
      "cell_type": "code",
      "metadata": {
        "id": "LHBpjZeO2DNF",
        "colab": {
          "base_uri": "https://localhost:8080/"
        },
        "outputId": "d7a524c0-f075-438d-cec7-d8499a51c4a7"
      },
      "source": [
        "# 코드 실행 시간 : 한줄\r\n",
        "%timeit li = [n ** n for n in range(10000)]"
      ],
      "execution_count": null,
      "outputs": [
        {
          "output_type": "stream",
          "text": [
            "1 loop, best of 5: 5.06 s per loop\n"
          ],
          "name": "stdout"
        }
      ]
    },
    {
      "cell_type": "code",
      "metadata": {
        "id": "mbDIyZRH2JUc",
        "colab": {
          "base_uri": "https://localhost:8080/"
        },
        "outputId": "9b29740c-b8a2-46a5-bda8-79360306872b"
      },
      "source": [
        "# 코드 실행 시간 : 여러 줄\r\n",
        "%%timeit\r\n",
        "li = []\r\n",
        "for n in range(10000):\r\n",
        "  li.append(n ** n)"
      ],
      "execution_count": null,
      "outputs": [
        {
          "output_type": "stream",
          "text": [
            "1 loop, best of 5: 5.08 s per loop\n"
          ],
          "name": "stdout"
        }
      ]
    },
    {
      "cell_type": "code",
      "metadata": {
        "colab": {
          "base_uri": "https://localhost:8080/",
          "height": 35
        },
        "id": "PjGIqKg8yhBM",
        "outputId": "7ebc41bc-64a6-4d36-b78f-844c073c0c9c"
      },
      "source": [
        "In[19]"
      ],
      "execution_count": null,
      "outputs": [
        {
          "output_type": "execute_result",
          "data": {
            "application/vnd.google.colaboratory.intrinsic+json": {
              "type": "string"
            },
            "text/plain": [
              "\"get_ipython().run_cell_magic('timeit', '', 'li = []\\\\nfor n in range(10000):\\\\n  li.append(n ** n)')\""
            ]
          },
          "metadata": {
            "tags": []
          },
          "execution_count": 21
        }
      ]
    },
    {
      "cell_type": "code",
      "metadata": {
        "colab": {
          "base_uri": "https://localhost:8080/",
          "height": 35
        },
        "id": "3HK553S9ypJW",
        "outputId": "0bd11d3c-00e3-4ddd-fd9e-18e579469f97"
      },
      "source": [
        "Out[21]"
      ],
      "execution_count": null,
      "outputs": [
        {
          "output_type": "execute_result",
          "data": {
            "application/vnd.google.colaboratory.intrinsic+json": {
              "type": "string"
            },
            "text/plain": [
              "\"get_ipython().run_cell_magic('timeit', '', 'li = []\\\\nfor n in range(10000):\\\\n  li.append(n ** n)')\""
            ]
          },
          "metadata": {
            "tags": []
          },
          "execution_count": 24
        }
      ]
    },
    {
      "cell_type": "code",
      "metadata": {
        "colab": {
          "base_uri": "https://localhost:8080/"
        },
        "id": "-O3z3GztzZxK",
        "outputId": "a12306af-9912-42cf-cd3d-4e48a2d74085"
      },
      "source": [
        "%history -n 19-24"
      ],
      "execution_count": null,
      "outputs": [
        {
          "output_type": "stream",
          "text": [
            "  19:\n",
            "%%timeit\n",
            "li = []\n",
            "for n in range(10000):\n",
            "  li.append(n ** n)\n",
            "  20: In\n",
            "  21: In[19]\n",
            "  22: Out[18]\n",
            "  23: Out[19]\n",
            "  24: Out[21]\n"
          ],
          "name": "stdout"
        }
      ]
    },
    {
      "cell_type": "code",
      "metadata": {
        "colab": {
          "base_uri": "https://localhost:8080/"
        },
        "id": "gmjw3qLoz6o1",
        "outputId": "1e4ef5fb-9988-4da7-f930-61b4d0c6b376"
      },
      "source": [
        "# 이전입력 다시 실행\r\n",
        "%rerun"
      ],
      "execution_count": null,
      "outputs": [
        {
          "output_type": "stream",
          "text": [
            "=== Executing: ===\n",
            "%history -n 19-24\n",
            "=== Output: ===\n",
            "  19:\n",
            "%%timeit\n",
            "li = []\n",
            "for n in range(10000):\n",
            "  li.append(n ** n)\n",
            "  20: In\n",
            "  21: In[19]\n",
            "  22: Out[18]\n",
            "  23: Out[19]\n",
            "  24: Out[21]\n"
          ],
          "name": "stdout"
        }
      ]
    },
    {
      "cell_type": "markdown",
      "metadata": {
        "id": "i2eogx_15nuu"
      },
      "source": [
        "Shell command\r\n",
        "- 텍스트 기반의 셀 명령어 처리\r\n",
        "- ! 문자를 명령어 앞에 붙여서 셀 명령어 사용 가능\r\n",
        "- ls 디렉토리 리스트 보기"
      ]
    },
    {
      "cell_type": "code",
      "metadata": {
        "colab": {
          "base_uri": "https://localhost:8080/"
        },
        "id": "7lQXR7ah2WVu",
        "outputId": "1d7ec3b1-8d8c-44fd-cca6-b403e1f82be7"
      },
      "source": [
        "# 디렉토리 목록 확인\r\n",
        "# !ls -al\r\n",
        "# !ls -l\r\n",
        "# !ls -a\r\n",
        "!ls"
      ],
      "execution_count": 141,
      "outputs": [
        {
          "output_type": "stream",
          "text": [
            "drive  sample_data\n"
          ],
          "name": "stdout"
        }
      ]
    },
    {
      "cell_type": "code",
      "metadata": {
        "colab": {
          "base_uri": "https://localhost:8080/"
        },
        "id": "SSxefEih2HOx",
        "outputId": "568d0af9-37d5-4266-d97e-e0377d8f0d55"
      },
      "source": [
        "# cd: 디렉토리 변경\r\n",
        "# IPython에서는 임시 셀에서 실행\r\n",
        "!cd sample_data/ && ls"
      ],
      "execution_count": 142,
      "outputs": [
        {
          "output_type": "stream",
          "text": [
            "anscombe.json\t\t      mnist_test.csv\n",
            "california_housing_test.csv   mnist_train_small.csv\n",
            "california_housing_train.csv  README.md\n"
          ],
          "name": "stdout"
        }
      ]
    },
    {
      "cell_type": "code",
      "metadata": {
        "colab": {
          "base_uri": "https://localhost:8080/"
        },
        "id": "dOCbkO744L5S",
        "outputId": "884f9a85-886a-4fb2-c052-65dc3d26e4de"
      },
      "source": [
        "# 지속적이 디렉토리 변경 : 매직 명령어\r\n",
        "%cd sample_data/"
      ],
      "execution_count": 143,
      "outputs": [
        {
          "output_type": "stream",
          "text": [
            "/content/sample_data\n"
          ],
          "name": "stdout"
        }
      ]
    },
    {
      "cell_type": "code",
      "metadata": {
        "colab": {
          "base_uri": "https://localhost:8080/"
        },
        "id": "KXk2N4Ag2PfV",
        "outputId": "253fd292-e3d4-4e8e-b2e9-e3c2d471f61b"
      },
      "source": [
        "# 화면 출력\r\n",
        "!echo \"Shell\""
      ],
      "execution_count": 144,
      "outputs": [
        {
          "output_type": "stream",
          "text": [
            "Shell\n"
          ],
          "name": "stdout"
        }
      ]
    },
    {
      "cell_type": "code",
      "metadata": {
        "id": "kfwCjlix2UyE"
      },
      "source": [
        "# 디렉토리 생성\r\n",
        "!mkdir data"
      ],
      "execution_count": 145,
      "outputs": []
    },
    {
      "cell_type": "code",
      "metadata": {
        "colab": {
          "base_uri": "https://localhost:8080/"
        },
        "id": "NS1XWaKVA_nA",
        "outputId": "d0d08be7-2f7d-4f5b-8464-4847329dda05"
      },
      "source": [
        "!ls"
      ],
      "execution_count": 146,
      "outputs": [
        {
          "output_type": "stream",
          "text": [
            "anscombe.json\t\t      data\t\t     README.md\n",
            "california_housing_test.csv   mnist_test.csv\n",
            "california_housing_train.csv  mnist_train_small.csv\n"
          ],
          "name": "stdout"
        }
      ]
    },
    {
      "cell_type": "code",
      "metadata": {
        "colab": {
          "base_uri": "https://localhost:8080/"
        },
        "id": "oXvjQF7S2aWu",
        "outputId": "9241a367-fc20-4416-9564-b012ca2ad472"
      },
      "source": [
        "# 읽기\r\n",
        "!cat README.md"
      ],
      "execution_count": 147,
      "outputs": [
        {
          "output_type": "stream",
          "text": [
            "This directory includes a few sample datasets to get you started.\n",
            "\n",
            "*   `california_housing_data*.csv` is California housing data from the 1990 US\n",
            "    Census; more information is available at:\n",
            "    https://developers.google.com/machine-learning/crash-course/california-housing-data-description\n",
            "\n",
            "*   `mnist_*.csv` is a small sample of the\n",
            "    [MNIST database](https://en.wikipedia.org/wiki/MNIST_database), which is\n",
            "    described at: http://yann.lecun.com/exdb/mnist/\n",
            "\n",
            "*   `anscombe.json` contains a copy of\n",
            "    [Anscombe's quartet](https://en.wikipedia.org/wiki/Anscombe%27s_quartet); it\n",
            "    was originally described in\n",
            "\n",
            "    Anscombe, F. J. (1973). 'Graphs in Statistical Analysis'. American\n",
            "    Statistician. 27 (1): 17-21. JSTOR 2682899.\n",
            "\n",
            "    and our copy was prepared by the\n",
            "    [vega_datasets library](https://github.com/altair-viz/vega_datasets/blob/4f67bdaad10f45e3549984e17e1b3088c731503d/vega_datasets/_data/anscombe.json).\n"
          ],
          "name": "stdout"
        }
      ]
    },
    {
      "cell_type": "code",
      "metadata": {
        "id": "LyHLZcmk2eb8"
      },
      "source": [
        "# cp : 디렉토리 /파일 복사\r\n",
        "!cp README.md data"
      ],
      "execution_count": 148,
      "outputs": []
    },
    {
      "cell_type": "code",
      "metadata": {
        "id": "o7k-Drhf2h7M",
        "colab": {
          "base_uri": "https://localhost:8080/"
        },
        "outputId": "c0d97c53-95ce-4d8d-ab3b-96fdc6fdab78"
      },
      "source": [
        "!ls"
      ],
      "execution_count": 149,
      "outputs": [
        {
          "output_type": "stream",
          "text": [
            "anscombe.json\t\t      data\t\t     README.md\n",
            "california_housing_test.csv   mnist_test.csv\n",
            "california_housing_train.csv  mnist_train_small.csv\n"
          ],
          "name": "stdout"
        }
      ]
    },
    {
      "cell_type": "code",
      "metadata": {
        "colab": {
          "base_uri": "https://localhost:8080/"
        },
        "id": "_c9bGfw72oac",
        "outputId": "a2d7c60e-f53e-4cba-8022-a5970523a88a"
      },
      "source": [
        "!ls data/"
      ],
      "execution_count": 150,
      "outputs": [
        {
          "output_type": "stream",
          "text": [
            "README.md\n"
          ],
          "name": "stdout"
        }
      ]
    },
    {
      "cell_type": "code",
      "metadata": {
        "id": "WNuGO1e9-c30"
      },
      "source": [
        "# rm : 디렉토리/파일 삭제, -r 디렉토리와 그안에 파일 모두 지우기\r\n",
        "!rm -r data"
      ],
      "execution_count": 153,
      "outputs": []
    },
    {
      "cell_type": "code",
      "metadata": {
        "colab": {
          "base_uri": "https://localhost:8080/"
        },
        "id": "2afsuszM-2mA",
        "outputId": "fdb9b777-73df-4810-f75b-721f90689b7d"
      },
      "source": [
        "!ls"
      ],
      "execution_count": 154,
      "outputs": [
        {
          "output_type": "stream",
          "text": [
            "anscombe.json\t\t      mnist_test.csv\n",
            "california_housing_test.csv   mnist_train_small.csv\n",
            "california_housing_train.csv  README.md\n"
          ],
          "name": "stdout"
        }
      ]
    },
    {
      "cell_type": "code",
      "metadata": {
        "colab": {
          "base_uri": "https://localhost:8080/"
        },
        "id": "RUYyQSSD_hPu",
        "outputId": "3a81155d-c99d-4816-f109-5a2128bec33c"
      },
      "source": [
        "!mkdir data && ls"
      ],
      "execution_count": 155,
      "outputs": [
        {
          "output_type": "stream",
          "text": [
            "anscombe.json\t\t      data\t\t     README.md\n",
            "california_housing_test.csv   mnist_test.csv\n",
            "california_housing_train.csv  mnist_train_small.csv\n"
          ],
          "name": "stdout"
        }
      ]
    },
    {
      "cell_type": "code",
      "metadata": {
        "id": "5gB0SUpm_1jb"
      },
      "source": [
        "!mv README.md data"
      ],
      "execution_count": 156,
      "outputs": []
    },
    {
      "cell_type": "code",
      "metadata": {
        "colab": {
          "base_uri": "https://localhost:8080/"
        },
        "id": "_1cfyyw-AM9K",
        "outputId": "e8eadb0a-4358-4f81-b434-c28a830d2478"
      },
      "source": [
        "!cd data && ls"
      ],
      "execution_count": 157,
      "outputs": [
        {
          "output_type": "stream",
          "text": [
            "README.md\n"
          ],
          "name": "stdout"
        }
      ]
    },
    {
      "cell_type": "code",
      "metadata": {
        "id": "H2TqA2BJGVp8"
      },
      "source": [
        "!mv data/README.md ./"
      ],
      "execution_count": 158,
      "outputs": []
    },
    {
      "cell_type": "code",
      "metadata": {
        "colab": {
          "base_uri": "https://localhost:8080/"
        },
        "id": "GtdaZx-kAoSl",
        "outputId": "e7782c85-4eb9-4efe-e9f6-e164d9140573"
      },
      "source": [
        "!ls"
      ],
      "execution_count": 159,
      "outputs": [
        {
          "output_type": "stream",
          "text": [
            "anscombe.json\t\t      data\t\t     README.md\n",
            "california_housing_test.csv   mnist_test.csv\n",
            "california_housing_train.csv  mnist_train_small.csv\n"
          ],
          "name": "stdout"
        }
      ]
    },
    {
      "cell_type": "code",
      "metadata": {
        "colab": {
          "base_uri": "https://localhost:8080/"
        },
        "id": "-5YCZjA_Gp6l",
        "outputId": "bbf476f9-2de5-4740-910f-72e68dabddfb"
      },
      "source": [
        "!pwd"
      ],
      "execution_count": 160,
      "outputs": [
        {
          "output_type": "stream",
          "text": [
            "/content/sample_data\n"
          ],
          "name": "stdout"
        }
      ]
    },
    {
      "cell_type": "code",
      "metadata": {
        "colab": {
          "base_uri": "https://localhost:8080/"
        },
        "id": "pjnClnTp_oyb",
        "outputId": "56659a91-0e24-4b25-ed8a-a22996ffd91f"
      },
      "source": [
        "# 디렉토리 삭제\r\n",
        "!rmdir data && ls\r\n"
      ],
      "execution_count": 161,
      "outputs": [
        {
          "output_type": "stream",
          "text": [
            "anscombe.json\t\t      mnist_test.csv\n",
            "california_housing_test.csv   mnist_train_small.csv\n",
            "california_housing_train.csv  README.md\n"
          ],
          "name": "stdout"
        }
      ]
    },
    {
      "cell_type": "code",
      "metadata": {
        "colab": {
          "base_uri": "https://localhost:8080/"
        },
        "id": "PN1StJy8G-zt",
        "outputId": "0b8ae972-8a1d-475b-8757-b313601671e5"
      },
      "source": [
        "# 파일크기가 0인 파일 생성\r\n",
        "!touch test.txt && ls"
      ],
      "execution_count": 163,
      "outputs": [
        {
          "output_type": "stream",
          "text": [
            "anscombe.json\t\t      mnist_test.csv\t     test.txt\n",
            "california_housing_test.csv   mnist_train_small.csv\n",
            "california_housing_train.csv  README.md\n"
          ],
          "name": "stdout"
        }
      ]
    },
    {
      "cell_type": "code",
      "metadata": {
        "colab": {
          "base_uri": "https://localhost:8080/"
        },
        "id": "lTE_WcfdHJ-w",
        "outputId": "4d1198a9-0413-440a-d057-972142c8f78d"
      },
      "source": [
        "# 파일 삭제\r\n",
        "!rm test.txt && ls"
      ],
      "execution_count": 164,
      "outputs": [
        {
          "output_type": "stream",
          "text": [
            "anscombe.json\t\t      mnist_test.csv\n",
            "california_housing_test.csv   mnist_train_small.csv\n",
            "california_housing_train.csv  README.md\n"
          ],
          "name": "stdout"
        }
      ]
    },
    {
      "cell_type": "code",
      "metadata": {
        "colab": {
          "base_uri": "https://localhost:8080/"
        },
        "id": "yuD446gl1I5r",
        "outputId": "c3c5c13b-5e19-4d56-ffdf-425c5f962fac"
      },
      "source": [
        "!python --version"
      ],
      "execution_count": null,
      "outputs": [
        {
          "output_type": "stream",
          "text": [
            "Python 3.7.10\n"
          ],
          "name": "stdout"
        }
      ]
    },
    {
      "cell_type": "code",
      "metadata": {
        "colab": {
          "base_uri": "https://localhost:8080/",
          "height": 204
        },
        "id": "84lUnZcqCypl",
        "outputId": "c33aaabb-45d4-4320-9bc1-e76d7c91d073"
      },
      "source": [
        "import pandas as pd\r\n",
        "df = pd.read_csv('sample_data/california_housing_test.csv')\r\n",
        "df.head()"
      ],
      "execution_count": null,
      "outputs": [
        {
          "output_type": "execute_result",
          "data": {
            "text/html": [
              "<div>\n",
              "<style scoped>\n",
              "    .dataframe tbody tr th:only-of-type {\n",
              "        vertical-align: middle;\n",
              "    }\n",
              "\n",
              "    .dataframe tbody tr th {\n",
              "        vertical-align: top;\n",
              "    }\n",
              "\n",
              "    .dataframe thead th {\n",
              "        text-align: right;\n",
              "    }\n",
              "</style>\n",
              "<table border=\"1\" class=\"dataframe\">\n",
              "  <thead>\n",
              "    <tr style=\"text-align: right;\">\n",
              "      <th></th>\n",
              "      <th>longitude</th>\n",
              "      <th>latitude</th>\n",
              "      <th>housing_median_age</th>\n",
              "      <th>total_rooms</th>\n",
              "      <th>total_bedrooms</th>\n",
              "      <th>population</th>\n",
              "      <th>households</th>\n",
              "      <th>median_income</th>\n",
              "      <th>median_house_value</th>\n",
              "    </tr>\n",
              "  </thead>\n",
              "  <tbody>\n",
              "    <tr>\n",
              "      <th>0</th>\n",
              "      <td>-122.05</td>\n",
              "      <td>37.37</td>\n",
              "      <td>27.0</td>\n",
              "      <td>3885.0</td>\n",
              "      <td>661.0</td>\n",
              "      <td>1537.0</td>\n",
              "      <td>606.0</td>\n",
              "      <td>6.6085</td>\n",
              "      <td>344700.0</td>\n",
              "    </tr>\n",
              "    <tr>\n",
              "      <th>1</th>\n",
              "      <td>-118.30</td>\n",
              "      <td>34.26</td>\n",
              "      <td>43.0</td>\n",
              "      <td>1510.0</td>\n",
              "      <td>310.0</td>\n",
              "      <td>809.0</td>\n",
              "      <td>277.0</td>\n",
              "      <td>3.5990</td>\n",
              "      <td>176500.0</td>\n",
              "    </tr>\n",
              "    <tr>\n",
              "      <th>2</th>\n",
              "      <td>-117.81</td>\n",
              "      <td>33.78</td>\n",
              "      <td>27.0</td>\n",
              "      <td>3589.0</td>\n",
              "      <td>507.0</td>\n",
              "      <td>1484.0</td>\n",
              "      <td>495.0</td>\n",
              "      <td>5.7934</td>\n",
              "      <td>270500.0</td>\n",
              "    </tr>\n",
              "    <tr>\n",
              "      <th>3</th>\n",
              "      <td>-118.36</td>\n",
              "      <td>33.82</td>\n",
              "      <td>28.0</td>\n",
              "      <td>67.0</td>\n",
              "      <td>15.0</td>\n",
              "      <td>49.0</td>\n",
              "      <td>11.0</td>\n",
              "      <td>6.1359</td>\n",
              "      <td>330000.0</td>\n",
              "    </tr>\n",
              "    <tr>\n",
              "      <th>4</th>\n",
              "      <td>-119.67</td>\n",
              "      <td>36.33</td>\n",
              "      <td>19.0</td>\n",
              "      <td>1241.0</td>\n",
              "      <td>244.0</td>\n",
              "      <td>850.0</td>\n",
              "      <td>237.0</td>\n",
              "      <td>2.9375</td>\n",
              "      <td>81700.0</td>\n",
              "    </tr>\n",
              "  </tbody>\n",
              "</table>\n",
              "</div>"
            ],
            "text/plain": [
              "   longitude  latitude  ...  median_income  median_house_value\n",
              "0    -122.05     37.37  ...         6.6085            344700.0\n",
              "1    -118.30     34.26  ...         3.5990            176500.0\n",
              "2    -117.81     33.78  ...         5.7934            270500.0\n",
              "3    -118.36     33.82  ...         6.1359            330000.0\n",
              "4    -119.67     36.33  ...         2.9375             81700.0\n",
              "\n",
              "[5 rows x 9 columns]"
            ]
          },
          "metadata": {
            "tags": []
          },
          "execution_count": 5
        }
      ]
    },
    {
      "cell_type": "markdown",
      "metadata": {
        "id": "SyjFATP5H3rF"
      },
      "source": [
        "the notebook at this address : https://github.com/dcurator330/Caba_dl/blob/main/DL30_overfitting-and-underfitting.ipynb"
      ]
    },
    {
      "cell_type": "markdown",
      "metadata": {
        "id": "K549obHxE2Tp"
      },
      "source": [
        "The direct colab link to this notebook : https://colab.research.google.com/github/dcurator330/Caba_dl/blob/main/DL22_predicting-house-prices.ipynb"
      ]
    },
    {
      "cell_type": "code",
      "metadata": {
        "id": "oeM8gywu-Uts"
      },
      "source": [
        "li = ['one','two','three']\r\n",
        "li?"
      ],
      "execution_count": null,
      "outputs": []
    },
    {
      "cell_type": "code",
      "metadata": {
        "id": "zM4k7cbPsYvD"
      },
      "source": [
        "li.count?"
      ],
      "execution_count": null,
      "outputs": []
    },
    {
      "cell_type": "code",
      "metadata": {
        "id": "NKDinoqWsiRO"
      },
      "source": [
        "def power(b,n):\r\n",
        "  \"\"\"b의 n승을 반환\"\"\"\r\n",
        "  return pow(b,n)"
      ],
      "execution_count": null,
      "outputs": []
    },
    {
      "cell_type": "code",
      "metadata": {
        "colab": {
          "base_uri": "https://localhost:8080/"
        },
        "id": "6fzELSU9swF8",
        "outputId": "7330a7bb-0eb1-440f-89cf-a5282240455d"
      },
      "source": [
        "power(3,4)"
      ],
      "execution_count": null,
      "outputs": [
        {
          "output_type": "execute_result",
          "data": {
            "text/plain": [
              "81"
            ]
          },
          "metadata": {
            "tags": []
          },
          "execution_count": 5
        }
      ]
    },
    {
      "cell_type": "code",
      "metadata": {
        "id": "1CvsG1dRs0-l"
      },
      "source": [
        "power?\r\n"
      ],
      "execution_count": null,
      "outputs": []
    },
    {
      "cell_type": "code",
      "metadata": {
        "id": "TZBe9g4-tIMy"
      },
      "source": [
        "power??"
      ],
      "execution_count": null,
      "outputs": []
    },
    {
      "cell_type": "code",
      "metadata": {
        "colab": {
          "base_uri": "https://localhost:8080/"
        },
        "id": "dSeO4rCJtRfj",
        "outputId": "7b38bc87-9933-4525-9782-196fa7276410"
      },
      "source": [
        "# 탭 자동완성\r\n",
        "li = ['one','two','three']\r\n",
        "li.append('four')\r\n",
        "li.clear()\r\n",
        "li"
      ],
      "execution_count": null,
      "outputs": [
        {
          "output_type": "execute_result",
          "data": {
            "text/plain": [
              "[]"
            ]
          },
          "metadata": {
            "tags": []
          },
          "execution_count": 15
        }
      ]
    },
    {
      "cell_type": "code",
      "metadata": {
        "id": "uxebE42vuCAH"
      },
      "source": [
        "# 와일드카드 매칭 : 단어의 중간이난 마지막 글자로 매칭하여 객체나 속성 찾기\r\n",
        "*Error?"
      ],
      "execution_count": null,
      "outputs": []
    },
    {
      "cell_type": "code",
      "metadata": {
        "id": "2l-qkA_DuxNj"
      },
      "source": [
        "str.*index?"
      ],
      "execution_count": null,
      "outputs": []
    }
  ]
}