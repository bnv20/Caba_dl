{
  "nbformat": 4,
  "nbformat_minor": 0,
  "metadata": {
    "colab": {
      "name": "DL51_using-convnets-with-small-datasets_guide.ipynb",
      "provenance": [],
      "machine_shape": "hm",
      "mount_file_id": "15DSd0ly9sSDjUx2zQh9bSCmcd26avVcs",
      "authorship_tag": "ABX9TyM58Hgsvo4r4YF83U1VSlnB",
      "include_colab_link": true
    },
    "kernelspec": {
      "name": "python3",
      "display_name": "Python 3"
    },
    "accelerator": "GPU"
  },
  "cells": [
    {
      "cell_type": "markdown",
      "metadata": {
        "id": "view-in-github",
        "colab_type": "text"
      },
      "source": [
        "<a href=\"https://colab.research.google.com/github/bnv20/Caba_dl/blob/main/DL51_using_convnets_with_small_datasets_guide.ipynb\" target=\"_parent\"><img src=\"https://colab.research.google.com/assets/colab-badge.svg\" alt=\"Open In Colab\"/></a>"
      ]
    },
    {
      "cell_type": "code",
      "metadata": {
        "colab": {
          "base_uri": "https://localhost:8080/"
        },
        "id": "Q6MDx4xQmqeq",
        "outputId": "ef30c4ba-fc4f-4cf3-c7b9-39ee8fd40b47"
      },
      "source": [
        "%cd drive/MyDrive/Caba2012_colab/"
      ],
      "execution_count": 2,
      "outputs": [
        {
          "output_type": "stream",
          "text": [
            "/content/drive/MyDrive/Caba2012_colab\n"
          ],
          "name": "stdout"
        }
      ]
    },
    {
      "cell_type": "code",
      "metadata": {
        "id": "usqGyRlurLr1"
      },
      "source": [
        "!unzip cats_and_dogs_small.zip"
      ],
      "execution_count": null,
      "outputs": []
    },
    {
      "cell_type": "code",
      "metadata": {
        "id": "_ZlltjjZr4K9"
      },
      "source": [
        "!rm cats_and_dogs_small.zip"
      ],
      "execution_count": 5,
      "outputs": []
    },
    {
      "cell_type": "code",
      "metadata": {
        "colab": {
          "base_uri": "https://localhost:8080/"
        },
        "id": "ZeRRyhSOtxOt",
        "outputId": "38dcf542-7751-4d36-fbb2-f02b02848d94"
      },
      "source": [
        "!pwd"
      ],
      "execution_count": 2,
      "outputs": [
        {
          "output_type": "stream",
          "text": [
            "/content\n"
          ],
          "name": "stdout"
        }
      ]
    },
    {
      "cell_type": "code",
      "metadata": {
        "id": "7sVqujhisH8T"
      },
      "source": [
        "import os, shutil"
      ],
      "execution_count": 1,
      "outputs": []
    },
    {
      "cell_type": "code",
      "metadata": {
        "id": "vojkM1GQtQ28"
      },
      "source": [
        "# 원본 데이터셋을 압축 해제한 디렉터리 경로\r\n",
        "original_dataset_dir = './drive/MyDrive/colab_lecture/datasets/cats_and_dogs/train'\r\n",
        "\r\n",
        "# 소규모 데이터셋을 저장할 디렉터리\r\n",
        "base_dir = './drive/MyDrive/colab_lecture/datasets/cats_and_dogs_small'\r\n",
        "if os.path.exists(base_dir):  # 반복적인 실행을 위해 디렉토리를 삭제합니다.\r\n",
        "    shutil.rmtree(base_dir)   # shutil : 파일 복제와 삭제 함수 제공\r\n",
        "os.mkdir(base_dir)\r\n",
        "\r\n",
        "# 훈련, 검증, 테스트 분할을 위한 디렉터리\r\n",
        "train_dir = os.path.join(base_dir, 'train')\r\n",
        "# './drive/MyDrive/colab_lecture/datasets/cats_and_dogs_small/train'\r\n",
        "os.mkdir(train_dir)\r\n",
        "validation_dir = os.path.join(base_dir, 'validation')\r\n",
        "os.mkdir(validation_dir)\r\n",
        "test_dir = os.path.join(base_dir, 'test')\r\n",
        "os.mkdir(test_dir)\r\n",
        "\r\n",
        "# 훈련용 고양이 사진 디렉터리\r\n",
        "train_cats_dir = os.path.join(train_dir, 'cats')\r\n",
        "os.mkdir(train_cats_dir)\r\n",
        "\r\n",
        "# 훈련용 강아지 사진 디렉터리\r\n",
        "train_dogs_dir = os.path.join(train_dir, 'dogs')\r\n",
        "os.mkdir(train_dogs_dir)\r\n",
        "\r\n",
        "# 검증용 고양이 사진 디렉터리\r\n",
        "validation_cats_dir = os.path.join(validation_dir, 'cats')\r\n",
        "os.mkdir(validation_cats_dir)\r\n",
        "\r\n",
        "# 검증용 강아지 사진 디렉터리\r\n",
        "validation_dogs_dir = os.path.join(validation_dir, 'dogs')\r\n",
        "os.mkdir(validation_dogs_dir)\r\n",
        "\r\n",
        "# 테스트용 고양이 사진 디렉터리\r\n",
        "test_cats_dir = os.path.join(test_dir, 'cats')\r\n",
        "os.mkdir(test_cats_dir)\r\n",
        "\r\n",
        "# 테스트용 강아지 사진 디렉터리\r\n",
        "test_dogs_dir = os.path.join(test_dir, 'dogs')\r\n",
        "os.mkdir(test_dogs_dir)\r\n",
        "\r\n",
        "# 처음 1,000개의 고양이 이미지를 train_cats_dir에 복사합니다\r\n",
        "fnames = ['cat.{}.jpg'.format(i) for i in range(1000)]\r\n",
        "for fname in fnames:\r\n",
        "    src = os.path.join(original_dataset_dir, fname)\r\n",
        "    dst = os.path.join(train_cats_dir, fname)\r\n",
        "    shutil.copyfile(src, dst)\r\n",
        "\r\n",
        "# 다음 500개 고양이 이미지를 validation_cats_dir에 복사합니다\r\n",
        "fnames = ['cat.{}.jpg'.format(i) for i in range(1000, 1500)]\r\n",
        "for fname in fnames:\r\n",
        "    src = os.path.join(original_dataset_dir, fname)\r\n",
        "    dst = os.path.join(validation_cats_dir, fname)\r\n",
        "    shutil.copyfile(src, dst)\r\n",
        "    \r\n",
        "# 다음 500개 고양이 이미지를 test_cats_dir에 복사합니다\r\n",
        "fnames = ['cat.{}.jpg'.format(i) for i in range(1500, 2000)]\r\n",
        "for fname in fnames:\r\n",
        "    src = os.path.join(original_dataset_dir, fname)\r\n",
        "    dst = os.path.join(test_cats_dir, fname)\r\n",
        "    shutil.copyfile(src, dst)\r\n",
        "    \r\n",
        "# 처음 1,000개의 강아지 이미지를 train_dogs_dir에 복사합니다\r\n",
        "fnames = ['dog.{}.jpg'.format(i) for i in range(1000)]\r\n",
        "for fname in fnames:\r\n",
        "    src = os.path.join(original_dataset_dir, fname)\r\n",
        "    dst = os.path.join(train_dogs_dir, fname)\r\n",
        "    shutil.copyfile(src, dst)\r\n",
        "    \r\n",
        "# 다음 500개 강아지 이미지를 validation_dogs_dir에 복사합니다\r\n",
        "fnames = ['dog.{}.jpg'.format(i) for i in range(1000, 1500)]\r\n",
        "for fname in fnames:\r\n",
        "    src = os.path.join(original_dataset_dir, fname)\r\n",
        "    dst = os.path.join(validation_dogs_dir, fname)\r\n",
        "    shutil.copyfile(src, dst)\r\n",
        "    \r\n",
        "# 다음 500개 강아지 이미지를 test_dogs_dir에 복사합니다\r\n",
        "fnames = ['dog.{}.jpg'.format(i) for i in range(1500, 2000)]\r\n",
        "for fname in fnames:\r\n",
        "    src = os.path.join(original_dataset_dir, fname)\r\n",
        "    dst = os.path.join(test_dogs_dir, fname)\r\n",
        "    shutil.copyfile(src, dst)"
      ],
      "execution_count": null,
      "outputs": []
    },
    {
      "cell_type": "code",
      "metadata": {
        "id": "uKqclRzKzHid"
      },
      "source": [
        "import os, shutil\r\n",
        "base_dir = './drive/MyDrive/colab_lecture/datasets/cats_and_dogs_small'\r\n",
        "\r\n",
        "# 훈련 , 검증, 테스트 분할을 위한 디렉토리\r\n",
        "\r\n",
        "train_dir = os.path.join(base_dir, 'train')\r\n",
        "validation_dir = os.path.join(base_dir,'validation')\r\n",
        "test_dir = os.path.join(base_dir, 'test')\r\n",
        "\r\n",
        "# 훈련용 고양이 사진 디렉토리\r\n",
        "train_cats_dir = os.path.join(train_dir, 'cats')\r\n",
        "\r\n",
        "# 훈련용 강아지 사진 디렉토리\r\n",
        "train_dogs_dir = os.path.join(train_dir,'dogs')\r\n",
        "\r\n",
        "# 검증용\r\n",
        "validation_cats_dir = os.path.join(validation_dir, 'cats')\r\n",
        "validation_dogs_dir = os.path.join(validation_dir,'dogs')\r\n",
        "\r\n",
        "# 테스트용\r\n",
        "test_cats_dir = os.path.join(test_dir, 'cats')\r\n",
        "test_dogs_dir = os.path.join(test_dir,'dogs')"
      ],
      "execution_count": 8,
      "outputs": []
    },
    {
      "cell_type": "code",
      "metadata": {
        "colab": {
          "base_uri": "https://localhost:8080/"
        },
        "id": "jA0yow_P1Qxi",
        "outputId": "aa60e716-4ebc-4281-a67e-83fd9c3a3271"
      },
      "source": [
        "print('훈련용 고양이 이미지 전체 개수:', len(os.listdir(train_cats_dir)))"
      ],
      "execution_count": 7,
      "outputs": [
        {
          "output_type": "stream",
          "text": [
            "훈련용 고양이 이미지 전체 개수: 1000\n"
          ],
          "name": "stdout"
        }
      ]
    },
    {
      "cell_type": "code",
      "metadata": {
        "colab": {
          "base_uri": "https://localhost:8080/"
        },
        "id": "HPZ1KMuh1mtd",
        "outputId": "5a708239-53e7-4804-c088-9e25b7e4c425"
      },
      "source": [
        "print('훈련용 강아지 이미지 전체 개수:', len(os.listdir(train_dogs_dir)))"
      ],
      "execution_count": 9,
      "outputs": [
        {
          "output_type": "stream",
          "text": [
            "훈련용 강아지 이미지 전체 개수: 1000\n"
          ],
          "name": "stdout"
        }
      ]
    },
    {
      "cell_type": "code",
      "metadata": {
        "colab": {
          "base_uri": "https://localhost:8080/"
        },
        "id": "yj6FT2hf1p38",
        "outputId": "2083220a-d1a4-480a-9fb4-8eb30d966a6e"
      },
      "source": [
        "print('검증용 고양이 이미지 전체 개수:', len(os.listdir(validation_cats_dir)))"
      ],
      "execution_count": 10,
      "outputs": [
        {
          "output_type": "stream",
          "text": [
            "검증용 고양이 이미지 전체 개수: 500\n"
          ],
          "name": "stdout"
        }
      ]
    },
    {
      "cell_type": "code",
      "metadata": {
        "colab": {
          "base_uri": "https://localhost:8080/"
        },
        "id": "Ce2vE7uK1tWY",
        "outputId": "46c3ffa1-bb4a-4259-b8ca-2ca281e9f58c"
      },
      "source": [
        "print('검증용 강아지 이미지 전체 개수:', len(os.listdir(validation_dogs_dir)))"
      ],
      "execution_count": 11,
      "outputs": [
        {
          "output_type": "stream",
          "text": [
            "검증용 강아지 이미지 전체 개수: 500\n"
          ],
          "name": "stdout"
        }
      ]
    },
    {
      "cell_type": "code",
      "metadata": {
        "colab": {
          "base_uri": "https://localhost:8080/"
        },
        "id": "kdgaYDiD1uVm",
        "outputId": "42f85b9b-202d-4a6f-e964-b5850ed34d43"
      },
      "source": [
        "print('테스트용 고양이 이미지 전체 개수:', len(os.listdir(test_cats_dir)))"
      ],
      "execution_count": 12,
      "outputs": [
        {
          "output_type": "stream",
          "text": [
            "테스트용 고양이 이미지 전체 개수: 500\n"
          ],
          "name": "stdout"
        }
      ]
    },
    {
      "cell_type": "code",
      "metadata": {
        "colab": {
          "base_uri": "https://localhost:8080/"
        },
        "id": "21yrgMHB1yE0",
        "outputId": "249d4530-f125-40f9-e98f-d070a9a1b110"
      },
      "source": [
        "print('테스트용 고양이 이미지 전체 개수:', len(os.listdir(test_cats_dir)))"
      ],
      "execution_count": 8,
      "outputs": [
        {
          "output_type": "stream",
          "text": [
            "테스트용 고양이 이미지 전체 개수: 500\n"
          ],
          "name": "stdout"
        }
      ]
    },
    {
      "cell_type": "code",
      "metadata": {
        "colab": {
          "base_uri": "https://localhost:8080/",
          "height": 35
        },
        "id": "Pn3YoJX42YYP",
        "outputId": "3be9a4d1-1641-4d74-9774-7a821264cd93"
      },
      "source": [
        "import keras\r\n",
        "keras.__version__"
      ],
      "execution_count": 13,
      "outputs": [
        {
          "output_type": "execute_result",
          "data": {
            "application/vnd.google.colaboratory.intrinsic+json": {
              "type": "string"
            },
            "text/plain": [
              "'2.4.3'"
            ]
          },
          "metadata": {
            "tags": []
          },
          "execution_count": 13
        }
      ]
    },
    {
      "cell_type": "code",
      "metadata": {
        "id": "BF14Ca2f2wCu"
      },
      "source": [
        "!pip uninstall keras\r\n",
        "!pip uninstall tensorflow"
      ],
      "execution_count": null,
      "outputs": []
    },
    {
      "cell_type": "code",
      "metadata": {
        "colab": {
          "base_uri": "https://localhost:8080/"
        },
        "id": "bEPZRYzV3Z2i",
        "outputId": "d3f0ac79-9ac2-4aa0-9b03-10798186c6a8"
      },
      "source": [
        "!pip install keras==2.3.1\r\n",
        "!pip install tensorflow==2.2.0"
      ],
      "execution_count": 1,
      "outputs": [
        {
          "output_type": "stream",
          "text": [
            "Requirement already satisfied: keras==2.3.1 in /usr/local/lib/python3.7/dist-packages (2.3.1)\n",
            "Requirement already satisfied: h5py in /usr/local/lib/python3.7/dist-packages (from keras==2.3.1) (2.10.0)\n",
            "Requirement already satisfied: numpy>=1.9.1 in /usr/local/lib/python3.7/dist-packages (from keras==2.3.1) (1.19.5)\n",
            "Requirement already satisfied: keras-applications>=1.0.6 in /usr/local/lib/python3.7/dist-packages (from keras==2.3.1) (1.0.8)\n",
            "Requirement already satisfied: keras-preprocessing>=1.0.5 in /usr/local/lib/python3.7/dist-packages (from keras==2.3.1) (1.1.2)\n",
            "Requirement already satisfied: pyyaml in /usr/local/lib/python3.7/dist-packages (from keras==2.3.1) (3.13)\n",
            "Requirement already satisfied: six>=1.9.0 in /usr/local/lib/python3.7/dist-packages (from keras==2.3.1) (1.15.0)\n",
            "Requirement already satisfied: scipy>=0.14 in /usr/local/lib/python3.7/dist-packages (from keras==2.3.1) (1.4.1)\n",
            "Collecting tensorflow==2.2.0\n",
            "\u001b[?25l  Downloading https://files.pythonhosted.org/packages/4c/1a/0d79814736cfecc825ab8094b39648cc9c46af7af1bae839928acb73b4dd/tensorflow-2.2.0-cp37-cp37m-manylinux2010_x86_64.whl (516.2MB)\n",
            "\u001b[K     |████████████████████████████████| 516.2MB 27kB/s \n",
            "\u001b[?25hRequirement already satisfied: grpcio>=1.8.6 in /usr/local/lib/python3.7/dist-packages (from tensorflow==2.2.0) (1.32.0)\n",
            "Requirement already satisfied: h5py<2.11.0,>=2.10.0 in /usr/local/lib/python3.7/dist-packages (from tensorflow==2.2.0) (2.10.0)\n",
            "Requirement already satisfied: absl-py>=0.7.0 in /usr/local/lib/python3.7/dist-packages (from tensorflow==2.2.0) (0.10.0)\n",
            "Requirement already satisfied: astunparse==1.6.3 in /usr/local/lib/python3.7/dist-packages (from tensorflow==2.2.0) (1.6.3)\n",
            "Requirement already satisfied: protobuf>=3.8.0 in /usr/local/lib/python3.7/dist-packages (from tensorflow==2.2.0) (3.12.4)\n",
            "Requirement already satisfied: opt-einsum>=2.3.2 in /usr/local/lib/python3.7/dist-packages (from tensorflow==2.2.0) (3.3.0)\n",
            "Requirement already satisfied: six>=1.12.0 in /usr/local/lib/python3.7/dist-packages (from tensorflow==2.2.0) (1.15.0)\n",
            "Requirement already satisfied: wrapt>=1.11.1 in /usr/local/lib/python3.7/dist-packages (from tensorflow==2.2.0) (1.12.1)\n",
            "Requirement already satisfied: wheel>=0.26; python_version >= \"3\" in /usr/local/lib/python3.7/dist-packages (from tensorflow==2.2.0) (0.36.2)\n",
            "Requirement already satisfied: google-pasta>=0.1.8 in /usr/local/lib/python3.7/dist-packages (from tensorflow==2.2.0) (0.2.0)\n",
            "Requirement already satisfied: numpy<2.0,>=1.16.0 in /usr/local/lib/python3.7/dist-packages (from tensorflow==2.2.0) (1.19.5)\n",
            "Collecting tensorboard<2.3.0,>=2.2.0\n",
            "\u001b[?25l  Downloading https://files.pythonhosted.org/packages/1d/74/0a6fcb206dcc72a6da9a62dd81784bfdbff5fedb099982861dc2219014fb/tensorboard-2.2.2-py3-none-any.whl (3.0MB)\n",
            "\u001b[K     |████████████████████████████████| 3.0MB 57.2MB/s \n",
            "\u001b[?25hRequirement already satisfied: scipy==1.4.1; python_version >= \"3\" in /usr/local/lib/python3.7/dist-packages (from tensorflow==2.2.0) (1.4.1)\n",
            "Requirement already satisfied: gast==0.3.3 in /usr/local/lib/python3.7/dist-packages (from tensorflow==2.2.0) (0.3.3)\n",
            "Requirement already satisfied: termcolor>=1.1.0 in /usr/local/lib/python3.7/dist-packages (from tensorflow==2.2.0) (1.1.0)\n",
            "Requirement already satisfied: keras-preprocessing>=1.1.0 in /usr/local/lib/python3.7/dist-packages (from tensorflow==2.2.0) (1.1.2)\n",
            "Collecting tensorflow-estimator<2.3.0,>=2.2.0\n",
            "\u001b[?25l  Downloading https://files.pythonhosted.org/packages/a4/f5/926ae53d6a226ec0fda5208e0e581cffed895ccc89e36ba76a8e60895b78/tensorflow_estimator-2.2.0-py2.py3-none-any.whl (454kB)\n",
            "\u001b[K     |████████████████████████████████| 460kB 60.9MB/s \n",
            "\u001b[?25hRequirement already satisfied: setuptools in /usr/local/lib/python3.7/dist-packages (from protobuf>=3.8.0->tensorflow==2.2.0) (54.0.0)\n",
            "Requirement already satisfied: markdown>=2.6.8 in /usr/local/lib/python3.7/dist-packages (from tensorboard<2.3.0,>=2.2.0->tensorflow==2.2.0) (3.3.4)\n",
            "Requirement already satisfied: requests<3,>=2.21.0 in /usr/local/lib/python3.7/dist-packages (from tensorboard<2.3.0,>=2.2.0->tensorflow==2.2.0) (2.23.0)\n",
            "Requirement already satisfied: werkzeug>=0.11.15 in /usr/local/lib/python3.7/dist-packages (from tensorboard<2.3.0,>=2.2.0->tensorflow==2.2.0) (1.0.1)\n",
            "Requirement already satisfied: google-auth-oauthlib<0.5,>=0.4.1 in /usr/local/lib/python3.7/dist-packages (from tensorboard<2.3.0,>=2.2.0->tensorflow==2.2.0) (0.4.3)\n",
            "Requirement already satisfied: google-auth<2,>=1.6.3 in /usr/local/lib/python3.7/dist-packages (from tensorboard<2.3.0,>=2.2.0->tensorflow==2.2.0) (1.27.1)\n",
            "Requirement already satisfied: tensorboard-plugin-wit>=1.6.0 in /usr/local/lib/python3.7/dist-packages (from tensorboard<2.3.0,>=2.2.0->tensorflow==2.2.0) (1.8.0)\n",
            "Requirement already satisfied: importlib-metadata; python_version < \"3.8\" in /usr/local/lib/python3.7/dist-packages (from markdown>=2.6.8->tensorboard<2.3.0,>=2.2.0->tensorflow==2.2.0) (3.7.2)\n",
            "Requirement already satisfied: urllib3!=1.25.0,!=1.25.1,<1.26,>=1.21.1 in /usr/local/lib/python3.7/dist-packages (from requests<3,>=2.21.0->tensorboard<2.3.0,>=2.2.0->tensorflow==2.2.0) (1.24.3)\n",
            "Requirement already satisfied: chardet<4,>=3.0.2 in /usr/local/lib/python3.7/dist-packages (from requests<3,>=2.21.0->tensorboard<2.3.0,>=2.2.0->tensorflow==2.2.0) (3.0.4)\n",
            "Requirement already satisfied: certifi>=2017.4.17 in /usr/local/lib/python3.7/dist-packages (from requests<3,>=2.21.0->tensorboard<2.3.0,>=2.2.0->tensorflow==2.2.0) (2020.12.5)\n",
            "Requirement already satisfied: idna<3,>=2.5 in /usr/local/lib/python3.7/dist-packages (from requests<3,>=2.21.0->tensorboard<2.3.0,>=2.2.0->tensorflow==2.2.0) (2.10)\n",
            "Requirement already satisfied: requests-oauthlib>=0.7.0 in /usr/local/lib/python3.7/dist-packages (from google-auth-oauthlib<0.5,>=0.4.1->tensorboard<2.3.0,>=2.2.0->tensorflow==2.2.0) (1.3.0)\n",
            "Requirement already satisfied: cachetools<5.0,>=2.0.0 in /usr/local/lib/python3.7/dist-packages (from google-auth<2,>=1.6.3->tensorboard<2.3.0,>=2.2.0->tensorflow==2.2.0) (4.2.1)\n",
            "Requirement already satisfied: rsa<5,>=3.1.4; python_version >= \"3.6\" in /usr/local/lib/python3.7/dist-packages (from google-auth<2,>=1.6.3->tensorboard<2.3.0,>=2.2.0->tensorflow==2.2.0) (4.7.2)\n",
            "Requirement already satisfied: pyasn1-modules>=0.2.1 in /usr/local/lib/python3.7/dist-packages (from google-auth<2,>=1.6.3->tensorboard<2.3.0,>=2.2.0->tensorflow==2.2.0) (0.2.8)\n",
            "Requirement already satisfied: typing-extensions>=3.6.4; python_version < \"3.8\" in /usr/local/lib/python3.7/dist-packages (from importlib-metadata; python_version < \"3.8\"->markdown>=2.6.8->tensorboard<2.3.0,>=2.2.0->tensorflow==2.2.0) (3.7.4.3)\n",
            "Requirement already satisfied: zipp>=0.5 in /usr/local/lib/python3.7/dist-packages (from importlib-metadata; python_version < \"3.8\"->markdown>=2.6.8->tensorboard<2.3.0,>=2.2.0->tensorflow==2.2.0) (3.4.1)\n",
            "Requirement already satisfied: oauthlib>=3.0.0 in /usr/local/lib/python3.7/dist-packages (from requests-oauthlib>=0.7.0->google-auth-oauthlib<0.5,>=0.4.1->tensorboard<2.3.0,>=2.2.0->tensorflow==2.2.0) (3.1.0)\n",
            "Requirement already satisfied: pyasn1>=0.1.3 in /usr/local/lib/python3.7/dist-packages (from rsa<5,>=3.1.4; python_version >= \"3.6\"->google-auth<2,>=1.6.3->tensorboard<2.3.0,>=2.2.0->tensorflow==2.2.0) (0.4.8)\n",
            "Installing collected packages: tensorboard, tensorflow-estimator, tensorflow\n",
            "  Found existing installation: tensorboard 2.4.1\n",
            "    Uninstalling tensorboard-2.4.1:\n",
            "      Successfully uninstalled tensorboard-2.4.1\n",
            "  Found existing installation: tensorflow-estimator 2.4.0\n",
            "    Uninstalling tensorflow-estimator-2.4.0:\n",
            "      Successfully uninstalled tensorflow-estimator-2.4.0\n",
            "Successfully installed tensorboard-2.2.2 tensorflow-2.2.0 tensorflow-estimator-2.2.0\n"
          ],
          "name": "stdout"
        }
      ]
    },
    {
      "cell_type": "code",
      "metadata": {
        "colab": {
          "base_uri": "https://localhost:8080/",
          "height": 53
        },
        "id": "cljHHARL4BTz",
        "outputId": "bb3dd14a-ec40-428d-ea60-feebc1b7f4d4"
      },
      "source": [
        "import keras\r\n",
        "keras.__version__"
      ],
      "execution_count": 2,
      "outputs": [
        {
          "output_type": "stream",
          "text": [
            "Using TensorFlow backend.\n"
          ],
          "name": "stderr"
        },
        {
          "output_type": "execute_result",
          "data": {
            "application/vnd.google.colaboratory.intrinsic+json": {
              "type": "string"
            },
            "text/plain": [
              "'2.3.1'"
            ]
          },
          "metadata": {
            "tags": []
          },
          "execution_count": 2
        }
      ]
    },
    {
      "cell_type": "code",
      "metadata": {
        "id": "eyABSxkM4ti4"
      },
      "source": [
        "from keras import layers\r\n",
        "from keras import models\r\n",
        "\r\n",
        "model = models.Sequential()\r\n",
        "model.add(layers.Conv2D(32,(3,3), activation='relu',\r\n",
        "                        input_shape=(150,150,3)))\r\n",
        "model.add(layers.MaxPooling2D((2,2)))\r\n",
        "model.add(layers.Conv2D(64,(3,3),activation='relu'))\r\n",
        "model.add(layers.MaxPooling2D((2,2)))\r\n",
        "model.add(layers.Conv2D(128,(3,3),activation='relu'))\r\n",
        "model.add(layers.MaxPooling2D((2,2)))\r\n",
        "model.add(layers.Conv2D(128,(3,3),activation='relu'))\r\n",
        "model.add(layers.MaxPooling2D((2,2)))\r\n",
        "model.add(layers.Flatten())\r\n",
        "model.add(layers.Dense(512,activation='relu'))\r\n",
        "model.add(layers.Dense(1,activation='sigmoid'))"
      ],
      "execution_count": 9,
      "outputs": []
    },
    {
      "cell_type": "code",
      "metadata": {
        "colab": {
          "base_uri": "https://localhost:8080/"
        },
        "id": "RNcxP0fs6qDy",
        "outputId": "0d10500c-af37-47e5-8290-2df2b19a3e4c"
      },
      "source": [
        "model.summary()"
      ],
      "execution_count": 10,
      "outputs": [
        {
          "output_type": "stream",
          "text": [
            "Model: \"sequential_3\"\n",
            "_________________________________________________________________\n",
            "Layer (type)                 Output Shape              Param #   \n",
            "=================================================================\n",
            "conv2d_5 (Conv2D)            (None, 148, 148, 32)      896       \n",
            "_________________________________________________________________\n",
            "max_pooling2d_5 (MaxPooling2 (None, 74, 74, 32)        0         \n",
            "_________________________________________________________________\n",
            "conv2d_6 (Conv2D)            (None, 72, 72, 64)        18496     \n",
            "_________________________________________________________________\n",
            "max_pooling2d_6 (MaxPooling2 (None, 36, 36, 64)        0         \n",
            "_________________________________________________________________\n",
            "conv2d_7 (Conv2D)            (None, 34, 34, 128)       73856     \n",
            "_________________________________________________________________\n",
            "max_pooling2d_7 (MaxPooling2 (None, 17, 17, 128)       0         \n",
            "_________________________________________________________________\n",
            "conv2d_8 (Conv2D)            (None, 15, 15, 128)       147584    \n",
            "_________________________________________________________________\n",
            "max_pooling2d_8 (MaxPooling2 (None, 7, 7, 128)         0         \n",
            "_________________________________________________________________\n",
            "flatten_2 (Flatten)          (None, 6272)              0         \n",
            "_________________________________________________________________\n",
            "dense_3 (Dense)              (None, 512)               3211776   \n",
            "_________________________________________________________________\n",
            "dense_4 (Dense)              (None, 1)                 513       \n",
            "=================================================================\n",
            "Total params: 3,453,121\n",
            "Trainable params: 3,453,121\n",
            "Non-trainable params: 0\n",
            "_________________________________________________________________\n"
          ],
          "name": "stdout"
        }
      ]
    },
    {
      "cell_type": "code",
      "metadata": {
        "id": "QKkeX9qb67DH"
      },
      "source": [
        "from keras import optimizers\r\n",
        "model.compile(loss='binary_crossentropy',\r\n",
        "              optimizer=optimizers.RMSprop(lr=1e-4),\r\n",
        "              metrics=['acc'])"
      ],
      "execution_count": 11,
      "outputs": []
    },
    {
      "cell_type": "markdown",
      "metadata": {
        "id": "zz9mxnXN7ljr"
      },
      "source": [
        "데이터 전처리  \r\n",
        "\r\n",
        "데이터는 네트워크에 주입되기 전에 부동 소수 타입의 텐서로 적절하게 전처리되어 있어야 합니다. 지금은 데이터가 JPEG 파일로 되어 있으므로 네트워크에 주입하려면 대략 다음 과정을 따릅니다.\r\n",
        "\r\n",
        "1. 사진 파일을 읽습니다.\r\n",
        "2. JPEG 콘텐츠를 RGB 픽셀 값으로 디코딩합니다.\r\n",
        "3. 그다음 부동 소수 타입의 텐서로 변환합니다.\r\n",
        "4. 픽셀 값(0에서 255 사이)의 스케일을 [0, 1] 사이로 조정합니다(신경망은 작은 입력 값을 선호합니다).\r\n",
        "\r\n",
        "케라스는 keras.preprocessing.image에 이미지 처리를 위한 헬퍼 도구를 가지고 있다. 대표적인 클래스가 imageDataGenerator이며 디스크에 있는 이미지 파일을 전처리된 배치 텐서로 자동 변환하는 파이썬 제너레이터를 만들어 준다."
      ]
    },
    {
      "cell_type": "code",
      "metadata": {
        "colab": {
          "base_uri": "https://localhost:8080/"
        },
        "id": "EX_lZOUD7vbV",
        "outputId": "011df539-2a11-4d2c-ad40-0688809465d7"
      },
      "source": [
        "from keras.preprocessing.image import ImageDataGenerator\r\n",
        "\r\n",
        "train_datagen = ImageDataGenerator(rescale=1./255)\r\n",
        "test_datagen = ImageDataGenerator(rescale=1./255)\r\n",
        "\r\n",
        "train_generator = train_datagen.flow_from_directory(\r\n",
        "    train_dir,\r\n",
        "    target_size=(150,150),\r\n",
        "    batch_size=20,\r\n",
        "    class_mode='binary')\r\n",
        "\r\n",
        "validation_generator = test_datagen.flow_from_directory(\r\n",
        "    validation_dir,\r\n",
        "    target_size = (150,150),\r\n",
        "    batch_size=20,\r\n",
        "    class_mode='binary')\r\n"
      ],
      "execution_count": 14,
      "outputs": [
        {
          "output_type": "stream",
          "text": [
            "Found 2000 images belonging to 2 classes.\n",
            "Found 1000 images belonging to 2 classes.\n"
          ],
          "name": "stdout"
        }
      ]
    },
    {
      "cell_type": "code",
      "metadata": {
        "colab": {
          "base_uri": "https://localhost:8080/"
        },
        "id": "UXl_eUfoDKJ-",
        "outputId": "afae26c7-fa9c-4c3b-de1b-c0f091d88194"
      },
      "source": [
        "for data_batch, labels_batch in train_generator:\r\n",
        "  print('배치 데이터 크기:', data_batch.shape)\r\n",
        "  print('배치 레이블 크기:', labels_batch.shape)\r\n",
        "  break"
      ],
      "execution_count": 17,
      "outputs": [
        {
          "output_type": "stream",
          "text": [
            "배치 데이터 크기: (20, 150, 150, 3)\n",
            "배치 레이블 크기: (20,)\n"
          ],
          "name": "stdout"
        }
      ]
    },
    {
      "cell_type": "markdown",
      "metadata": {
        "id": "ukVJ4cE6EKVs"
      },
      "source": [
        "제너레이터를 사용한 데이터에 모델을 훈련\r\n",
        "- `fit_generator` 메서드는 `fit` 메서드와 동일하되 데이터 제너레이터를 사용할 수 있다.\r\n",
        "- 이 메서드는 첫 번째 매개변수로 입력과 타깃의 배치를 끝없이 반환하는 파이썬 제너레이터를 기대한다.\r\n",
        "- 데이터가 끝없이 생성되기 때문에 케라스 모델에 하나의 에포크를 정의하기 위해 제너레이터로부터 얼마나 많은 샘플을 뽑을 것인지 알려 주어야 한다. \r\n",
        "- `steps_per_epoch` 매개변수에서 이를 설정한다. \r\n",
        "- 제너레이터로부터 `steps_per_epoch` 개의 배치만큼 뽑은 다음, 즉 `steps_per_epoch` 횟수만큼 경사 하강법 단계를 실행한 다음에 훈련 프로세스는 다음 에포크로 넘어간다.\r\n",
        "- 20개의 샘플이 하나의 배치이므로 2,000개의 샘플을 모두 처리할 때까지 100개의 배치를 뽑을 것이다.\r\n",
        "- `fit_generator`를 사용할 때 `fit` 메서드와 마찬가지로 `validation_data` 매개변수를 전달할 수 있다. \r\n",
        "- 이 매개변수에는 데이터 제너레이터도 가능하지만 넘파이 배열의 튜플도 가능하다.\r\n",
        "- `validation_data`로 제너레이터를 전달하면 검증 데이터의 배치를 끝없이 반환한다.\r\n",
        "- 따라서 검증 데이터 제너레이터에서 얼마나 많은 배치를 추출하여 평가할지 `validation_steps` 매개변수에 지정해야 한다."
      ]
    },
    {
      "cell_type": "code",
      "metadata": {
        "colab": {
          "base_uri": "https://localhost:8080/"
        },
        "id": "SHIBYQzGEAfP",
        "outputId": "f8c8d585-68ed-4f23-fe01-7e5c2567c397"
      },
      "source": [
        "history = model.fit_generator(\r\n",
        "    train_generator,\r\n",
        "    steps_per_epoch=100,\r\n",
        "    epochs=30,\r\n",
        "    validation_data=validation_generator,\r\n",
        "    validation_steps=50)\r\n"
      ],
      "execution_count": 19,
      "outputs": [
        {
          "output_type": "stream",
          "text": [
            "Epoch 1/30\n",
            "100/100 [==============================] - 698s 7s/step - loss: 0.6848 - acc: 0.5660 - val_loss: 0.6982 - val_acc: 0.5240\n",
            "Epoch 2/30\n",
            "100/100 [==============================] - 9s 88ms/step - loss: 0.6520 - acc: 0.6255 - val_loss: 0.6165 - val_acc: 0.6270\n",
            "Epoch 3/30\n",
            "100/100 [==============================] - 9s 88ms/step - loss: 0.6028 - acc: 0.6745 - val_loss: 0.7103 - val_acc: 0.6320\n",
            "Epoch 4/30\n",
            "100/100 [==============================] - 9s 87ms/step - loss: 0.5676 - acc: 0.6920 - val_loss: 0.6787 - val_acc: 0.6710\n",
            "Epoch 5/30\n",
            "100/100 [==============================] - 9s 87ms/step - loss: 0.5379 - acc: 0.7135 - val_loss: 0.5009 - val_acc: 0.6950\n",
            "Epoch 6/30\n",
            "100/100 [==============================] - 9s 87ms/step - loss: 0.5066 - acc: 0.7475 - val_loss: 0.6302 - val_acc: 0.7150\n",
            "Epoch 7/30\n",
            "100/100 [==============================] - 9s 87ms/step - loss: 0.4820 - acc: 0.7715 - val_loss: 0.4589 - val_acc: 0.7140\n",
            "Epoch 8/30\n",
            "100/100 [==============================] - 9s 87ms/step - loss: 0.4466 - acc: 0.7955 - val_loss: 0.4901 - val_acc: 0.6980\n",
            "Epoch 9/30\n",
            "100/100 [==============================] - 9s 90ms/step - loss: 0.4200 - acc: 0.8150 - val_loss: 0.4809 - val_acc: 0.7180\n",
            "Epoch 10/30\n",
            "100/100 [==============================] - 9s 87ms/step - loss: 0.3970 - acc: 0.8250 - val_loss: 0.6939 - val_acc: 0.7050\n",
            "Epoch 11/30\n",
            "100/100 [==============================] - 9s 86ms/step - loss: 0.3660 - acc: 0.8305 - val_loss: 0.4429 - val_acc: 0.7250\n",
            "Epoch 12/30\n",
            "100/100 [==============================] - 9s 86ms/step - loss: 0.3423 - acc: 0.8405 - val_loss: 0.4480 - val_acc: 0.7340\n",
            "Epoch 13/30\n",
            "100/100 [==============================] - 9s 87ms/step - loss: 0.3324 - acc: 0.8530 - val_loss: 0.7622 - val_acc: 0.7150\n",
            "Epoch 14/30\n",
            "100/100 [==============================] - 9s 87ms/step - loss: 0.2980 - acc: 0.8830 - val_loss: 0.7286 - val_acc: 0.7440\n",
            "Epoch 15/30\n",
            "100/100 [==============================] - 9s 86ms/step - loss: 0.2793 - acc: 0.8810 - val_loss: 0.4051 - val_acc: 0.7370\n",
            "Epoch 16/30\n",
            "100/100 [==============================] - 9s 86ms/step - loss: 0.2482 - acc: 0.9065 - val_loss: 0.9007 - val_acc: 0.7470\n",
            "Epoch 17/30\n",
            "100/100 [==============================] - 9s 86ms/step - loss: 0.2303 - acc: 0.9080 - val_loss: 0.3812 - val_acc: 0.7400\n",
            "Epoch 18/30\n",
            "100/100 [==============================] - 9s 86ms/step - loss: 0.2092 - acc: 0.9200 - val_loss: 0.5301 - val_acc: 0.7500\n",
            "Epoch 19/30\n",
            "100/100 [==============================] - 9s 86ms/step - loss: 0.1962 - acc: 0.9265 - val_loss: 0.7621 - val_acc: 0.7470\n",
            "Epoch 20/30\n",
            "100/100 [==============================] - 9s 86ms/step - loss: 0.1736 - acc: 0.9305 - val_loss: 0.8380 - val_acc: 0.7620\n",
            "Epoch 21/30\n",
            "100/100 [==============================] - 9s 86ms/step - loss: 0.1551 - acc: 0.9460 - val_loss: 0.8213 - val_acc: 0.7430\n",
            "Epoch 22/30\n",
            "100/100 [==============================] - 9s 86ms/step - loss: 0.1337 - acc: 0.9540 - val_loss: 1.0695 - val_acc: 0.7510\n",
            "Epoch 23/30\n",
            "100/100 [==============================] - 9s 86ms/step - loss: 0.1260 - acc: 0.9650 - val_loss: 1.0309 - val_acc: 0.7380\n",
            "Epoch 24/30\n",
            "100/100 [==============================] - 9s 86ms/step - loss: 0.1024 - acc: 0.9705 - val_loss: 1.4044 - val_acc: 0.7470\n",
            "Epoch 25/30\n",
            "100/100 [==============================] - 9s 86ms/step - loss: 0.0953 - acc: 0.9710 - val_loss: 0.4910 - val_acc: 0.7510\n",
            "Epoch 26/30\n",
            "100/100 [==============================] - 9s 86ms/step - loss: 0.0792 - acc: 0.9760 - val_loss: 0.7411 - val_acc: 0.7590\n",
            "Epoch 27/30\n",
            "100/100 [==============================] - 9s 85ms/step - loss: 0.0685 - acc: 0.9830 - val_loss: 0.3982 - val_acc: 0.7560\n",
            "Epoch 28/30\n",
            "100/100 [==============================] - 9s 86ms/step - loss: 0.0588 - acc: 0.9850 - val_loss: 1.1422 - val_acc: 0.7540\n",
            "Epoch 29/30\n",
            "100/100 [==============================] - 9s 86ms/step - loss: 0.0583 - acc: 0.9845 - val_loss: 1.2417 - val_acc: 0.7210\n",
            "Epoch 30/30\n",
            "100/100 [==============================] - 9s 86ms/step - loss: 0.0455 - acc: 0.9860 - val_loss: 0.6374 - val_acc: 0.7390\n"
          ],
          "name": "stdout"
        }
      ]
    },
    {
      "cell_type": "code",
      "metadata": {
        "id": "eCpAPBcXGhp_"
      },
      "source": [
        "# 모델 저장\r\n",
        "model.save('drive/MyDrive/colab_lecture/cats_and_dogs_small_1.h5')\r\n"
      ],
      "execution_count": 20,
      "outputs": []
    },
    {
      "cell_type": "code",
      "metadata": {
        "id": "8A4sliRcHK1p"
      },
      "source": [
        "# 모델 불러오기\r\n",
        "from keras.models import load_model\r\n",
        "model = load_model('drive/MyDrive/colab_lecture/cats_and_dogs_small_1.h5')"
      ],
      "execution_count": null,
      "outputs": []
    },
    {
      "cell_type": "code",
      "metadata": {
        "colab": {
          "base_uri": "https://localhost:8080/",
          "height": 545
        },
        "id": "2oqrcTP9Hf-8",
        "outputId": "711c0d67-b758-425b-ca6b-9f02b93bb9e4"
      },
      "source": [
        "import matplotlib.pyplot as plt\r\n",
        "\r\n",
        "acc = history.history['acc']\r\n",
        "val_acc = history.history['val_acc']\r\n",
        "loss = history.history['loss']\r\n",
        "val_loss = history.history['val_loss']\r\n",
        "\r\n",
        "epochs = range(len(acc))\r\n",
        "\r\n",
        "plt.plot(epochs, acc, 'bo', label='Training acc')\r\n",
        "plt.plot(epochs, val_acc, 'b', label='Validation acc')\r\n",
        "plt.title('Training and validation accuracy')\r\n",
        "plt.legend()\r\n",
        "\r\n",
        "plt.figure()\r\n",
        "\r\n",
        "plt.plot(epochs, loss, 'bo', label='Training loss')\r\n",
        "plt.plot(epochs, val_loss, 'b', label='Validation loss')\r\n",
        "plt.title('Training and validation loss')\r\n",
        "plt.legend()\r\n",
        "\r\n",
        "plt.show()"
      ],
      "execution_count": 22,
      "outputs": [
        {
          "output_type": "display_data",
          "data": {
            "image/png": "[encoded data removed]",
            "text/plain": [
              "<Figure size 432x288 with 1 Axes>"
            ]
          },
          "metadata": {
            "tags": [],
            "needs_background": "light"
          }
        },
        {
          "output_type": "display_data",
          "data": {
            "image/png": "[encoded data removed]",
            "text/plain": [
              "<Figure size 432x288 with 1 Axes>"
            ]
          },
          "metadata": {
            "tags": [],
            "needs_background": "light"
          }
        }
      ]
    }
  ]
}